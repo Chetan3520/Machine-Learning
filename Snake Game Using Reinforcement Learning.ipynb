{
 "cells": [
  {
   "cell_type": "markdown",
   "id": "d7324ef3",
   "metadata": {},
   "source": [
    "# Snake Game Using Deep Learning"
   ]
  },
  {
   "cell_type": "code",
   "execution_count": 1,
   "id": "f2649d69",
   "metadata": {},
   "outputs": [
    {
     "name": "stdout",
     "output_type": "stream",
     "text": [
      "Requirement already satisfied: pygame in c:\\users\\dell\\anaconda3\\lib\\site-packages (2.1.2)\n"
     ]
    }
   ],
   "source": [
    "!pip install pygame"
   ]
  },
  {
   "cell_type": "code",
   "execution_count": 2,
   "id": "5e8a66ce",
   "metadata": {},
   "outputs": [
    {
     "name": "stdout",
     "output_type": "stream",
     "text": [
      "pygame 2.1.2 (SDL 2.0.18, Python 3.8.8)\n",
      "Hello from the pygame community. https://www.pygame.org/contribute.html\n",
      "[290, 290, 290, 290, 290] [290, 270, 250, 230, 210]\n",
      "[290, 290, 290, 290, 290] [310, 290, 270, 250, 230]\n",
      "[290, 290, 290, 290, 290] [330, 310, 290, 270, 250]\n",
      "[290, 290, 290, 290, 290] [350, 330, 310, 290, 270]\n",
      "[290, 290, 290, 290, 290] [370, 350, 330, 310, 290]\n",
      "[290, 290, 290, 290, 290] [390, 370, 350, 330, 310]\n",
      "[290, 290, 290, 290, 290] [410, 390, 370, 350, 330]\n",
      "[290, 290, 290, 290, 290] [430, 410, 390, 370, 350]\n",
      "[290, 290, 290, 290, 290] [450, 430, 410, 390, 370]\n",
      "[290, 290, 290, 290, 290] [470, 450, 430, 410, 390]\n",
      "[290, 290, 290, 290, 290] [490, 470, 450, 430, 410]\n",
      "[290, 290, 290, 290, 290] [510, 490, 470, 450, 430]\n",
      "[290, 290, 290, 290, 290] [530, 510, 490, 470, 450]\n",
      "[290, 290, 290, 290, 290] [550, 530, 510, 490, 470]\n",
      "[290, 290, 290, 290, 290] [570, 550, 530, 510, 490]\n",
      "[290, 290, 290, 290, 290] [590, 570, 550, 530, 510]\n"
     ]
    },
    {
     "ename": "SystemExit",
     "evalue": "0",
     "output_type": "error",
     "traceback": [
      "An exception has occurred, use %tb to see the full traceback.\n",
      "\u001b[1;31mSystemExit\u001b[0m\u001b[1;31m:\u001b[0m 0\n"
     ]
    },
    {
     "name": "stderr",
     "output_type": "stream",
     "text": [
      "C:\\Users\\DELL\\anaconda3\\lib\\site-packages\\IPython\\core\\interactiveshell.py:3445: UserWarning: To exit: use 'exit', 'quit', or Ctrl-D.\n",
      "  warn(\"To exit: use 'exit', 'quit', or Ctrl-D.\", stacklevel=1)\n"
     ]
    }
   ],
   "source": [
    "import pygame, random, sys\n",
    "from pygame.locals import *\n",
    "def collide(x1, x2, y1, y2, w1, w2, h1, h2):\n",
    "    if x1+w1>x2 and x1<x2+w2 and y1+h1>y2 and y1<y2+h2:\n",
    "        return True\n",
    "    else:\n",
    "        return False\n",
    "\n",
    "def die(screen, score):\n",
    "    f=pygame.font.SysFont('Arial', 30);t=f.render('Your score was: '+str(score), True, (0, 0, 0));screen.blit(t, (10, 270));pygame.display.update();pygame.time.wait(2000);sys.exit(0)\n",
    "\n",
    "xs = [290, 290, 290, 290, 290];ys = [290, 270, 250, 230, 210];dirs = 0;score = 0;\n",
    "applepos = (random.randint(0, 590), random.randint(0, 590));\n",
    "pygame.init();\n",
    "\n",
    "s=pygame.display.set_mode((600, 600));\n",
    "pygame.display.set_caption('Snake');\n",
    "appleimage = pygame.Surface((10, 10));\n",
    "appleimage.fill((0, 255, 0));\n",
    "img = pygame.Surface((20, 20));\n",
    "img.fill((255, 0, 0));\n",
    "f = pygame.font.SysFont('Arial', 20);\n",
    "clock = pygame.time.Clock()\n",
    "while True:\n",
    "    clock.tick(10)\n",
    "    for e in pygame.event.get():\n",
    "        if e.type == QUIT:\n",
    "            sys.exit(0)\n",
    "        elif e.type == KEYDOWN:\n",
    "            if e.key == K_UP and dirs != 0:dirs = 2\n",
    "            elif e.key == K_DOWN and dirs != 2:dirs = 0\n",
    "            elif e.key == K_LEFT and dirs != 1:dirs = 3\n",
    "            elif e.key == K_RIGHT and dirs != 3:dirs = 1\n",
    "    i = len(xs)-1\n",
    "    while i >= 2:\n",
    "        if collide(xs[0], xs[i], ys[0], ys[i], 20, 20, 20, 20):\n",
    "            die(s, score)\n",
    "        i-= 1\n",
    "    if collide(xs[0], applepos[0], ys[0], applepos[1], 20, 10, 20, 10):\n",
    "        score+=1;\n",
    "        xs.append(700);\n",
    "        ys.append(700);\n",
    "        applepos=(random.randint(0,590),random.randint(0,590))\n",
    "    print(xs,ys)\n",
    "      \n",
    "    if xs[0] < 0 or xs[0] > 580 or ys[0] < 0 or ys[0] > 580:\n",
    "        die(s, score)\n",
    "    i = len(xs)-1\n",
    "    while i >= 1:\n",
    "        xs[i] = xs[i-1];ys[i] = ys[i-1];i -= 1\n",
    "    if dirs==0:ys[0] += 20\n",
    "    elif dirs==1:xs[0] += 20\n",
    "    elif dirs==2:ys[0] -= 20\n",
    "    elif dirs==3:xs[0] -= 20    \n",
    "    s.fill((255, 255, 255))    \n",
    "    for i in range(0, len(xs)):\n",
    "        s.blit(img, (xs[i], ys[i]))\n",
    "    s.blit(appleimage, applepos);t=f.render(str(score), True, (0, 0, 0));s.blit(t, (10, 10));pygame.display.update()\n"
   ]
  },
  {
   "cell_type": "code",
   "execution_count": null,
   "id": "8c7aa66c",
   "metadata": {},
   "outputs": [],
   "source": []
  },
  {
   "cell_type": "code",
   "execution_count": null,
   "id": "3a1d5c3d",
   "metadata": {},
   "outputs": [],
   "source": []
  }
 ],
 "metadata": {
  "kernelspec": {
   "display_name": "Python 3",
   "language": "python",
   "name": "python3"
  },
  "language_info": {
   "codemirror_mode": {
    "name": "ipython",
    "version": 3
   },
   "file_extension": ".py",
   "mimetype": "text/x-python",
   "name": "python",
   "nbconvert_exporter": "python",
   "pygments_lexer": "ipython3",
   "version": "3.8.8"
  }
 },
 "nbformat": 4,
 "nbformat_minor": 5
}
