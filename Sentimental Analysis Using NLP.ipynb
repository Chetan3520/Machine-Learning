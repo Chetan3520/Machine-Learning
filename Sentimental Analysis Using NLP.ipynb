{
 "cells": [
  {
   "cell_type": "markdown",
   "id": "7b6496e1",
   "metadata": {},
   "source": [
    "# Sentimental Analysis Using NLP"
   ]
  },
  {
   "cell_type": "markdown",
   "id": "1367c996",
   "metadata": {},
   "source": [
    "# Brief Review of Natural Language Processing"
   ]
  },
  {
   "cell_type": "markdown",
   "id": "f977bcac",
   "metadata": {},
   "source": [
    "# NLP"
   ]
  },
  {
   "cell_type": "markdown",
   "id": "ef66834c",
   "metadata": {},
   "source": [
    "Understanding and replying the human language.\n"
   ]
  },
  {
   "cell_type": "markdown",
   "id": "1b80c892",
   "metadata": {},
   "source": [
    "__branch__"
   ]
  },
  {
   "cell_type": "markdown",
   "id": "59adfb5d",
   "metadata": {},
   "source": [
    "1. __Natural Language Understanding__:(NLU) is the Artificial Inteligence that uses computer software to understand input made in the form sentence in the text or speech format."
   ]
  },
  {
   "cell_type": "markdown",
   "id": "a7f2bf29",
   "metadata": {},
   "source": [
    "2. __Natural Language Generation__:(NLG) is the software process which transforms structure data into natural Languge.It can be use to produced long form content for organizations to automate custom reports. as well as produce custom content for web or mobile."
   ]
  },
  {
   "cell_type": "markdown",
   "id": "ed14fbd1",
   "metadata": {},
   "source": [
    "__NLP Terminology__"
   ]
  },
  {
   "cell_type": "markdown",
   "id": "3348d536",
   "metadata": {},
   "source": [
    "1. __Tokenization__:breaking the strings into small tokens or words."
   ]
  },
  {
   "cell_type": "markdown",
   "id": "14967fd4",
   "metadata": {},
   "source": [
    "ex."
   ]
  },
  {
   "cell_type": "markdown",
   "id": "f17f77c8",
   "metadata": {},
   "source": [
    " what's the time now?\n",
    "\n",
    "\n",
    "what's ,the, time ,now,"
   ]
  },
  {
   "cell_type": "markdown",
   "id": "5d32ceb3",
   "metadata": {},
   "source": [
    "2. __Stemming__:Normalizing the words into its base form or its root form."
   ]
  },
  {
   "cell_type": "markdown",
   "id": "4a0eb584",
   "metadata": {},
   "source": [
    " ex."
   ]
  },
  {
   "cell_type": "markdown",
   "id": "e6bc7719",
   "metadata": {},
   "source": [
    "playing, played, plays"
   ]
  },
  {
   "cell_type": "markdown",
   "id": "7e9a8133",
   "metadata": {},
   "source": [
    "play"
   ]
  },
  {
   "cell_type": "markdown",
   "id": "7ea8ed4f",
   "metadata": {},
   "source": [
    "3. __Lemmatization__:grouping different inflected form of word called lemma(simmilar to stemming but return different words)"
   ]
  },
  {
   "cell_type": "markdown",
   "id": "8dff7d29",
   "metadata": {},
   "source": [
    "ex."
   ]
  },
  {
   "cell_type": "markdown",
   "id": "66c33c31",
   "metadata": {},
   "source": [
    "better,super,excellent"
   ]
  },
  {
   "cell_type": "markdown",
   "id": "be64a6da",
   "metadata": {},
   "source": [
    "good"
   ]
  },
  {
   "cell_type": "markdown",
   "id": "a0d6d7ca",
   "metadata": {},
   "source": [
    "4. __POS__: parts of speech, Identifying the words as nouns, verbs, adjective or its form of part of speech in the sentence."
   ]
  },
  {
   "cell_type": "markdown",
   "id": "7581c103",
   "metadata": {},
   "source": [
    "ex. Google about pantech solutions."
   ]
  },
  {
   "cell_type": "markdown",
   "id": "f6a95170",
   "metadata": {},
   "source": [
    "Google is verb in the sentence."
   ]
  },
  {
   "cell_type": "markdown",
   "id": "9d89d7f4",
   "metadata": {},
   "source": [
    "5.__Name entity recognization__: Recognizing the words as movie, monetary values,organizations,location,quantity or person."
   ]
  },
  {
   "cell_type": "markdown",
   "id": "46b6cb34",
   "metadata": {},
   "source": [
    "ex. Google about pantech solutions."
   ]
  },
  {
   "cell_type": "markdown",
   "id": "d657eaa6",
   "metadata": {},
   "source": [
    "Google:verb\n",
    "\n",
    "\n",
    "pantech solution: Organization"
   ]
  },
  {
   "cell_type": "markdown",
   "id": "c2f2c612",
   "metadata": {},
   "source": [
    "6. Chunking: picking peaces of words and form into phrases."
   ]
  },
  {
   "cell_type": "markdown",
   "id": "335ddcd6",
   "metadata": {},
   "source": [
    "what's ,the, time ,now,\n",
    "\n",
    " what's the time now?\n"
   ]
  },
  {
   "cell_type": "markdown",
   "id": "8cccca25",
   "metadata": {},
   "source": [
    "### Natural Language Toolkit"
   ]
  },
  {
   "cell_type": "markdown",
   "id": "eaeb1080",
   "metadata": {},
   "source": [
    "this Toolkit is one of the most powerfull NLP libraries which contains the packages which make machine to understand human language and reply to it with an appropriate response."
   ]
  },
  {
   "cell_type": "markdown",
   "id": "aaa6642c",
   "metadata": {},
   "source": [
    "### Feature Extraction in text"
   ]
  },
  {
   "cell_type": "markdown",
   "id": "0566e2d7",
   "metadata": {},
   "source": [
    "1. __CountVectorizer__:Convert the collection of text documents to matrix of token counts."
   ]
  },
  {
   "cell_type": "markdown",
   "id": "07854d87",
   "metadata": {},
   "source": [
    "2. __HashingVectorizer__: Convert the collection of text documets to matrix of token occurances."
   ]
  },
  {
   "cell_type": "markdown",
   "id": "bd78d118",
   "metadata": {},
   "source": [
    "3. __TfidfVectorizer__:(Terms frequency_times inverse document frequency).Convert row documents to a matrix of TF-IDF features"
   ]
  },
  {
   "cell_type": "markdown",
   "id": "6046453e",
   "metadata": {},
   "source": [
    "# Import Libraries"
   ]
  },
  {
   "cell_type": "code",
   "execution_count": 1,
   "id": "cc0bdc7c",
   "metadata": {},
   "outputs": [
    {
     "name": "stdout",
     "output_type": "stream",
     "text": [
      "Requirement already satisfied: nltk in c:\\users\\dell\\anaconda3\\lib\\site-packages (3.6.1)\n",
      "Requirement already satisfied: regex in c:\\users\\dell\\anaconda3\\lib\\site-packages (from nltk) (2021.4.4)\n",
      "Requirement already satisfied: joblib in c:\\users\\dell\\anaconda3\\lib\\site-packages (from nltk) (1.0.1)\n",
      "Requirement already satisfied: tqdm in c:\\users\\dell\\anaconda3\\lib\\site-packages (from nltk) (4.59.0)\n",
      "Requirement already satisfied: click in c:\\users\\dell\\anaconda3\\lib\\site-packages (from nltk) (7.1.2)\n"
     ]
    }
   ],
   "source": [
    "!pip install nltk"
   ]
  },
  {
   "cell_type": "code",
   "execution_count": 13,
   "id": "e12f32c7",
   "metadata": {},
   "outputs": [],
   "source": [
    "import numpy as np\n",
    "import pandas as pd\n",
    "import re #regular expression.\n",
    "import matplotlib.pyplot as plt \n",
    "\n",
    "from nltk.corpus import stopwords\n",
    "\n",
    "from sklearn.feature_extraction.text import TfidfVectorizer\n",
    "from sklearn.ensemble import RandomForestClassifier\n",
    "from sklearn.metrics import accuracy_score\n",
    "\n",
    "from sklearn.model_selection import train_test_split"
   ]
  },
  {
   "cell_type": "code",
   "execution_count": 16,
   "id": "d32cabc2",
   "metadata": {},
   "outputs": [],
   "source": [
    "import warnings\n",
    "warnings.filterwarnings('ignore')"
   ]
  },
  {
   "cell_type": "markdown",
   "id": "06338049",
   "metadata": {},
   "source": [
    "# Import Dataset"
   ]
  },
  {
   "cell_type": "code",
   "execution_count": 17,
   "id": "a21a05c1",
   "metadata": {},
   "outputs": [],
   "source": [
    "df=pd.read_csv(r\"C:\\Users\\DELL\\OneDrive\\Documents\\CSV Files\\Sentiment_data.csv\")"
   ]
  },
  {
   "cell_type": "code",
   "execution_count": 18,
   "id": "c641e8ff",
   "metadata": {},
   "outputs": [
    {
     "data": {
      "text/html": [
       "<div>\n",
       "<style scoped>\n",
       "    .dataframe tbody tr th:only-of-type {\n",
       "        vertical-align: middle;\n",
       "    }\n",
       "\n",
       "    .dataframe tbody tr th {\n",
       "        vertical-align: top;\n",
       "    }\n",
       "\n",
       "    .dataframe thead th {\n",
       "        text-align: right;\n",
       "    }\n",
       "</style>\n",
       "<table border=\"1\" class=\"dataframe\">\n",
       "  <thead>\n",
       "    <tr style=\"text-align: right;\">\n",
       "      <th></th>\n",
       "      <th>tweet_id</th>\n",
       "      <th>airline_sentiment</th>\n",
       "      <th>airline_sentiment_confidence</th>\n",
       "      <th>negativereason</th>\n",
       "      <th>negativereason_confidence</th>\n",
       "      <th>airline</th>\n",
       "      <th>airline_sentiment_gold</th>\n",
       "      <th>name</th>\n",
       "      <th>negativereason_gold</th>\n",
       "      <th>retweet_count</th>\n",
       "      <th>text</th>\n",
       "      <th>tweet_coord</th>\n",
       "      <th>tweet_created</th>\n",
       "      <th>tweet_location</th>\n",
       "      <th>user_timezone</th>\n",
       "    </tr>\n",
       "  </thead>\n",
       "  <tbody>\n",
       "    <tr>\n",
       "      <th>0</th>\n",
       "      <td>5.703060e+17</td>\n",
       "      <td>neutral</td>\n",
       "      <td>1.0000</td>\n",
       "      <td>NaN</td>\n",
       "      <td>NaN</td>\n",
       "      <td>Virgin America</td>\n",
       "      <td>NaN</td>\n",
       "      <td>cairdin</td>\n",
       "      <td>NaN</td>\n",
       "      <td>0</td>\n",
       "      <td>@VirginAmerica What @dhepburn said.</td>\n",
       "      <td>NaN</td>\n",
       "      <td>24-02-2015 11:35</td>\n",
       "      <td>NaN</td>\n",
       "      <td>Eastern Time (US &amp; Canada)</td>\n",
       "    </tr>\n",
       "    <tr>\n",
       "      <th>1</th>\n",
       "      <td>5.703010e+17</td>\n",
       "      <td>positive</td>\n",
       "      <td>0.3486</td>\n",
       "      <td>NaN</td>\n",
       "      <td>0.0000</td>\n",
       "      <td>Virgin America</td>\n",
       "      <td>NaN</td>\n",
       "      <td>jnardino</td>\n",
       "      <td>NaN</td>\n",
       "      <td>0</td>\n",
       "      <td>@VirginAmerica plus you've added commercials t...</td>\n",
       "      <td>NaN</td>\n",
       "      <td>24-02-2015 11:15</td>\n",
       "      <td>NaN</td>\n",
       "      <td>Pacific Time (US &amp; Canada)</td>\n",
       "    </tr>\n",
       "    <tr>\n",
       "      <th>2</th>\n",
       "      <td>5.703010e+17</td>\n",
       "      <td>neutral</td>\n",
       "      <td>0.6837</td>\n",
       "      <td>NaN</td>\n",
       "      <td>NaN</td>\n",
       "      <td>Virgin America</td>\n",
       "      <td>NaN</td>\n",
       "      <td>yvonnalynn</td>\n",
       "      <td>NaN</td>\n",
       "      <td>0</td>\n",
       "      <td>@VirginAmerica I didn't today... Must mean I n...</td>\n",
       "      <td>NaN</td>\n",
       "      <td>24-02-2015 11:15</td>\n",
       "      <td>Lets Play</td>\n",
       "      <td>Central Time (US &amp; Canada)</td>\n",
       "    </tr>\n",
       "    <tr>\n",
       "      <th>3</th>\n",
       "      <td>5.703010e+17</td>\n",
       "      <td>negative</td>\n",
       "      <td>1.0000</td>\n",
       "      <td>Bad Flight</td>\n",
       "      <td>0.7033</td>\n",
       "      <td>Virgin America</td>\n",
       "      <td>NaN</td>\n",
       "      <td>jnardino</td>\n",
       "      <td>NaN</td>\n",
       "      <td>0</td>\n",
       "      <td>@VirginAmerica it's really aggressive to blast...</td>\n",
       "      <td>NaN</td>\n",
       "      <td>24-02-2015 11:15</td>\n",
       "      <td>NaN</td>\n",
       "      <td>Pacific Time (US &amp; Canada)</td>\n",
       "    </tr>\n",
       "    <tr>\n",
       "      <th>4</th>\n",
       "      <td>5.703010e+17</td>\n",
       "      <td>negative</td>\n",
       "      <td>1.0000</td>\n",
       "      <td>Can't Tell</td>\n",
       "      <td>1.0000</td>\n",
       "      <td>Virgin America</td>\n",
       "      <td>NaN</td>\n",
       "      <td>jnardino</td>\n",
       "      <td>NaN</td>\n",
       "      <td>0</td>\n",
       "      <td>@VirginAmerica and it's a really big bad thing...</td>\n",
       "      <td>NaN</td>\n",
       "      <td>24-02-2015 11:14</td>\n",
       "      <td>NaN</td>\n",
       "      <td>Pacific Time (US &amp; Canada)</td>\n",
       "    </tr>\n",
       "  </tbody>\n",
       "</table>\n",
       "</div>"
      ],
      "text/plain": [
       "       tweet_id airline_sentiment  airline_sentiment_confidence  \\\n",
       "0  5.703060e+17           neutral                        1.0000   \n",
       "1  5.703010e+17          positive                        0.3486   \n",
       "2  5.703010e+17           neutral                        0.6837   \n",
       "3  5.703010e+17          negative                        1.0000   \n",
       "4  5.703010e+17          negative                        1.0000   \n",
       "\n",
       "  negativereason  negativereason_confidence         airline  \\\n",
       "0            NaN                        NaN  Virgin America   \n",
       "1            NaN                     0.0000  Virgin America   \n",
       "2            NaN                        NaN  Virgin America   \n",
       "3     Bad Flight                     0.7033  Virgin America   \n",
       "4     Can't Tell                     1.0000  Virgin America   \n",
       "\n",
       "  airline_sentiment_gold        name negativereason_gold  retweet_count  \\\n",
       "0                    NaN     cairdin                 NaN              0   \n",
       "1                    NaN    jnardino                 NaN              0   \n",
       "2                    NaN  yvonnalynn                 NaN              0   \n",
       "3                    NaN    jnardino                 NaN              0   \n",
       "4                    NaN    jnardino                 NaN              0   \n",
       "\n",
       "                                                text tweet_coord  \\\n",
       "0                @VirginAmerica What @dhepburn said.         NaN   \n",
       "1  @VirginAmerica plus you've added commercials t...         NaN   \n",
       "2  @VirginAmerica I didn't today... Must mean I n...         NaN   \n",
       "3  @VirginAmerica it's really aggressive to blast...         NaN   \n",
       "4  @VirginAmerica and it's a really big bad thing...         NaN   \n",
       "\n",
       "      tweet_created tweet_location               user_timezone  \n",
       "0  24-02-2015 11:35            NaN  Eastern Time (US & Canada)  \n",
       "1  24-02-2015 11:15            NaN  Pacific Time (US & Canada)  \n",
       "2  24-02-2015 11:15      Lets Play  Central Time (US & Canada)  \n",
       "3  24-02-2015 11:15            NaN  Pacific Time (US & Canada)  \n",
       "4  24-02-2015 11:14            NaN  Pacific Time (US & Canada)  "
      ]
     },
     "execution_count": 18,
     "metadata": {},
     "output_type": "execute_result"
    }
   ],
   "source": [
    "df.head()"
   ]
  },
  {
   "cell_type": "markdown",
   "id": "2fb48ebd",
   "metadata": {},
   "source": [
    "# Segregate dataset `"
   ]
  },
  {
   "cell_type": "code",
   "execution_count": 19,
   "id": "0f183b6e",
   "metadata": {},
   "outputs": [
    {
     "data": {
      "text/plain": [
       "Index(['tweet_id', 'airline_sentiment', 'airline_sentiment_confidence',\n",
       "       'negativereason', 'negativereason_confidence', 'airline',\n",
       "       'airline_sentiment_gold', 'name', 'negativereason_gold',\n",
       "       'retweet_count', 'text', 'tweet_coord', 'tweet_created',\n",
       "       'tweet_location', 'user_timezone'],\n",
       "      dtype='object')"
      ]
     },
     "execution_count": 19,
     "metadata": {},
     "output_type": "execute_result"
    }
   ],
   "source": [
    "df.columns"
   ]
  },
  {
   "cell_type": "code",
   "execution_count": 20,
   "id": "aebdef56",
   "metadata": {},
   "outputs": [],
   "source": [
    "labels=df.iloc[:,1]\n",
    "feature=df.iloc[:,10]\n"
   ]
  },
  {
   "cell_type": "markdown",
   "id": "68acec6d",
   "metadata": {},
   "source": [
    "# Removing the special character"
   ]
  },
  {
   "cell_type": "code",
   "execution_count": 21,
   "id": "f81c467d",
   "metadata": {},
   "outputs": [],
   "source": [
    "process_features=[]\n",
    "for i in range(len(feature)):\n",
    "    #remove all special characters.\n",
    "    process_feature=re.sub(r'\\W',' ',str(feature[i]))\n",
    "    \n",
    "    #remove all single characters.\n",
    "    process_feature=re.sub(r'\\s+[a-zA-Z]\\s+',' ',process_feature)\n",
    "    \n",
    "    #remove sigle character from the start\n",
    "    process_feature=re.sub(r'\\^[a-zA-Z]\\s+', ' ', process_feature)\n",
    "    \n",
    "    #substituting multiple spaces with single spaces.\n",
    "    process_feature=re.sub(r'\\s+',' ',process_feature,flags=re.I)\n",
    "    \n",
    "    #removing prefix 'b'\n",
    "    process_feature=re.sub(r'^b\\s+','',process_feature)\n",
    "    \n",
    "    #Converting to lower cases.\n",
    "    process_feature=process_feature.lower()\n",
    "    process_features.append(process_feature)\n",
    "    \n",
    "    "
   ]
  },
  {
   "cell_type": "markdown",
   "id": "5dae211d",
   "metadata": {},
   "source": [
    "# Feature Extraction from text"
   ]
  },
  {
   "cell_type": "code",
   "execution_count": null,
   "id": "d87c2225",
   "metadata": {},
   "outputs": [],
   "source": []
  },
  {
   "cell_type": "code",
   "execution_count": 23,
   "id": "2e48b252",
   "metadata": {},
   "outputs": [
    {
     "name": "stderr",
     "output_type": "stream",
     "text": [
      "[nltk_data] Downloading package stopwords to\n",
      "[nltk_data]     C:\\Users\\DELL\\AppData\\Roaming\\nltk_data...\n",
      "[nltk_data]   Package stopwords is already up-to-date!\n"
     ]
    },
    {
     "name": "stdout",
     "output_type": "stream",
     "text": [
      "[[0. 0. 0. ... 0. 0. 0.]\n",
      " [0. 0. 0. ... 0. 0. 0.]\n",
      " [0. 0. 0. ... 0. 0. 0.]\n",
      " ...\n",
      " [0. 0. 0. ... 0. 0. 0.]\n",
      " [0. 0. 0. ... 0. 0. 0.]\n",
      " [0. 0. 0. ... 0. 0. 0.]]\n"
     ]
    }
   ],
   "source": [
    "import nltk\n",
    "nltk.download('stopwords')\n",
    "vectorizer= TfidfVectorizer(max_features=2500,min_df=7,max_df=0.8,stop_words=stopwords.words('english'))\n",
    "process_features=vectorizer.fit_transform(process_features).toarray()\n",
    "print(process_features)"
   ]
  },
  {
   "cell_type": "markdown",
   "id": "638ed7a6",
   "metadata": {},
   "source": [
    "# Train Test Split"
   ]
  },
  {
   "cell_type": "code",
   "execution_count": 29,
   "id": "fcc32c4e",
   "metadata": {},
   "outputs": [],
   "source": [
    "X_train,X_test,y_train,y_test=train_test_split(process_features,labels,random_state=0)"
   ]
  },
  {
   "cell_type": "code",
   "execution_count": null,
   "id": "71d97e61",
   "metadata": {},
   "outputs": [],
   "source": []
  },
  {
   "cell_type": "markdown",
   "id": "dc2a92fb",
   "metadata": {},
   "source": [
    "# Loading Random Forest Algorithm"
   ]
  },
  {
   "cell_type": "code",
   "execution_count": 30,
   "id": "143650cc",
   "metadata": {},
   "outputs": [
    {
     "data": {
      "text/plain": [
       "RandomForestClassifier(n_estimators=200, random_state=0)"
      ]
     },
     "execution_count": 30,
     "metadata": {},
     "output_type": "execute_result"
    }
   ],
   "source": [
    "text_classifier=RandomForestClassifier(n_estimators=200,random_state=0)\n",
    "text_classifier.fit(X_train,y_train)"
   ]
  },
  {
   "cell_type": "markdown",
   "id": "80833e73",
   "metadata": {},
   "source": [
    "# Prediction on Test Data"
   ]
  },
  {
   "cell_type": "code",
   "execution_count": 31,
   "id": "c3460b2a",
   "metadata": {},
   "outputs": [],
   "source": [
    "y_pred=text_classifier.predict(X_test)"
   ]
  },
  {
   "cell_type": "markdown",
   "id": "2d232007",
   "metadata": {},
   "source": [
    "# Model Score"
   ]
  },
  {
   "cell_type": "code",
   "execution_count": 32,
   "id": "1e4ac5e7",
   "metadata": {},
   "outputs": [
    {
     "data": {
      "text/plain": [
       "0.7549180327868853"
      ]
     },
     "execution_count": 32,
     "metadata": {},
     "output_type": "execute_result"
    }
   ],
   "source": [
    "accuracy_score(y_test,y_pred)"
   ]
  },
  {
   "cell_type": "code",
   "execution_count": 33,
   "id": "35051580",
   "metadata": {},
   "outputs": [],
   "source": [
    "from sklearn.metrics import confusion_matrix"
   ]
  },
  {
   "cell_type": "code",
   "execution_count": 34,
   "id": "fe28480b",
   "metadata": {},
   "outputs": [
    {
     "data": {
      "text/plain": [
       "array([[2147,  135,   45],\n",
       "       [ 418,  308,   46],\n",
       "       [ 177,   76,  308]], dtype=int64)"
      ]
     },
     "execution_count": 34,
     "metadata": {},
     "output_type": "execute_result"
    }
   ],
   "source": [
    "confusion_matrix(y_test,y_pred)"
   ]
  },
  {
   "cell_type": "markdown",
   "id": "0818469a",
   "metadata": {},
   "source": [
    "## Confusion Matrix in different Form"
   ]
  },
  {
   "cell_type": "code",
   "execution_count": 36,
   "id": "b3e4bc42",
   "metadata": {},
   "outputs": [
    {
     "data": {
      "image/png": "[encoded data removed]",
      "text/plain": [
       "<Figure size 432x288 with 2 Axes>"
      ]
     },
     "metadata": {
      "needs_background": "light"
     },
     "output_type": "display_data"
    }
   ],
   "source": [
    "from sklearn import metrics\n",
    "import itertools\n",
    "def plot_confusion_matrix(cm, classes,\n",
    "                          normalize=False,\n",
    "                          title='Confusion matrix',\n",
    "                          cmap=plt.cm.Blues):\n",
    "\n",
    "    plt.imshow(cm, interpolation='nearest', cmap=cmap)\n",
    "    plt.title(title)\n",
    "    plt.colorbar()\n",
    "    tick_marks = np.arange(len(classes))\n",
    "    plt.xticks(tick_marks, classes)\n",
    "    plt.yticks(tick_marks, classes)\n",
    "\n",
    "    thresh = cm.max() / 2.\n",
    "    for i, j in itertools.product(range(cm.shape[0]), range(cm.shape[1])):\n",
    "        plt.text(j, i, cm[i, j],\n",
    "                 horizontalalignment=\"center\",\n",
    "                 color=\"white\" if cm[i, j] > thresh else \"black\")\n",
    "\n",
    "    plt.tight_layout()\n",
    "    plt.ylabel('True label')\n",
    "    plt.xlabel('Predicted label')\n",
    "\n",
    "cm = metrics.confusion_matrix(y_test, y_pred, labels=['negative', 'neutral', 'positive'])\n",
    "plot_confusion_matrix(cm, classes=['negative', 'neutral', 'positive'])"
   ]
  },
  {
   "cell_type": "code",
   "execution_count": null,
   "id": "f7906d46",
   "metadata": {},
   "outputs": [],
   "source": []
  },
  {
   "cell_type": "code",
   "execution_count": null,
   "id": "33eb2449",
   "metadata": {},
   "outputs": [],
   "source": []
  }
 ],
 "metadata": {
  "kernelspec": {
   "display_name": "Python 3",
   "language": "python",
   "name": "python3"
  },
  "language_info": {
   "codemirror_mode": {
    "name": "ipython",
    "version": 3
   },
   "file_extension": ".py",
   "mimetype": "text/x-python",
   "name": "python",
   "nbconvert_exporter": "python",
   "pygments_lexer": "ipython3",
   "version": "3.8.8"
  }
 },
 "nbformat": 4,
 "nbformat_minor": 5
}
