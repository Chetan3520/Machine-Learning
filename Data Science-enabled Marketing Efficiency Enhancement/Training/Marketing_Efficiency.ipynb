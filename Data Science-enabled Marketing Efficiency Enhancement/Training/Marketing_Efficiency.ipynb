{
 "cells": [
  {
   "cell_type": "markdown",
   "id": "91c18f43",
   "metadata": {
    "toc": true
   },
   "source": [
    "<h1>Table of Contents<span class=\"tocSkip\"></span></h1>\n",
    "<div class=\"toc\"><ul class=\"toc-item\"><li><span><a href=\"#Correlation-for-Numerical-variable\" data-toc-modified-id=\"Correlation-for-Numerical-variable-1\"><span class=\"toc-item-num\">1&nbsp;&nbsp;</span>Correlation for Numerical variable</a></span></li><li><span><a href=\"#Association-between-Categorical-Variable\" data-toc-modified-id=\"Association-between-Categorical-Variable-2\"><span class=\"toc-item-num\">2&nbsp;&nbsp;</span>Association between Categorical Variable</a></span></li><li><span><a href=\"#Indiustry-Column\" data-toc-modified-id=\"Indiustry-Column-3\"><span class=\"toc-item-num\">3&nbsp;&nbsp;</span>Indiustry Column</a></span></li><li><span><a href=\"#Continuous-columns\" data-toc-modified-id=\"Continuous-columns-4\"><span class=\"toc-item-num\">4&nbsp;&nbsp;</span>Continuous columns</a></span></li><li><span><a href=\"#fill-Null-value-by-'Other'\" data-toc-modified-id=\"fill-Null-value-by-'Other'-5\"><span class=\"toc-item-num\">5&nbsp;&nbsp;</span>fill Null value by 'Other'</a></span></li><li><span><a href=\"#Designation\" data-toc-modified-id=\"Designation-6\"><span class=\"toc-item-num\">6&nbsp;&nbsp;</span>Designation</a></span><ul class=\"toc-item\"><li><ul class=\"toc-item\"><li><span><a href=\"#Showing-there-is-no-strong-association-between-categorical-variables\" data-toc-modified-id=\"Showing-there-is-no-strong-association-between-categorical-variables-6.0.1\"><span class=\"toc-item-num\">6.0.1&nbsp;&nbsp;</span>Showing there is no strong association between categorical variables</a></span></li><li><span><a href=\"#We-can-consider-null-value-as-the-category\" data-toc-modified-id=\"We-can-consider-null-value-as-the-category-6.0.2\"><span class=\"toc-item-num\">6.0.2&nbsp;&nbsp;</span>We can consider null value as the category</a></span></li></ul></li></ul></li><li><span><a href=\"#Working-on-Target-variable\" data-toc-modified-id=\"Working-on-Target-variable-7\"><span class=\"toc-item-num\">7&nbsp;&nbsp;</span>Working on Target variable</a></span></li><li><span><a href=\"#Internal-Rating/Outlier-Removal\" data-toc-modified-id=\"Internal-Rating/Outlier-Removal-8\"><span class=\"toc-item-num\">8&nbsp;&nbsp;</span>Internal Rating/Outlier Removal</a></span></li><li><span><a href=\"#Encoding\" data-toc-modified-id=\"Encoding-9\"><span class=\"toc-item-num\">9&nbsp;&nbsp;</span>Encoding</a></span><ul class=\"toc-item\"><li><ul class=\"toc-item\"><li><span><a href=\"#Train_MSE\" data-toc-modified-id=\"Train_MSE-9.0.1\"><span class=\"toc-item-num\">9.0.1&nbsp;&nbsp;</span>Train_MSE</a></span></li><li><span><a href=\"#Train_MSE\" data-toc-modified-id=\"Train_MSE-9.0.2\"><span class=\"toc-item-num\">9.0.2&nbsp;&nbsp;</span>Train_MSE</a></span></li></ul></li></ul></li><li><span><a href=\"#Validation-of-the-model\" data-toc-modified-id=\"Validation-of-the-model-10\"><span class=\"toc-item-num\">10&nbsp;&nbsp;</span>Validation of the model</a></span><ul class=\"toc-item\"><li><ul class=\"toc-item\"><li><span><a href=\"#Feature-Importance\" data-toc-modified-id=\"Feature-Importance-10.0.1\"><span class=\"toc-item-num\">10.0.1&nbsp;&nbsp;</span>Feature Importance</a></span></li></ul></li><li><span><a href=\"#XGBOOst\" data-toc-modified-id=\"XGBOOst-10.1\"><span class=\"toc-item-num\">10.1&nbsp;&nbsp;</span>XGBOOst</a></span><ul class=\"toc-item\"><li><span><a href=\"#Train_MSE\" data-toc-modified-id=\"Train_MSE-10.1.1\"><span class=\"toc-item-num\">10.1.1&nbsp;&nbsp;</span>Train_MSE</a></span></li></ul></li></ul></li><li><span><a href=\"#Encoding\" data-toc-modified-id=\"Encoding-11\"><span class=\"toc-item-num\">11&nbsp;&nbsp;</span>Encoding</a></span></li><li><span><a href=\"#Save-the-Pickel-Encoder\" data-toc-modified-id=\"Save-the-Pickel-Encoder-12\"><span class=\"toc-item-num\">12&nbsp;&nbsp;</span>Save the Pickel Encoder</a></span><ul class=\"toc-item\"><li><ul class=\"toc-item\"><li><span><a href=\"#Train_MSE\" data-toc-modified-id=\"Train_MSE-12.0.1\"><span class=\"toc-item-num\">12.0.1&nbsp;&nbsp;</span>Train_MSE</a></span></li></ul></li></ul></li></ul></div>"
   ]
  },
  {
   "cell_type": "markdown",
   "id": "cc7398fb",
   "metadata": {},
   "source": [
    "# Importing Libraries"
   ]
  },
  {
   "cell_type": "code",
   "execution_count": 1,
   "id": "5939a4a9",
   "metadata": {},
   "outputs": [],
   "source": [
    "import pandas as pd\n",
    "import numpy as np\n",
    "import matplotlib.pyplot as plt\n",
    "import seaborn as sns\n",
    "import pickle\n",
    "from itertools import product\n",
    "from sklearn.metrics import mean_squared_error, mean_absolute_error,mean_absolute_percentage_error,r2_score\n",
    "from scipy import stats as ss\n",
    "from scipy.stats import chi2_contingency,fisher_exact\n",
    "from sklearn.impute import SimpleImputer\n",
    "from sklearn.model_selection import train_test_split\n",
    "from sklearn.ensemble import RandomForestRegressor\n",
    "from sklearn.preprocessing import StandardScaler\n",
    "scale=StandardScaler()\n",
    "from xgboost import XGBRegressor \n",
    "from sklearn.compose import ColumnTransformer\n",
    "from sklearn.preprocessing import OneHotEncoder\n",
    "from sklearn.preprocessing import LabelEncoder\n",
    "import pickle\n",
    "from sklearn.tree import DecisionTreeRegressor"
   ]
  },
  {
   "cell_type": "markdown",
   "id": "ff555cec",
   "metadata": {},
   "source": [
    "# Importing data"
   ]
  },
  {
   "cell_type": "code",
   "execution_count": 2,
   "id": "12f889c8",
   "metadata": {},
   "outputs": [],
   "source": [
    "Train=pd.read_csv(r\"C:\\Users\\DELL\\OneDrive\\Desktop\\SB\\f167b0fc922411eb\\dataset\\train.csv\")\n",
    "Test=pd.read_csv(r\"C:\\Users\\DELL\\OneDrive\\Desktop\\SB\\f167b0fc922411eb\\dataset\\test.csv\")\n",
    "df=pd.concat([Train,Test])\n"
   ]
  },
  {
   "cell_type": "code",
   "execution_count": 3,
   "id": "200bb638",
   "metadata": {},
   "outputs": [
    {
     "name": "stdout",
     "output_type": "stream",
     "text": [
      "   Deal_title                      Lead_name               Industry   \n",
      "0  TitleM5DZY  Davis, Perkins and Bishop Inc            Restaurants  \\\n",
      "1  TitleKIW18                 Bender PLC LLC  Construction Services   \n",
      "2  TitleFXSDN          Carter-Henry and Sons      Hospitals/Clinics   \n",
      "3  TitlePSK4Y                 Garcia Ltd Ltd            Real Estate   \n",
      "4  Title904GV               Lee and Sons PLC     Financial Services   \n",
      "\n",
      "  Deal_value Weighted_amount Date_of_creation      Pitch   \n",
      "0    320506$      2067263.7$       2020-03-29  Product_2  \\\n",
      "1     39488$       240876.8$       2019-07-10  Product_2   \n",
      "2    359392$      2407926.4$       2019-07-27  Product_1   \n",
      "3     76774$       468321.4$       2021-01-30  Product_2   \n",
      "4    483896$             NaN       2019-05-22  Product_2   \n",
      "\n",
      "             Contact_no             Lead_revenue Fund_category  ...   \n",
      "0          607.447.7883         50 - 100 Million    Category 2  ...  \\\n",
      "1          892-938-9493  500 Million - 1 Billion    Category 4  ...   \n",
      "2          538.748.2271  500 Million - 1 Billion    Category 4  ...   \n",
      "3   (692)052-1389x75188  500 Million - 1 Billion    Category 3  ...   \n",
      "4  001-878-814-6134x015         50 - 100 Million    Category 3  ...   \n",
      "\n",
      "                Designation                 Lead_POC_email   \n",
      "0  Executive Vice President       charlenewerner@davis.com  \\\n",
      "1    Chairman/CEO/President          terrylogan@bender.com   \n",
      "2      SVP/General Counsel   arielhamilton@carterhenry.com   \n",
      "3   CEO/Co-Founder/Chairman          erinwilson@garcia.com   \n",
      "4  Executive Vice President         mr.christopher@lee.com   \n",
      "\n",
      "            Hiring_candidate_role      Lead_source Level_of_meeting   \n",
      "0            Community pharmacist          Website          Level 3  \\\n",
      "1          Recruitment consultant           Others          Level 1   \n",
      "2          Health service manager  Marketing Event          Level 1   \n",
      "3  Therapist, speech and language    Contact Email          Level 2   \n",
      "4                   Media planner          Website          Level 2   \n",
      "\n",
      "                  Last_lead_update               Internal_POC   \n",
      "0                         No track           Davis,Sharrice A  \\\n",
      "1  Did not hear back after Level 1             Brown,Maxine A   \n",
      "2                                ?  Georgakopoulos,Vasilios T   \n",
      "3  Did not hear back after Level 1             Brown,Maxine A   \n",
      "4                       Up-to-date              Thomas,Lori E   \n",
      "\n",
      "                       Resource Internal_rating Success_probability  \n",
      "0                           NaN             3.0                73.6  \n",
      "1                            No             5.0                58.9  \n",
      "2                            No             4.0                68.8  \n",
      "3  We have all the requirements             1.0                64.5  \n",
      "4                            No             4.0                62.4  \n",
      "\n",
      "[5 rows x 23 columns]\n"
     ]
    }
   ],
   "source": [
    "print(df.head())"
   ]
  },
  {
   "cell_type": "markdown",
   "id": "25efbb8e",
   "metadata": {},
   "source": [
    "# EDA"
   ]
  },
  {
   "cell_type": "code",
   "execution_count": 4,
   "id": "aa066df0",
   "metadata": {},
   "outputs": [
    {
     "name": "stdout",
     "output_type": "stream",
     "text": [
      "<class 'pandas.core.frame.DataFrame'>\n",
      "Index: 9100 entries, 0 to 2092\n",
      "Data columns (total 23 columns):\n",
      " #   Column                 Non-Null Count  Dtype  \n",
      "---  ------                 --------------  -----  \n",
      " 0   Deal_title             9100 non-null   object \n",
      " 1   Lead_name              9100 non-null   object \n",
      " 2   Industry               9098 non-null   object \n",
      " 3   Deal_value             9044 non-null   object \n",
      " 4   Weighted_amount        8515 non-null   object \n",
      " 5   Date_of_creation       9100 non-null   object \n",
      " 6   Pitch                  9100 non-null   object \n",
      " 7   Contact_no             9100 non-null   object \n",
      " 8   Lead_revenue           9100 non-null   object \n",
      " 9   Fund_category          9100 non-null   object \n",
      " 10  Geography              8049 non-null   object \n",
      " 11  Location               9086 non-null   object \n",
      " 12  POC_name               9090 non-null   object \n",
      " 13  Designation            9100 non-null   object \n",
      " 14  Lead_POC_email         9100 non-null   object \n",
      " 15  Hiring_candidate_role  9100 non-null   object \n",
      " 16  Lead_source            9100 non-null   object \n",
      " 17  Level_of_meeting       9100 non-null   object \n",
      " 18  Last_lead_update       8299 non-null   object \n",
      " 19  Internal_POC           9100 non-null   object \n",
      " 20  Resource               8937 non-null   object \n",
      " 21  Internal_rating        9100 non-null   float64\n",
      " 22  Success_probability    7007 non-null   float64\n",
      "dtypes: float64(2), object(21)\n",
      "memory usage: 1.7+ MB\n"
     ]
    }
   ],
   "source": [
    "df.info()"
   ]
  },
  {
   "cell_type": "code",
   "execution_count": null,
   "id": "1a05d756",
   "metadata": {},
   "outputs": [],
   "source": []
  },
  {
   "cell_type": "code",
   "execution_count": 5,
   "id": "614d5399",
   "metadata": {},
   "outputs": [
    {
     "data": {
      "text/plain": [
       "Deal_title                  0\n",
       "Lead_name                   0\n",
       "Industry                    2\n",
       "Deal_value                 56\n",
       "Weighted_amount           585\n",
       "Date_of_creation            0\n",
       "Pitch                       0\n",
       "Contact_no                  0\n",
       "Lead_revenue                0\n",
       "Fund_category               0\n",
       "Geography                1051\n",
       "Location                   14\n",
       "POC_name                   10\n",
       "Designation                 0\n",
       "Lead_POC_email              0\n",
       "Hiring_candidate_role       0\n",
       "Lead_source                 0\n",
       "Level_of_meeting            0\n",
       "Last_lead_update          801\n",
       "Internal_POC                0\n",
       "Resource                  163\n",
       "Internal_rating             0\n",
       "Success_probability      2093\n",
       "dtype: int64"
      ]
     },
     "execution_count": 5,
     "metadata": {},
     "output_type": "execute_result"
    }
   ],
   "source": [
    "df.isnull().sum()"
   ]
  },
  {
   "cell_type": "code",
   "execution_count": 6,
   "id": "d5e7ffda",
   "metadata": {},
   "outputs": [
    {
     "data": {
      "text/html": [
       "<div>\n",
       "<style scoped>\n",
       "    .dataframe tbody tr th:only-of-type {\n",
       "        vertical-align: middle;\n",
       "    }\n",
       "\n",
       "    .dataframe tbody tr th {\n",
       "        vertical-align: top;\n",
       "    }\n",
       "\n",
       "    .dataframe thead th {\n",
       "        text-align: right;\n",
       "    }\n",
       "</style>\n",
       "<table border=\"1\" class=\"dataframe\">\n",
       "  <thead>\n",
       "    <tr style=\"text-align: right;\">\n",
       "      <th></th>\n",
       "      <th>Internal_rating</th>\n",
       "      <th>Success_probability</th>\n",
       "    </tr>\n",
       "  </thead>\n",
       "  <tbody>\n",
       "    <tr>\n",
       "      <th>count</th>\n",
       "      <td>9100.000000</td>\n",
       "      <td>7007.000000</td>\n",
       "    </tr>\n",
       "    <tr>\n",
       "      <th>mean</th>\n",
       "      <td>3.040334</td>\n",
       "      <td>64.745133</td>\n",
       "    </tr>\n",
       "    <tr>\n",
       "      <th>std</th>\n",
       "      <td>2.496050</td>\n",
       "      <td>17.931635</td>\n",
       "    </tr>\n",
       "    <tr>\n",
       "      <th>min</th>\n",
       "      <td>-1.000000</td>\n",
       "      <td>-5.000000</td>\n",
       "    </tr>\n",
       "    <tr>\n",
       "      <th>25%</th>\n",
       "      <td>2.000000</td>\n",
       "      <td>60.600000</td>\n",
       "    </tr>\n",
       "    <tr>\n",
       "      <th>50%</th>\n",
       "      <td>3.000000</td>\n",
       "      <td>65.300000</td>\n",
       "    </tr>\n",
       "    <tr>\n",
       "      <th>75%</th>\n",
       "      <td>4.000000</td>\n",
       "      <td>69.600000</td>\n",
       "    </tr>\n",
       "    <tr>\n",
       "      <th>max</th>\n",
       "      <td>82.340000</td>\n",
       "      <td>107.340000</td>\n",
       "    </tr>\n",
       "  </tbody>\n",
       "</table>\n",
       "</div>"
      ],
      "text/plain": [
       "       Internal_rating  Success_probability\n",
       "count      9100.000000          7007.000000\n",
       "mean          3.040334            64.745133\n",
       "std           2.496050            17.931635\n",
       "min          -1.000000            -5.000000\n",
       "25%           2.000000            60.600000\n",
       "50%           3.000000            65.300000\n",
       "75%           4.000000            69.600000\n",
       "max          82.340000           107.340000"
      ]
     },
     "execution_count": 6,
     "metadata": {},
     "output_type": "execute_result"
    }
   ],
   "source": [
    "df.describe()"
   ]
  },
  {
   "cell_type": "code",
   "execution_count": 7,
   "id": "6a0318e6",
   "metadata": {},
   "outputs": [
    {
     "data": {
      "text/plain": [
       "Deal_title                  0\n",
       "Lead_name                   0\n",
       "Industry                    2\n",
       "Deal_value                 56\n",
       "Weighted_amount           585\n",
       "Date_of_creation            0\n",
       "Pitch                       0\n",
       "Contact_no                  0\n",
       "Lead_revenue                0\n",
       "Fund_category               0\n",
       "Geography                1051\n",
       "Location                   14\n",
       "POC_name                   10\n",
       "Designation                 0\n",
       "Lead_POC_email              0\n",
       "Hiring_candidate_role       0\n",
       "Lead_source                 0\n",
       "Level_of_meeting            0\n",
       "Last_lead_update          801\n",
       "Internal_POC                0\n",
       "Resource                  163\n",
       "Internal_rating             0\n",
       "Success_probability      2093\n",
       "dtype: int64"
      ]
     },
     "execution_count": 7,
     "metadata": {},
     "output_type": "execute_result"
    }
   ],
   "source": [
    "df.isnull().sum()"
   ]
  },
  {
   "cell_type": "code",
   "execution_count": 8,
   "id": "6b841f69",
   "metadata": {},
   "outputs": [
    {
     "data": {
      "text/plain": [
       "array(['TitleM5DZY', 'TitleKIW18', 'TitleFXSDN', ..., 'TitleCD5YZ',\n",
       "       'Title8OKXL', 'TitleHFQT8'], dtype=object)"
      ]
     },
     "execution_count": 8,
     "metadata": {},
     "output_type": "execute_result"
    }
   ],
   "source": [
    "df.Deal_title.unique()"
   ]
  },
  {
   "cell_type": "code",
   "execution_count": 9,
   "id": "49952d7c",
   "metadata": {},
   "outputs": [
    {
     "data": {
      "text/plain": [
       "Deal_title               9100\n",
       "Lead_name                9100\n",
       "Industry                  172\n",
       "Deal_value               8967\n",
       "Weighted_amount          8513\n",
       "Date_of_creation          777\n",
       "Pitch                       2\n",
       "Contact_no               9100\n",
       "Lead_revenue                3\n",
       "Fund_category               4\n",
       "Geography                   2\n",
       "Location                  597\n",
       "POC_name                 6633\n",
       "Designation                10\n",
       "Lead_POC_email           9099\n",
       "Hiring_candidate_role     639\n",
       "Lead_source                 4\n",
       "Level_of_meeting            3\n",
       "Last_lead_update           11\n",
       "Internal_POC               60\n",
       "Resource                    6\n",
       "Internal_rating             7\n",
       "Success_probability       248\n",
       "dtype: int64"
      ]
     },
     "execution_count": 9,
     "metadata": {},
     "output_type": "execute_result"
    }
   ],
   "source": [
    "df.nunique()"
   ]
  },
  {
   "cell_type": "code",
   "execution_count": null,
   "id": "5aae3120",
   "metadata": {
    "scrolled": true
   },
   "outputs": [],
   "source": []
  },
  {
   "cell_type": "code",
   "execution_count": 10,
   "id": "a413eb91",
   "metadata": {},
   "outputs": [],
   "source": [
    "df['Deal_value'] = df['Deal_value'].replace('[$,]', '', regex=True).astype(float, errors='ignore')"
   ]
  },
  {
   "cell_type": "code",
   "execution_count": 11,
   "id": "fbb19d88",
   "metadata": {},
   "outputs": [],
   "source": [
    "df['Weighted_amount']=df['Weighted_amount'].replace('[$,]','',regex=True).astype(float,errors='ignore')"
   ]
  },
  {
   "cell_type": "code",
   "execution_count": 12,
   "id": "55582ecf",
   "metadata": {},
   "outputs": [],
   "source": [
    "df['Deal_value']=df['Deal_value'].astype(float)"
   ]
  },
  {
   "cell_type": "code",
   "execution_count": 13,
   "id": "b0993213",
   "metadata": {},
   "outputs": [],
   "source": [
    "df['Weighted_amount']=df['Weighted_amount'].astype(float)"
   ]
  },
  {
   "cell_type": "code",
   "execution_count": 14,
   "id": "c5c18d36",
   "metadata": {},
   "outputs": [
    {
     "data": {
      "text/html": [
       "<div>\n",
       "<style scoped>\n",
       "    .dataframe tbody tr th:only-of-type {\n",
       "        vertical-align: middle;\n",
       "    }\n",
       "\n",
       "    .dataframe tbody tr th {\n",
       "        vertical-align: top;\n",
       "    }\n",
       "\n",
       "    .dataframe thead th {\n",
       "        text-align: right;\n",
       "    }\n",
       "</style>\n",
       "<table border=\"1\" class=\"dataframe\">\n",
       "  <thead>\n",
       "    <tr style=\"text-align: right;\">\n",
       "      <th></th>\n",
       "      <th>Deal_value</th>\n",
       "      <th>Weighted_amount</th>\n",
       "      <th>Internal_rating</th>\n",
       "      <th>Success_probability</th>\n",
       "    </tr>\n",
       "  </thead>\n",
       "  <tbody>\n",
       "    <tr>\n",
       "      <th>count</th>\n",
       "      <td>9044.000000</td>\n",
       "      <td>8.515000e+03</td>\n",
       "      <td>9100.000000</td>\n",
       "      <td>7007.000000</td>\n",
       "    </tr>\n",
       "    <tr>\n",
       "      <th>mean</th>\n",
       "      <td>249285.734078</td>\n",
       "      <td>1.566788e+06</td>\n",
       "      <td>3.040334</td>\n",
       "      <td>64.745133</td>\n",
       "    </tr>\n",
       "    <tr>\n",
       "      <th>std</th>\n",
       "      <td>144127.718135</td>\n",
       "      <td>9.165324e+05</td>\n",
       "      <td>2.496050</td>\n",
       "      <td>17.931635</td>\n",
       "    </tr>\n",
       "    <tr>\n",
       "      <th>min</th>\n",
       "      <td>1551.000000</td>\n",
       "      <td>8.708000e+03</td>\n",
       "      <td>-1.000000</td>\n",
       "      <td>-5.000000</td>\n",
       "    </tr>\n",
       "    <tr>\n",
       "      <th>25%</th>\n",
       "      <td>122991.250000</td>\n",
       "      <td>7.747353e+05</td>\n",
       "      <td>2.000000</td>\n",
       "      <td>60.600000</td>\n",
       "    </tr>\n",
       "    <tr>\n",
       "      <th>50%</th>\n",
       "      <td>247957.000000</td>\n",
       "      <td>1.552888e+06</td>\n",
       "      <td>3.000000</td>\n",
       "      <td>65.300000</td>\n",
       "    </tr>\n",
       "    <tr>\n",
       "      <th>75%</th>\n",
       "      <td>375166.000000</td>\n",
       "      <td>2.351754e+06</td>\n",
       "      <td>4.000000</td>\n",
       "      <td>69.600000</td>\n",
       "    </tr>\n",
       "    <tr>\n",
       "      <th>max</th>\n",
       "      <td>500000.000000</td>\n",
       "      <td>3.601416e+06</td>\n",
       "      <td>82.340000</td>\n",
       "      <td>107.340000</td>\n",
       "    </tr>\n",
       "  </tbody>\n",
       "</table>\n",
       "</div>"
      ],
      "text/plain": [
       "          Deal_value  Weighted_amount  Internal_rating  Success_probability\n",
       "count    9044.000000     8.515000e+03      9100.000000          7007.000000\n",
       "mean   249285.734078     1.566788e+06         3.040334            64.745133\n",
       "std    144127.718135     9.165324e+05         2.496050            17.931635\n",
       "min      1551.000000     8.708000e+03        -1.000000            -5.000000\n",
       "25%    122991.250000     7.747353e+05         2.000000            60.600000\n",
       "50%    247957.000000     1.552888e+06         3.000000            65.300000\n",
       "75%    375166.000000     2.351754e+06         4.000000            69.600000\n",
       "max    500000.000000     3.601416e+06        82.340000           107.340000"
      ]
     },
     "execution_count": 14,
     "metadata": {},
     "output_type": "execute_result"
    }
   ],
   "source": [
    "df.describe()"
   ]
  },
  {
   "cell_type": "markdown",
   "id": "358515c8",
   "metadata": {},
   "source": [
    "# Graphs"
   ]
  },
  {
   "cell_type": "code",
   "execution_count": 15,
   "id": "e6fd146b",
   "metadata": {},
   "outputs": [
    {
     "data": {
      "image/png": "[encoded data removed]",
      "text/plain": [
       "<Figure size 720x432 with 1 Axes>"
      ]
     },
     "metadata": {
      "needs_background": "light"
     },
     "output_type": "display_data"
    }
   ],
   "source": [
    "# Plot 1: Deal Value Distribution\n",
    "plt.figure(figsize=(10, 6))\n",
    "sns.histplot(df['Deal_value'], bins=20, kde=True)\n",
    "plt.title('Deal Value Distribution')\n",
    "plt.xlabel('Deal Value')\n",
    "plt.ylabel('Frequency')\n",
    "plt.show()\n",
    "\n",
    "\n",
    "\n",
    "\n"
   ]
  },
  {
   "cell_type": "code",
   "execution_count": 16,
   "id": "fa4ecc95",
   "metadata": {},
   "outputs": [
    {
     "data": {
      "image/png": "[encoded data removed]",
      "text/plain": [
       "<Figure size 720x432 with 1 Axes>"
      ]
     },
     "metadata": {
      "needs_background": "light"
     },
     "output_type": "display_data"
    }
   ],
   "source": [
    "# Plot 3: Success Probability Distribution\n",
    "plt.figure(figsize=(10, 6))\n",
    "sns.histplot(df['Success_probability'], bins=20, kde=True)\n",
    "plt.title('Success Probability Distribution')\n",
    "plt.xlabel('Success Probability (%)')\n",
    "plt.ylabel('Frequency')\n",
    "plt.show()"
   ]
  },
  {
   "cell_type": "code",
   "execution_count": null,
   "id": "c4037a0f",
   "metadata": {},
   "outputs": [],
   "source": []
  },
  {
   "cell_type": "markdown",
   "id": "ae938c05",
   "metadata": {},
   "source": [
    "## Correlation for Numerical variable"
   ]
  },
  {
   "cell_type": "code",
   "execution_count": 17,
   "id": "9f2e56fc",
   "metadata": {},
   "outputs": [
    {
     "data": {
      "image/png": "[encoded data removed]",
      "text/plain": [
       "<Figure size 720x576 with 2 Axes>"
      ]
     },
     "metadata": {
      "needs_background": "light"
     },
     "output_type": "display_data"
    }
   ],
   "source": [
    "numeric_columns = ['Deal_value', 'Weighted_amount', 'Internal_rating', 'Success_probability']\n",
    "\n",
    "correlation_matrix = df[numeric_columns].corr()\n",
    "\n",
    "plt.figure(figsize=(10, 8))\n",
    "sns.heatmap(correlation_matrix, annot=True, cmap='coolwarm', center=0)\n",
    "plt.title('Correlation Heatmap of Numerical Columns')\n",
    "plt.tight_layout()\n",
    "plt.show()"
   ]
  },
  {
   "cell_type": "markdown",
   "id": "a495d569",
   "metadata": {},
   "source": [
    "## Association between Categorical Variable"
   ]
  },
  {
   "cell_type": "code",
   "execution_count": 18,
   "id": "93bfe479",
   "metadata": {},
   "outputs": [
    {
     "data": {
      "text/plain": [
       "'H0: There is no association between categories\\n    Reject when p<0.05\\n    Accept when p>0.05\\n'"
      ]
     },
     "execution_count": 18,
     "metadata": {},
     "output_type": "execute_result"
    }
   ],
   "source": [
    "\"\"\"H0: There is no association between categories\n",
    "    Reject when p<0.05\n",
    "    Accept when p>0.05\n",
    "\"\"\" "
   ]
  },
  {
   "cell_type": "code",
   "execution_count": 19,
   "id": "68e8f88e",
   "metadata": {},
   "outputs": [
    {
     "name": "stdout",
     "output_type": "stream",
     "text": [
      "Given tables shows the pvalue corresponding two categorical variables\n"
     ]
    },
    {
     "data": {
      "text/html": [
       "<div>\n",
       "<style scoped>\n",
       "    .dataframe tbody tr th:only-of-type {\n",
       "        vertical-align: middle;\n",
       "    }\n",
       "\n",
       "    .dataframe tbody tr th {\n",
       "        vertical-align: top;\n",
       "    }\n",
       "\n",
       "    .dataframe thead th {\n",
       "        text-align: right;\n",
       "    }\n",
       "</style>\n",
       "<table border=\"1\" class=\"dataframe\">\n",
       "  <thead>\n",
       "    <tr style=\"text-align: right;\">\n",
       "      <th>l2</th>\n",
       "      <th>Designation</th>\n",
       "      <th>Fund_category</th>\n",
       "      <th>Geography</th>\n",
       "      <th>Hiring_candidate_role</th>\n",
       "      <th>Industry</th>\n",
       "      <th>Internal_POC</th>\n",
       "      <th>Last_lead_update</th>\n",
       "      <th>Lead_revenue</th>\n",
       "      <th>Lead_source</th>\n",
       "      <th>Level_of_meeting</th>\n",
       "      <th>Location</th>\n",
       "      <th>Pitch</th>\n",
       "      <th>Resource</th>\n",
       "    </tr>\n",
       "    <tr>\n",
       "      <th>l1</th>\n",
       "      <th></th>\n",
       "      <th></th>\n",
       "      <th></th>\n",
       "      <th></th>\n",
       "      <th></th>\n",
       "      <th></th>\n",
       "      <th></th>\n",
       "      <th></th>\n",
       "      <th></th>\n",
       "      <th></th>\n",
       "      <th></th>\n",
       "      <th></th>\n",
       "      <th></th>\n",
       "    </tr>\n",
       "  </thead>\n",
       "  <tbody>\n",
       "    <tr>\n",
       "      <th>Designation</th>\n",
       "      <td>NaN</td>\n",
       "      <td>0.152400</td>\n",
       "      <td>0.694509</td>\n",
       "      <td>0.718301</td>\n",
       "      <td>0.706021</td>\n",
       "      <td>0.522777</td>\n",
       "      <td>0.381183</td>\n",
       "      <td>0.166192</td>\n",
       "      <td>0.555827</td>\n",
       "      <td>0.147553</td>\n",
       "      <td>0.124841</td>\n",
       "      <td>0.331303</td>\n",
       "      <td>0.398705</td>\n",
       "    </tr>\n",
       "    <tr>\n",
       "      <th>Fund_category</th>\n",
       "      <td>0.152400</td>\n",
       "      <td>NaN</td>\n",
       "      <td>0.932256</td>\n",
       "      <td>0.536924</td>\n",
       "      <td>0.437522</td>\n",
       "      <td>0.364406</td>\n",
       "      <td>0.152903</td>\n",
       "      <td>0.860146</td>\n",
       "      <td>0.392396</td>\n",
       "      <td>0.521220</td>\n",
       "      <td>0.692017</td>\n",
       "      <td>0.652024</td>\n",
       "      <td>0.517222</td>\n",
       "    </tr>\n",
       "    <tr>\n",
       "      <th>Geography</th>\n",
       "      <td>0.694509</td>\n",
       "      <td>0.932256</td>\n",
       "      <td>NaN</td>\n",
       "      <td>0.521117</td>\n",
       "      <td>0.489847</td>\n",
       "      <td>0.852668</td>\n",
       "      <td>0.985622</td>\n",
       "      <td>0.371726</td>\n",
       "      <td>0.909119</td>\n",
       "      <td>0.905550</td>\n",
       "      <td>0.000000</td>\n",
       "      <td>0.866960</td>\n",
       "      <td>0.767822</td>\n",
       "    </tr>\n",
       "    <tr>\n",
       "      <th>Hiring_candidate_role</th>\n",
       "      <td>0.718301</td>\n",
       "      <td>0.536924</td>\n",
       "      <td>0.521117</td>\n",
       "      <td>NaN</td>\n",
       "      <td>0.150513</td>\n",
       "      <td>0.635542</td>\n",
       "      <td>0.734160</td>\n",
       "      <td>0.976611</td>\n",
       "      <td>0.942831</td>\n",
       "      <td>0.870533</td>\n",
       "      <td>0.638509</td>\n",
       "      <td>0.266328</td>\n",
       "      <td>0.407194</td>\n",
       "    </tr>\n",
       "    <tr>\n",
       "      <th>Industry</th>\n",
       "      <td>0.706021</td>\n",
       "      <td>0.437522</td>\n",
       "      <td>0.489847</td>\n",
       "      <td>0.150513</td>\n",
       "      <td>NaN</td>\n",
       "      <td>0.690518</td>\n",
       "      <td>0.276287</td>\n",
       "      <td>0.750088</td>\n",
       "      <td>0.405958</td>\n",
       "      <td>0.921570</td>\n",
       "      <td>0.000439</td>\n",
       "      <td>0.177484</td>\n",
       "      <td>0.181060</td>\n",
       "    </tr>\n",
       "    <tr>\n",
       "      <th>Internal_POC</th>\n",
       "      <td>0.522777</td>\n",
       "      <td>0.364406</td>\n",
       "      <td>0.852668</td>\n",
       "      <td>0.635542</td>\n",
       "      <td>0.690518</td>\n",
       "      <td>NaN</td>\n",
       "      <td>0.898233</td>\n",
       "      <td>0.477365</td>\n",
       "      <td>0.006594</td>\n",
       "      <td>0.083620</td>\n",
       "      <td>0.149404</td>\n",
       "      <td>0.823648</td>\n",
       "      <td>0.894462</td>\n",
       "    </tr>\n",
       "    <tr>\n",
       "      <th>Last_lead_update</th>\n",
       "      <td>0.381183</td>\n",
       "      <td>0.152903</td>\n",
       "      <td>0.985622</td>\n",
       "      <td>0.734160</td>\n",
       "      <td>0.276287</td>\n",
       "      <td>0.898233</td>\n",
       "      <td>NaN</td>\n",
       "      <td>0.566634</td>\n",
       "      <td>0.866919</td>\n",
       "      <td>0.431041</td>\n",
       "      <td>0.233743</td>\n",
       "      <td>0.096617</td>\n",
       "      <td>0.200665</td>\n",
       "    </tr>\n",
       "    <tr>\n",
       "      <th>Lead_revenue</th>\n",
       "      <td>0.166192</td>\n",
       "      <td>0.860146</td>\n",
       "      <td>0.371726</td>\n",
       "      <td>0.976611</td>\n",
       "      <td>0.750088</td>\n",
       "      <td>0.477365</td>\n",
       "      <td>0.566634</td>\n",
       "      <td>NaN</td>\n",
       "      <td>0.610515</td>\n",
       "      <td>0.179370</td>\n",
       "      <td>0.321134</td>\n",
       "      <td>0.381608</td>\n",
       "      <td>0.163059</td>\n",
       "    </tr>\n",
       "    <tr>\n",
       "      <th>Lead_source</th>\n",
       "      <td>0.555827</td>\n",
       "      <td>0.392396</td>\n",
       "      <td>0.909119</td>\n",
       "      <td>0.942831</td>\n",
       "      <td>0.405958</td>\n",
       "      <td>0.006594</td>\n",
       "      <td>0.866919</td>\n",
       "      <td>0.610515</td>\n",
       "      <td>NaN</td>\n",
       "      <td>0.313785</td>\n",
       "      <td>0.719848</td>\n",
       "      <td>0.321328</td>\n",
       "      <td>0.285363</td>\n",
       "    </tr>\n",
       "    <tr>\n",
       "      <th>Level_of_meeting</th>\n",
       "      <td>0.147553</td>\n",
       "      <td>0.521220</td>\n",
       "      <td>0.905550</td>\n",
       "      <td>0.870533</td>\n",
       "      <td>0.921570</td>\n",
       "      <td>0.083620</td>\n",
       "      <td>0.431041</td>\n",
       "      <td>0.179370</td>\n",
       "      <td>0.313785</td>\n",
       "      <td>NaN</td>\n",
       "      <td>0.334148</td>\n",
       "      <td>0.016331</td>\n",
       "      <td>0.507016</td>\n",
       "    </tr>\n",
       "    <tr>\n",
       "      <th>Location</th>\n",
       "      <td>0.124841</td>\n",
       "      <td>0.692017</td>\n",
       "      <td>0.000000</td>\n",
       "      <td>0.638509</td>\n",
       "      <td>0.000439</td>\n",
       "      <td>0.149404</td>\n",
       "      <td>0.233743</td>\n",
       "      <td>0.321134</td>\n",
       "      <td>0.719848</td>\n",
       "      <td>0.334148</td>\n",
       "      <td>NaN</td>\n",
       "      <td>0.546693</td>\n",
       "      <td>0.426348</td>\n",
       "    </tr>\n",
       "    <tr>\n",
       "      <th>Pitch</th>\n",
       "      <td>0.331303</td>\n",
       "      <td>0.652024</td>\n",
       "      <td>0.866960</td>\n",
       "      <td>0.266328</td>\n",
       "      <td>0.177484</td>\n",
       "      <td>0.823648</td>\n",
       "      <td>0.096617</td>\n",
       "      <td>0.381608</td>\n",
       "      <td>0.321328</td>\n",
       "      <td>0.016331</td>\n",
       "      <td>0.546693</td>\n",
       "      <td>NaN</td>\n",
       "      <td>0.472928</td>\n",
       "    </tr>\n",
       "    <tr>\n",
       "      <th>Resource</th>\n",
       "      <td>0.398705</td>\n",
       "      <td>0.517222</td>\n",
       "      <td>0.767822</td>\n",
       "      <td>0.407194</td>\n",
       "      <td>0.181060</td>\n",
       "      <td>0.894462</td>\n",
       "      <td>0.200665</td>\n",
       "      <td>0.163059</td>\n",
       "      <td>0.285363</td>\n",
       "      <td>0.507016</td>\n",
       "      <td>0.426348</td>\n",
       "      <td>0.472928</td>\n",
       "      <td>NaN</td>\n",
       "    </tr>\n",
       "  </tbody>\n",
       "</table>\n",
       "</div>"
      ],
      "text/plain": [
       "l2                     Designation  Fund_category  Geography   \n",
       "l1                                                             \n",
       "Designation                    NaN       0.152400   0.694509  \\\n",
       "Fund_category             0.152400            NaN   0.932256   \n",
       "Geography                 0.694509       0.932256        NaN   \n",
       "Hiring_candidate_role     0.718301       0.536924   0.521117   \n",
       "Industry                  0.706021       0.437522   0.489847   \n",
       "Internal_POC              0.522777       0.364406   0.852668   \n",
       "Last_lead_update          0.381183       0.152903   0.985622   \n",
       "Lead_revenue              0.166192       0.860146   0.371726   \n",
       "Lead_source               0.555827       0.392396   0.909119   \n",
       "Level_of_meeting          0.147553       0.521220   0.905550   \n",
       "Location                  0.124841       0.692017   0.000000   \n",
       "Pitch                     0.331303       0.652024   0.866960   \n",
       "Resource                  0.398705       0.517222   0.767822   \n",
       "\n",
       "l2                     Hiring_candidate_role  Industry  Internal_POC   \n",
       "l1                                                                     \n",
       "Designation                         0.718301  0.706021      0.522777  \\\n",
       "Fund_category                       0.536924  0.437522      0.364406   \n",
       "Geography                           0.521117  0.489847      0.852668   \n",
       "Hiring_candidate_role                    NaN  0.150513      0.635542   \n",
       "Industry                            0.150513       NaN      0.690518   \n",
       "Internal_POC                        0.635542  0.690518           NaN   \n",
       "Last_lead_update                    0.734160  0.276287      0.898233   \n",
       "Lead_revenue                        0.976611  0.750088      0.477365   \n",
       "Lead_source                         0.942831  0.405958      0.006594   \n",
       "Level_of_meeting                    0.870533  0.921570      0.083620   \n",
       "Location                            0.638509  0.000439      0.149404   \n",
       "Pitch                               0.266328  0.177484      0.823648   \n",
       "Resource                            0.407194  0.181060      0.894462   \n",
       "\n",
       "l2                     Last_lead_update  Lead_revenue  Lead_source   \n",
       "l1                                                                   \n",
       "Designation                    0.381183      0.166192     0.555827  \\\n",
       "Fund_category                  0.152903      0.860146     0.392396   \n",
       "Geography                      0.985622      0.371726     0.909119   \n",
       "Hiring_candidate_role          0.734160      0.976611     0.942831   \n",
       "Industry                       0.276287      0.750088     0.405958   \n",
       "Internal_POC                   0.898233      0.477365     0.006594   \n",
       "Last_lead_update                    NaN      0.566634     0.866919   \n",
       "Lead_revenue                   0.566634           NaN     0.610515   \n",
       "Lead_source                    0.866919      0.610515          NaN   \n",
       "Level_of_meeting               0.431041      0.179370     0.313785   \n",
       "Location                       0.233743      0.321134     0.719848   \n",
       "Pitch                          0.096617      0.381608     0.321328   \n",
       "Resource                       0.200665      0.163059     0.285363   \n",
       "\n",
       "l2                     Level_of_meeting  Location     Pitch  Resource  \n",
       "l1                                                                     \n",
       "Designation                    0.147553  0.124841  0.331303  0.398705  \n",
       "Fund_category                  0.521220  0.692017  0.652024  0.517222  \n",
       "Geography                      0.905550  0.000000  0.866960  0.767822  \n",
       "Hiring_candidate_role          0.870533  0.638509  0.266328  0.407194  \n",
       "Industry                       0.921570  0.000439  0.177484  0.181060  \n",
       "Internal_POC                   0.083620  0.149404  0.823648  0.894462  \n",
       "Last_lead_update               0.431041  0.233743  0.096617  0.200665  \n",
       "Lead_revenue                   0.179370  0.321134  0.381608  0.163059  \n",
       "Lead_source                    0.313785  0.719848  0.321328  0.285363  \n",
       "Level_of_meeting                    NaN  0.334148  0.016331  0.507016  \n",
       "Location                       0.334148       NaN  0.546693  0.426348  \n",
       "Pitch                          0.016331  0.546693       NaN  0.472928  \n",
       "Resource                       0.507016  0.426348  0.472928       NaN  "
      ]
     },
     "execution_count": 19,
     "metadata": {},
     "output_type": "execute_result"
    }
   ],
   "source": [
    "categorical = ['Industry', 'Pitch', 'Lead_revenue', 'Fund_category', 'Geography',\n",
    "               'Location', 'Designation', 'Hiring_candidate_role', 'Last_lead_update',\n",
    "               'Lead_source', 'Level_of_meeting', 'Internal_POC', 'Resource']\n",
    "\n",
    "l1=categorical\n",
    "l2=categorical\n",
    "cat_var_product=list(product(l1,l2,repeat=1))\n",
    "\n",
    "result=[]\n",
    "for i in cat_var_product:\n",
    "    if i[0]!=i[1]:\n",
    "        result.append((i[0],i[1],list(ss.chi2_contingency(pd.crosstab(df[i[0]],df[i[1]])))[1]))\n",
    "\n",
    "chi_sq_output=pd.DataFrame(result,columns=['l1','l2','p_value'])\n",
    "chi_sq_output.head()\n",
    "\n",
    "print('Given tables shows the pvalue corresponding two categorical variables')\n",
    "chi_sq_output.pivot(index='l1',columns='l2',values='p_value')\n"
   ]
  },
  {
   "cell_type": "code",
   "execution_count": 20,
   "id": "ee222655",
   "metadata": {},
   "outputs": [
    {
     "data": {
      "text/html": [
       "<div>\n",
       "<style scoped>\n",
       "    .dataframe tbody tr th:only-of-type {\n",
       "        vertical-align: middle;\n",
       "    }\n",
       "\n",
       "    .dataframe tbody tr th {\n",
       "        vertical-align: top;\n",
       "    }\n",
       "\n",
       "    .dataframe thead th {\n",
       "        text-align: right;\n",
       "    }\n",
       "</style>\n",
       "<table border=\"1\" class=\"dataframe\">\n",
       "  <thead>\n",
       "    <tr style=\"text-align: right;\">\n",
       "      <th></th>\n",
       "      <th>Deal_title</th>\n",
       "      <th>Lead_name</th>\n",
       "      <th>Industry</th>\n",
       "      <th>Deal_value</th>\n",
       "      <th>Weighted_amount</th>\n",
       "      <th>Date_of_creation</th>\n",
       "      <th>Pitch</th>\n",
       "      <th>Contact_no</th>\n",
       "      <th>Lead_revenue</th>\n",
       "      <th>Fund_category</th>\n",
       "      <th>...</th>\n",
       "      <th>Designation</th>\n",
       "      <th>Lead_POC_email</th>\n",
       "      <th>Hiring_candidate_role</th>\n",
       "      <th>Lead_source</th>\n",
       "      <th>Level_of_meeting</th>\n",
       "      <th>Last_lead_update</th>\n",
       "      <th>Internal_POC</th>\n",
       "      <th>Resource</th>\n",
       "      <th>Internal_rating</th>\n",
       "      <th>Success_probability</th>\n",
       "    </tr>\n",
       "  </thead>\n",
       "  <tbody>\n",
       "    <tr>\n",
       "      <th>0</th>\n",
       "      <td>TitleM5DZY</td>\n",
       "      <td>Davis, Perkins and Bishop Inc</td>\n",
       "      <td>Restaurants</td>\n",
       "      <td>320506.0</td>\n",
       "      <td>2067263.70</td>\n",
       "      <td>2020-03-29</td>\n",
       "      <td>Product_2</td>\n",
       "      <td>607.447.7883</td>\n",
       "      <td>50 - 100 Million</td>\n",
       "      <td>Category 2</td>\n",
       "      <td>...</td>\n",
       "      <td>Executive Vice President</td>\n",
       "      <td>charlenewerner@davis.com</td>\n",
       "      <td>Community pharmacist</td>\n",
       "      <td>Website</td>\n",
       "      <td>Level 3</td>\n",
       "      <td>No track</td>\n",
       "      <td>Davis,Sharrice A</td>\n",
       "      <td>NaN</td>\n",
       "      <td>3.0</td>\n",
       "      <td>73.6</td>\n",
       "    </tr>\n",
       "    <tr>\n",
       "      <th>1</th>\n",
       "      <td>TitleKIW18</td>\n",
       "      <td>Bender PLC LLC</td>\n",
       "      <td>Construction Services</td>\n",
       "      <td>39488.0</td>\n",
       "      <td>240876.80</td>\n",
       "      <td>2019-07-10</td>\n",
       "      <td>Product_2</td>\n",
       "      <td>892-938-9493</td>\n",
       "      <td>500 Million - 1 Billion</td>\n",
       "      <td>Category 4</td>\n",
       "      <td>...</td>\n",
       "      <td>Chairman/CEO/President</td>\n",
       "      <td>terrylogan@bender.com</td>\n",
       "      <td>Recruitment consultant</td>\n",
       "      <td>Others</td>\n",
       "      <td>Level 1</td>\n",
       "      <td>Did not hear back after Level 1</td>\n",
       "      <td>Brown,Maxine A</td>\n",
       "      <td>No</td>\n",
       "      <td>5.0</td>\n",
       "      <td>58.9</td>\n",
       "    </tr>\n",
       "    <tr>\n",
       "      <th>2</th>\n",
       "      <td>TitleFXSDN</td>\n",
       "      <td>Carter-Henry and Sons</td>\n",
       "      <td>Hospitals/Clinics</td>\n",
       "      <td>359392.0</td>\n",
       "      <td>2407926.40</td>\n",
       "      <td>2019-07-27</td>\n",
       "      <td>Product_1</td>\n",
       "      <td>538.748.2271</td>\n",
       "      <td>500 Million - 1 Billion</td>\n",
       "      <td>Category 4</td>\n",
       "      <td>...</td>\n",
       "      <td>SVP/General Counsel</td>\n",
       "      <td>arielhamilton@carterhenry.com</td>\n",
       "      <td>Health service manager</td>\n",
       "      <td>Marketing Event</td>\n",
       "      <td>Level 1</td>\n",
       "      <td>?</td>\n",
       "      <td>Georgakopoulos,Vasilios T</td>\n",
       "      <td>No</td>\n",
       "      <td>4.0</td>\n",
       "      <td>68.8</td>\n",
       "    </tr>\n",
       "    <tr>\n",
       "      <th>3</th>\n",
       "      <td>TitlePSK4Y</td>\n",
       "      <td>Garcia Ltd Ltd</td>\n",
       "      <td>Real Estate</td>\n",
       "      <td>76774.0</td>\n",
       "      <td>468321.40</td>\n",
       "      <td>2021-01-30</td>\n",
       "      <td>Product_2</td>\n",
       "      <td>(692)052-1389x75188</td>\n",
       "      <td>500 Million - 1 Billion</td>\n",
       "      <td>Category 3</td>\n",
       "      <td>...</td>\n",
       "      <td>CEO/Co-Founder/Chairman</td>\n",
       "      <td>erinwilson@garcia.com</td>\n",
       "      <td>Therapist, speech and language</td>\n",
       "      <td>Contact Email</td>\n",
       "      <td>Level 2</td>\n",
       "      <td>Did not hear back after Level 1</td>\n",
       "      <td>Brown,Maxine A</td>\n",
       "      <td>We have all the requirements</td>\n",
       "      <td>1.0</td>\n",
       "      <td>64.5</td>\n",
       "    </tr>\n",
       "    <tr>\n",
       "      <th>4</th>\n",
       "      <td>Title904GV</td>\n",
       "      <td>Lee and Sons PLC</td>\n",
       "      <td>Financial Services</td>\n",
       "      <td>483896.0</td>\n",
       "      <td>NaN</td>\n",
       "      <td>2019-05-22</td>\n",
       "      <td>Product_2</td>\n",
       "      <td>001-878-814-6134x015</td>\n",
       "      <td>50 - 100 Million</td>\n",
       "      <td>Category 3</td>\n",
       "      <td>...</td>\n",
       "      <td>Executive Vice President</td>\n",
       "      <td>mr.christopher@lee.com</td>\n",
       "      <td>Media planner</td>\n",
       "      <td>Website</td>\n",
       "      <td>Level 2</td>\n",
       "      <td>Up-to-date</td>\n",
       "      <td>Thomas,Lori E</td>\n",
       "      <td>No</td>\n",
       "      <td>4.0</td>\n",
       "      <td>62.4</td>\n",
       "    </tr>\n",
       "    <tr>\n",
       "      <th>...</th>\n",
       "      <td>...</td>\n",
       "      <td>...</td>\n",
       "      <td>...</td>\n",
       "      <td>...</td>\n",
       "      <td>...</td>\n",
       "      <td>...</td>\n",
       "      <td>...</td>\n",
       "      <td>...</td>\n",
       "      <td>...</td>\n",
       "      <td>...</td>\n",
       "      <td>...</td>\n",
       "      <td>...</td>\n",
       "      <td>...</td>\n",
       "      <td>...</td>\n",
       "      <td>...</td>\n",
       "      <td>...</td>\n",
       "      <td>...</td>\n",
       "      <td>...</td>\n",
       "      <td>...</td>\n",
       "      <td>...</td>\n",
       "      <td>...</td>\n",
       "    </tr>\n",
       "    <tr>\n",
       "      <th>2088</th>\n",
       "      <td>Title2R8VU</td>\n",
       "      <td>Phillips, Smith and Jones Inc</td>\n",
       "      <td>BioTech/Drugs</td>\n",
       "      <td>417150.0</td>\n",
       "      <td>2732332.50</td>\n",
       "      <td>2020-11-25</td>\n",
       "      <td>Product_2</td>\n",
       "      <td>(444)658-6350x207</td>\n",
       "      <td>100 - 500 Million</td>\n",
       "      <td>Category 3</td>\n",
       "      <td>...</td>\n",
       "      <td>Chairman/CEO/President</td>\n",
       "      <td>williamspears@phillips.com</td>\n",
       "      <td>Community development worker</td>\n",
       "      <td>Marketing Event</td>\n",
       "      <td>Level 3</td>\n",
       "      <td>No track</td>\n",
       "      <td>Ross,Eric L</td>\n",
       "      <td>No</td>\n",
       "      <td>1.0</td>\n",
       "      <td>NaN</td>\n",
       "    </tr>\n",
       "    <tr>\n",
       "      <th>2089</th>\n",
       "      <td>Title7HCNJ</td>\n",
       "      <td>Elliott-Morales PLC</td>\n",
       "      <td>Real Estate</td>\n",
       "      <td>488661.0</td>\n",
       "      <td>2956399.05</td>\n",
       "      <td>2019-10-20</td>\n",
       "      <td>Product_2</td>\n",
       "      <td>1377254815</td>\n",
       "      <td>50 - 100 Million</td>\n",
       "      <td>Category 3</td>\n",
       "      <td>...</td>\n",
       "      <td>Chief Executive Officer</td>\n",
       "      <td>amypage@elliottmorales.com</td>\n",
       "      <td>Forest/woodland manager</td>\n",
       "      <td>Others</td>\n",
       "      <td>Level 2</td>\n",
       "      <td>Following up but lead not responding</td>\n",
       "      <td>Abdul-Hamid,Saud Muhamad</td>\n",
       "      <td>Cannot deliver</td>\n",
       "      <td>5.0</td>\n",
       "      <td>NaN</td>\n",
       "    </tr>\n",
       "    <tr>\n",
       "      <th>2090</th>\n",
       "      <td>TitleCD5YZ</td>\n",
       "      <td>Herrera-Santos PLC</td>\n",
       "      <td>Sales/Marketing Services</td>\n",
       "      <td>421119.0</td>\n",
       "      <td>2631993.75</td>\n",
       "      <td>2019-03-23</td>\n",
       "      <td>Product_1</td>\n",
       "      <td>695-757-3607x5834</td>\n",
       "      <td>50 - 100 Million</td>\n",
       "      <td>Category 1</td>\n",
       "      <td>...</td>\n",
       "      <td>CEO/Co-Founder/Chairman</td>\n",
       "      <td>markcombs@herrerasantos.com</td>\n",
       "      <td>Actuary</td>\n",
       "      <td>Contact Email</td>\n",
       "      <td>Level 1</td>\n",
       "      <td>?</td>\n",
       "      <td>Bannister,Joan</td>\n",
       "      <td>Deliverable</td>\n",
       "      <td>5.0</td>\n",
       "      <td>NaN</td>\n",
       "    </tr>\n",
       "    <tr>\n",
       "      <th>2091</th>\n",
       "      <td>Title8OKXL</td>\n",
       "      <td>Howard, Martinez and Jacobs PLC</td>\n",
       "      <td>Banks</td>\n",
       "      <td>59879.0</td>\n",
       "      <td>350292.15</td>\n",
       "      <td>2019-02-05</td>\n",
       "      <td>Product_1</td>\n",
       "      <td>+1-688-318-4079x644</td>\n",
       "      <td>50 - 100 Million</td>\n",
       "      <td>Category 2</td>\n",
       "      <td>...</td>\n",
       "      <td>Chief Executive Officer</td>\n",
       "      <td>justinmorgan@howard.com</td>\n",
       "      <td>Designer, textile</td>\n",
       "      <td>Marketing Event</td>\n",
       "      <td>Level 1</td>\n",
       "      <td>NaN</td>\n",
       "      <td>Murray,Younetta</td>\n",
       "      <td>We have all the requirements</td>\n",
       "      <td>5.0</td>\n",
       "      <td>NaN</td>\n",
       "    </tr>\n",
       "    <tr>\n",
       "      <th>2092</th>\n",
       "      <td>TitleHFQT8</td>\n",
       "      <td>Smith Group LLC</td>\n",
       "      <td>Architecture/Engineering</td>\n",
       "      <td>159677.0</td>\n",
       "      <td>1021932.80</td>\n",
       "      <td>2019-06-22</td>\n",
       "      <td>Product_1</td>\n",
       "      <td>769-766-0278x1840</td>\n",
       "      <td>50 - 100 Million</td>\n",
       "      <td>Category 4</td>\n",
       "      <td>...</td>\n",
       "      <td>CEO/Chairman/President</td>\n",
       "      <td>juansalazar@smith.com</td>\n",
       "      <td>Clinical cytogeneticist</td>\n",
       "      <td>Website</td>\n",
       "      <td>Level 2</td>\n",
       "      <td>More than 2 weeks</td>\n",
       "      <td>Cashin,Marc C</td>\n",
       "      <td>We have all the requirements</td>\n",
       "      <td>3.0</td>\n",
       "      <td>NaN</td>\n",
       "    </tr>\n",
       "  </tbody>\n",
       "</table>\n",
       "<p>9100 rows × 23 columns</p>\n",
       "</div>"
      ],
      "text/plain": [
       "      Deal_title                        Lead_name                  Industry   \n",
       "0     TitleM5DZY    Davis, Perkins and Bishop Inc               Restaurants  \\\n",
       "1     TitleKIW18                   Bender PLC LLC     Construction Services   \n",
       "2     TitleFXSDN            Carter-Henry and Sons         Hospitals/Clinics   \n",
       "3     TitlePSK4Y                   Garcia Ltd Ltd               Real Estate   \n",
       "4     Title904GV                 Lee and Sons PLC        Financial Services   \n",
       "...          ...                              ...                       ...   \n",
       "2088  Title2R8VU    Phillips, Smith and Jones Inc             BioTech/Drugs   \n",
       "2089  Title7HCNJ              Elliott-Morales PLC               Real Estate   \n",
       "2090  TitleCD5YZ               Herrera-Santos PLC  Sales/Marketing Services   \n",
       "2091  Title8OKXL  Howard, Martinez and Jacobs PLC                     Banks   \n",
       "2092  TitleHFQT8                  Smith Group LLC  Architecture/Engineering   \n",
       "\n",
       "      Deal_value  Weighted_amount Date_of_creation      Pitch   \n",
       "0       320506.0       2067263.70       2020-03-29  Product_2  \\\n",
       "1        39488.0        240876.80       2019-07-10  Product_2   \n",
       "2       359392.0       2407926.40       2019-07-27  Product_1   \n",
       "3        76774.0        468321.40       2021-01-30  Product_2   \n",
       "4       483896.0              NaN       2019-05-22  Product_2   \n",
       "...          ...              ...              ...        ...   \n",
       "2088    417150.0       2732332.50       2020-11-25  Product_2   \n",
       "2089    488661.0       2956399.05       2019-10-20  Product_2   \n",
       "2090    421119.0       2631993.75       2019-03-23  Product_1   \n",
       "2091     59879.0        350292.15       2019-02-05  Product_1   \n",
       "2092    159677.0       1021932.80       2019-06-22  Product_1   \n",
       "\n",
       "                Contact_no             Lead_revenue Fund_category  ...   \n",
       "0             607.447.7883         50 - 100 Million    Category 2  ...  \\\n",
       "1             892-938-9493  500 Million - 1 Billion    Category 4  ...   \n",
       "2             538.748.2271  500 Million - 1 Billion    Category 4  ...   \n",
       "3      (692)052-1389x75188  500 Million - 1 Billion    Category 3  ...   \n",
       "4     001-878-814-6134x015         50 - 100 Million    Category 3  ...   \n",
       "...                    ...                      ...           ...  ...   \n",
       "2088     (444)658-6350x207        100 - 500 Million    Category 3  ...   \n",
       "2089            1377254815         50 - 100 Million    Category 3  ...   \n",
       "2090     695-757-3607x5834         50 - 100 Million    Category 1  ...   \n",
       "2091   +1-688-318-4079x644         50 - 100 Million    Category 2  ...   \n",
       "2092     769-766-0278x1840         50 - 100 Million    Category 4  ...   \n",
       "\n",
       "                   Designation                 Lead_POC_email   \n",
       "0     Executive Vice President       charlenewerner@davis.com  \\\n",
       "1       Chairman/CEO/President          terrylogan@bender.com   \n",
       "2         SVP/General Counsel   arielhamilton@carterhenry.com   \n",
       "3      CEO/Co-Founder/Chairman          erinwilson@garcia.com   \n",
       "4     Executive Vice President         mr.christopher@lee.com   \n",
       "...                        ...                            ...   \n",
       "2088    Chairman/CEO/President     williamspears@phillips.com   \n",
       "2089   Chief Executive Officer     amypage@elliottmorales.com   \n",
       "2090   CEO/Co-Founder/Chairman    markcombs@herrerasantos.com   \n",
       "2091   Chief Executive Officer        justinmorgan@howard.com   \n",
       "2092    CEO/Chairman/President          juansalazar@smith.com   \n",
       "\n",
       "               Hiring_candidate_role      Lead_source Level_of_meeting   \n",
       "0               Community pharmacist          Website          Level 3  \\\n",
       "1             Recruitment consultant           Others          Level 1   \n",
       "2             Health service manager  Marketing Event          Level 1   \n",
       "3     Therapist, speech and language    Contact Email          Level 2   \n",
       "4                      Media planner          Website          Level 2   \n",
       "...                              ...              ...              ...   \n",
       "2088    Community development worker  Marketing Event          Level 3   \n",
       "2089         Forest/woodland manager           Others          Level 2   \n",
       "2090                         Actuary    Contact Email          Level 1   \n",
       "2091               Designer, textile  Marketing Event          Level 1   \n",
       "2092         Clinical cytogeneticist          Website          Level 2   \n",
       "\n",
       "                          Last_lead_update               Internal_POC   \n",
       "0                                 No track           Davis,Sharrice A  \\\n",
       "1          Did not hear back after Level 1             Brown,Maxine A   \n",
       "2                                        ?  Georgakopoulos,Vasilios T   \n",
       "3          Did not hear back after Level 1             Brown,Maxine A   \n",
       "4                               Up-to-date              Thomas,Lori E   \n",
       "...                                    ...                        ...   \n",
       "2088                              No track                Ross,Eric L   \n",
       "2089  Following up but lead not responding   Abdul-Hamid,Saud Muhamad   \n",
       "2090                                     ?             Bannister,Joan   \n",
       "2091                                   NaN            Murray,Younetta   \n",
       "2092                     More than 2 weeks              Cashin,Marc C   \n",
       "\n",
       "                          Resource Internal_rating Success_probability  \n",
       "0                              NaN             3.0                73.6  \n",
       "1                               No             5.0                58.9  \n",
       "2                               No             4.0                68.8  \n",
       "3     We have all the requirements             1.0                64.5  \n",
       "4                               No             4.0                62.4  \n",
       "...                            ...             ...                 ...  \n",
       "2088                            No             1.0                 NaN  \n",
       "2089                Cannot deliver             5.0                 NaN  \n",
       "2090                   Deliverable             5.0                 NaN  \n",
       "2091  We have all the requirements             5.0                 NaN  \n",
       "2092  We have all the requirements             3.0                 NaN  \n",
       "\n",
       "[9100 rows x 23 columns]"
      ]
     },
     "execution_count": 20,
     "metadata": {},
     "output_type": "execute_result"
    }
   ],
   "source": [
    "df"
   ]
  },
  {
   "cell_type": "code",
   "execution_count": 21,
   "id": "b96fe6d4",
   "metadata": {},
   "outputs": [],
   "source": [
    "df1=df.drop(['Deal_title','Date_of_creation','Contact_no','Lead_name','Lead_POC_email','POC_name'],axis=1)"
   ]
  },
  {
   "cell_type": "code",
   "execution_count": 22,
   "id": "f795278a",
   "metadata": {},
   "outputs": [
    {
     "name": "stdout",
     "output_type": "stream",
     "text": [
      "(23,)\n"
     ]
    }
   ],
   "source": [
    "df1.columns\n",
    "print(df.columns.shape)"
   ]
  },
  {
   "cell_type": "code",
   "execution_count": 23,
   "id": "16958922",
   "metadata": {},
   "outputs": [
    {
     "data": {
      "text/html": [
       "<div>\n",
       "<style scoped>\n",
       "    .dataframe tbody tr th:only-of-type {\n",
       "        vertical-align: middle;\n",
       "    }\n",
       "\n",
       "    .dataframe tbody tr th {\n",
       "        vertical-align: top;\n",
       "    }\n",
       "\n",
       "    .dataframe thead th {\n",
       "        text-align: right;\n",
       "    }\n",
       "</style>\n",
       "<table border=\"1\" class=\"dataframe\">\n",
       "  <thead>\n",
       "    <tr style=\"text-align: right;\">\n",
       "      <th></th>\n",
       "      <th>Industry</th>\n",
       "      <th>Deal_value</th>\n",
       "      <th>Weighted_amount</th>\n",
       "      <th>Pitch</th>\n",
       "      <th>Lead_revenue</th>\n",
       "      <th>Fund_category</th>\n",
       "      <th>Geography</th>\n",
       "      <th>Location</th>\n",
       "      <th>Designation</th>\n",
       "      <th>Hiring_candidate_role</th>\n",
       "      <th>Lead_source</th>\n",
       "      <th>Level_of_meeting</th>\n",
       "      <th>Last_lead_update</th>\n",
       "      <th>Internal_POC</th>\n",
       "      <th>Resource</th>\n",
       "      <th>Internal_rating</th>\n",
       "      <th>Success_probability</th>\n",
       "    </tr>\n",
       "  </thead>\n",
       "  <tbody>\n",
       "    <tr>\n",
       "      <th>0</th>\n",
       "      <td>Restaurants</td>\n",
       "      <td>320506.0</td>\n",
       "      <td>2067263.7</td>\n",
       "      <td>Product_2</td>\n",
       "      <td>50 - 100 Million</td>\n",
       "      <td>Category 2</td>\n",
       "      <td>USA</td>\n",
       "      <td>Killeen-Temple, TX</td>\n",
       "      <td>Executive Vice President</td>\n",
       "      <td>Community pharmacist</td>\n",
       "      <td>Website</td>\n",
       "      <td>Level 3</td>\n",
       "      <td>No track</td>\n",
       "      <td>Davis,Sharrice A</td>\n",
       "      <td>NaN</td>\n",
       "      <td>3.0</td>\n",
       "      <td>73.6</td>\n",
       "    </tr>\n",
       "    <tr>\n",
       "      <th>1</th>\n",
       "      <td>Construction Services</td>\n",
       "      <td>39488.0</td>\n",
       "      <td>240876.8</td>\n",
       "      <td>Product_2</td>\n",
       "      <td>500 Million - 1 Billion</td>\n",
       "      <td>Category 4</td>\n",
       "      <td>India</td>\n",
       "      <td>Ratlam</td>\n",
       "      <td>Chairman/CEO/President</td>\n",
       "      <td>Recruitment consultant</td>\n",
       "      <td>Others</td>\n",
       "      <td>Level 1</td>\n",
       "      <td>Did not hear back after Level 1</td>\n",
       "      <td>Brown,Maxine A</td>\n",
       "      <td>No</td>\n",
       "      <td>5.0</td>\n",
       "      <td>58.9</td>\n",
       "    </tr>\n",
       "    <tr>\n",
       "      <th>2</th>\n",
       "      <td>Hospitals/Clinics</td>\n",
       "      <td>359392.0</td>\n",
       "      <td>2407926.4</td>\n",
       "      <td>Product_1</td>\n",
       "      <td>500 Million - 1 Billion</td>\n",
       "      <td>Category 4</td>\n",
       "      <td>USA</td>\n",
       "      <td>Albany-Schenectady-Troy, NY</td>\n",
       "      <td>SVP/General Counsel</td>\n",
       "      <td>Health service manager</td>\n",
       "      <td>Marketing Event</td>\n",
       "      <td>Level 1</td>\n",
       "      <td>?</td>\n",
       "      <td>Georgakopoulos,Vasilios T</td>\n",
       "      <td>No</td>\n",
       "      <td>4.0</td>\n",
       "      <td>68.8</td>\n",
       "    </tr>\n",
       "    <tr>\n",
       "      <th>3</th>\n",
       "      <td>Real Estate</td>\n",
       "      <td>76774.0</td>\n",
       "      <td>468321.4</td>\n",
       "      <td>Product_2</td>\n",
       "      <td>500 Million - 1 Billion</td>\n",
       "      <td>Category 3</td>\n",
       "      <td>USA</td>\n",
       "      <td>Mount Vernon-Anacortes, WA</td>\n",
       "      <td>CEO/Co-Founder/Chairman</td>\n",
       "      <td>Therapist, speech and language</td>\n",
       "      <td>Contact Email</td>\n",
       "      <td>Level 2</td>\n",
       "      <td>Did not hear back after Level 1</td>\n",
       "      <td>Brown,Maxine A</td>\n",
       "      <td>We have all the requirements</td>\n",
       "      <td>1.0</td>\n",
       "      <td>64.5</td>\n",
       "    </tr>\n",
       "    <tr>\n",
       "      <th>4</th>\n",
       "      <td>Financial Services</td>\n",
       "      <td>483896.0</td>\n",
       "      <td>NaN</td>\n",
       "      <td>Product_2</td>\n",
       "      <td>50 - 100 Million</td>\n",
       "      <td>Category 3</td>\n",
       "      <td>India</td>\n",
       "      <td>Shimoga</td>\n",
       "      <td>Executive Vice President</td>\n",
       "      <td>Media planner</td>\n",
       "      <td>Website</td>\n",
       "      <td>Level 2</td>\n",
       "      <td>Up-to-date</td>\n",
       "      <td>Thomas,Lori E</td>\n",
       "      <td>No</td>\n",
       "      <td>4.0</td>\n",
       "      <td>62.4</td>\n",
       "    </tr>\n",
       "  </tbody>\n",
       "</table>\n",
       "</div>"
      ],
      "text/plain": [
       "                Industry  Deal_value  Weighted_amount      Pitch   \n",
       "0            Restaurants    320506.0        2067263.7  Product_2  \\\n",
       "1  Construction Services     39488.0         240876.8  Product_2   \n",
       "2      Hospitals/Clinics    359392.0        2407926.4  Product_1   \n",
       "3            Real Estate     76774.0         468321.4  Product_2   \n",
       "4     Financial Services    483896.0              NaN  Product_2   \n",
       "\n",
       "              Lead_revenue Fund_category Geography   \n",
       "0         50 - 100 Million    Category 2       USA  \\\n",
       "1  500 Million - 1 Billion    Category 4     India   \n",
       "2  500 Million - 1 Billion    Category 4       USA   \n",
       "3  500 Million - 1 Billion    Category 3       USA   \n",
       "4         50 - 100 Million    Category 3     India   \n",
       "\n",
       "                      Location               Designation   \n",
       "0           Killeen-Temple, TX  Executive Vice President  \\\n",
       "1                       Ratlam    Chairman/CEO/President   \n",
       "2  Albany-Schenectady-Troy, NY      SVP/General Counsel    \n",
       "3   Mount Vernon-Anacortes, WA   CEO/Co-Founder/Chairman   \n",
       "4                      Shimoga  Executive Vice President   \n",
       "\n",
       "            Hiring_candidate_role      Lead_source Level_of_meeting   \n",
       "0            Community pharmacist          Website          Level 3  \\\n",
       "1          Recruitment consultant           Others          Level 1   \n",
       "2          Health service manager  Marketing Event          Level 1   \n",
       "3  Therapist, speech and language    Contact Email          Level 2   \n",
       "4                   Media planner          Website          Level 2   \n",
       "\n",
       "                  Last_lead_update               Internal_POC   \n",
       "0                         No track           Davis,Sharrice A  \\\n",
       "1  Did not hear back after Level 1             Brown,Maxine A   \n",
       "2                                ?  Georgakopoulos,Vasilios T   \n",
       "3  Did not hear back after Level 1             Brown,Maxine A   \n",
       "4                       Up-to-date              Thomas,Lori E   \n",
       "\n",
       "                       Resource  Internal_rating  Success_probability  \n",
       "0                           NaN              3.0                 73.6  \n",
       "1                            No              5.0                 58.9  \n",
       "2                            No              4.0                 68.8  \n",
       "3  We have all the requirements              1.0                 64.5  \n",
       "4                            No              4.0                 62.4  "
      ]
     },
     "execution_count": 23,
     "metadata": {},
     "output_type": "execute_result"
    }
   ],
   "source": [
    "df1.head()"
   ]
  },
  {
   "cell_type": "markdown",
   "id": "6650a90f",
   "metadata": {},
   "source": [
    "# Missing values"
   ]
  },
  {
   "cell_type": "code",
   "execution_count": 24,
   "id": "ac0b0618",
   "metadata": {
    "scrolled": true
   },
   "outputs": [
    {
     "data": {
      "text/plain": [
       "Industry                  0.021978\n",
       "Deal_value                0.615385\n",
       "Weighted_amount           6.428571\n",
       "Pitch                     0.000000\n",
       "Lead_revenue              0.000000\n",
       "Fund_category             0.000000\n",
       "Geography                11.549451\n",
       "Location                  0.153846\n",
       "Designation               0.000000\n",
       "Hiring_candidate_role     0.000000\n",
       "Lead_source               0.000000\n",
       "Level_of_meeting          0.000000\n",
       "Last_lead_update          8.802198\n",
       "Internal_POC              0.000000\n",
       "Resource                  1.791209\n",
       "Internal_rating           0.000000\n",
       "Success_probability      23.000000\n",
       "dtype: float64"
      ]
     },
     "execution_count": 24,
     "metadata": {},
     "output_type": "execute_result"
    }
   ],
   "source": [
    "df1.isnull().mean()*100 "
   ]
  },
  {
   "cell_type": "markdown",
   "id": "1e92b1e1",
   "metadata": {},
   "source": [
    "## Indiustry Column"
   ]
  },
  {
   "cell_type": "code",
   "execution_count": 25,
   "id": "8973f86e",
   "metadata": {},
   "outputs": [],
   "source": [
    "df1.dropna(subset=['Industry'], inplace=True)"
   ]
  },
  {
   "cell_type": "code",
   "execution_count": 26,
   "id": "a7ee6587",
   "metadata": {},
   "outputs": [
    {
     "data": {
      "text/plain": [
       "Industry                    0\n",
       "Deal_value                 56\n",
       "Weighted_amount           585\n",
       "Pitch                       0\n",
       "Lead_revenue                0\n",
       "Fund_category               0\n",
       "Geography                1051\n",
       "Location                   14\n",
       "Designation                 0\n",
       "Hiring_candidate_role       0\n",
       "Lead_source                 0\n",
       "Level_of_meeting            0\n",
       "Last_lead_update          801\n",
       "Internal_POC                0\n",
       "Resource                  163\n",
       "Internal_rating             0\n",
       "Success_probability      2092\n",
       "dtype: int64"
      ]
     },
     "execution_count": 26,
     "metadata": {},
     "output_type": "execute_result"
    }
   ],
   "source": [
    "df1.isnull().sum()"
   ]
  },
  {
   "cell_type": "markdown",
   "id": "99125603",
   "metadata": {},
   "source": [
    "## Continuous columns"
   ]
  },
  {
   "cell_type": "code",
   "execution_count": 27,
   "id": "785f6d90",
   "metadata": {},
   "outputs": [],
   "source": [
    "\n",
    "imputer=SimpleImputer(strategy='mean')"
   ]
  },
  {
   "cell_type": "code",
   "execution_count": 28,
   "id": "624fd29b",
   "metadata": {},
   "outputs": [],
   "source": [
    "df1['Deal_value']=imputer.fit_transform(df1[['Deal_value']])\n",
    "df1['Weighted_amount']=imputer.fit_transform(df1[['Weighted_amount']])"
   ]
  },
  {
   "cell_type": "code",
   "execution_count": 29,
   "id": "9a123fe8",
   "metadata": {},
   "outputs": [
    {
     "data": {
      "text/plain": [
       "Industry                    0\n",
       "Deal_value                  0\n",
       "Weighted_amount             0\n",
       "Pitch                       0\n",
       "Lead_revenue                0\n",
       "Fund_category               0\n",
       "Geography                1051\n",
       "Location                   14\n",
       "Designation                 0\n",
       "Hiring_candidate_role       0\n",
       "Lead_source                 0\n",
       "Level_of_meeting            0\n",
       "Last_lead_update          801\n",
       "Internal_POC                0\n",
       "Resource                  163\n",
       "Internal_rating             0\n",
       "Success_probability      2092\n",
       "dtype: int64"
      ]
     },
     "execution_count": 29,
     "metadata": {},
     "output_type": "execute_result"
    }
   ],
   "source": [
    "df1.isnull().sum()"
   ]
  },
  {
   "cell_type": "markdown",
   "id": "8cb35f81",
   "metadata": {},
   "source": [
    "## fill Null value by 'Other'"
   ]
  },
  {
   "cell_type": "code",
   "execution_count": 30,
   "id": "eb6f1349",
   "metadata": {},
   "outputs": [
    {
     "data": {
      "text/plain": [
       "0    USA\n",
       "Name: Geography, dtype: object"
      ]
     },
     "execution_count": 30,
     "metadata": {},
     "output_type": "execute_result"
    }
   ],
   "source": [
    "df1.Geography.mode()"
   ]
  },
  {
   "cell_type": "code",
   "execution_count": 31,
   "id": "b3ef89e9",
   "metadata": {},
   "outputs": [],
   "source": [
    "df1['Last_lead_update'].fillna('other', inplace=True)\n",
    "df1['Resource'].fillna('other', inplace=True)\n",
    "df1['Geography'].fillna('USA',inplace=True)"
   ]
  },
  {
   "cell_type": "code",
   "execution_count": 32,
   "id": "0319e220",
   "metadata": {},
   "outputs": [],
   "source": [
    "#Replace'?' with the pending status\n",
    "df1['Last_lead_update'] = df1['Last_lead_update'].replace('?', 'Pending')\n"
   ]
  },
  {
   "cell_type": "code",
   "execution_count": 33,
   "id": "9d87208d",
   "metadata": {},
   "outputs": [
    {
     "data": {
      "text/plain": [
       "Industry                    0\n",
       "Deal_value                  0\n",
       "Weighted_amount             0\n",
       "Pitch                       0\n",
       "Lead_revenue                0\n",
       "Fund_category               0\n",
       "Geography                   0\n",
       "Location                   14\n",
       "Designation                 0\n",
       "Hiring_candidate_role       0\n",
       "Lead_source                 0\n",
       "Level_of_meeting            0\n",
       "Last_lead_update            0\n",
       "Internal_POC                0\n",
       "Resource                    0\n",
       "Internal_rating             0\n",
       "Success_probability      2092\n",
       "dtype: int64"
      ]
     },
     "execution_count": 33,
     "metadata": {},
     "output_type": "execute_result"
    }
   ],
   "source": [
    "df1.isnull().sum()"
   ]
  },
  {
   "cell_type": "code",
   "execution_count": 34,
   "id": "475e7c10",
   "metadata": {},
   "outputs": [
    {
     "data": {
      "text/plain": [
       "{'2 days back',\n",
       " '5 days back',\n",
       " 'Did not hear back after Level 1',\n",
       " 'Following up but lead not responding',\n",
       " 'More than 2 weeks',\n",
       " 'More than a week back',\n",
       " 'No track',\n",
       " 'Pending',\n",
       " 'Up-to-date',\n",
       " 'more than a month',\n",
       " 'other'}"
      ]
     },
     "execution_count": 34,
     "metadata": {},
     "output_type": "execute_result"
    }
   ],
   "source": [
    "set([i for i in df1.Last_lead_update ])"
   ]
  },
  {
   "cell_type": "code",
   "execution_count": 35,
   "id": "3b742d6e",
   "metadata": {},
   "outputs": [
    {
     "data": {
      "text/plain": [
       "array(['other', 'No', 'We have all the requirements', 'Deliverable',\n",
       "       'Cannot deliver', 'Not enough', 'Yes'], dtype=object)"
      ]
     },
     "execution_count": 35,
     "metadata": {},
     "output_type": "execute_result"
    }
   ],
   "source": [
    "df1['Resource'].unique()"
   ]
  },
  {
   "cell_type": "code",
   "execution_count": 36,
   "id": "901bd84e",
   "metadata": {},
   "outputs": [
    {
     "data": {
      "text/plain": [
       "Industry                    0\n",
       "Deal_value                  0\n",
       "Weighted_amount             0\n",
       "Pitch                       0\n",
       "Lead_revenue                0\n",
       "Fund_category               0\n",
       "Geography                   0\n",
       "Location                   14\n",
       "Designation                 0\n",
       "Hiring_candidate_role       0\n",
       "Lead_source                 0\n",
       "Level_of_meeting            0\n",
       "Last_lead_update            0\n",
       "Internal_POC                0\n",
       "Resource                    0\n",
       "Internal_rating             0\n",
       "Success_probability      2092\n",
       "dtype: int64"
      ]
     },
     "execution_count": 36,
     "metadata": {},
     "output_type": "execute_result"
    }
   ],
   "source": [
    "df1.isnull().sum()"
   ]
  },
  {
   "cell_type": "markdown",
   "id": "9010ce87",
   "metadata": {},
   "source": [
    "## Designation"
   ]
  },
  {
   "cell_type": "code",
   "execution_count": 37,
   "id": "84ffd214",
   "metadata": {},
   "outputs": [
    {
     "data": {
      "text/plain": [
       "Designation\n",
       "CEO                                                                  942\n",
       "Chairman/CEO/President                                               935\n",
       "CEO/Co-Founder/Chairman                                              930\n",
       "CEO/Chairman/President                                               928\n",
       "SVP/General Counsel                                                  926\n",
       "Executive Vice President                                             918\n",
       "Vice President / GM (04-present) : VP Sales and Marketing (01-04)    898\n",
       "Chairman/Chief Innovation Officer                                    884\n",
       "Chief Executive Officer                                              871\n",
       "CEO/President                                                        868\n",
       "Name: count, dtype: int64"
      ]
     },
     "execution_count": 37,
     "metadata": {},
     "output_type": "execute_result"
    }
   ],
   "source": [
    "df.Designation.value_counts()"
   ]
  },
  {
   "cell_type": "code",
   "execution_count": 38,
   "id": "e4a061e1",
   "metadata": {},
   "outputs": [],
   "source": [
    "df1['Designation']=df1['Designation'].apply(lambda x: x.split('/')[0])"
   ]
  },
  {
   "cell_type": "code",
   "execution_count": 39,
   "id": "f5ac950f",
   "metadata": {},
   "outputs": [
    {
     "data": {
      "text/plain": [
       "Index(['Industry', 'Deal_value', 'Weighted_amount', 'Pitch', 'Lead_revenue',\n",
       "       'Fund_category', 'Geography', 'Location', 'Designation',\n",
       "       'Hiring_candidate_role', 'Lead_source', 'Level_of_meeting',\n",
       "       'Last_lead_update', 'Internal_POC', 'Resource', 'Internal_rating',\n",
       "       'Success_probability'],\n",
       "      dtype='object')"
      ]
     },
     "execution_count": 39,
     "metadata": {},
     "output_type": "execute_result"
    }
   ],
   "source": [
    " df1.columns"
   ]
  },
  {
   "cell_type": "markdown",
   "id": "c4e4d4da",
   "metadata": {},
   "source": [
    "#### Showing there is no strong association between categorical variables\n",
    "1. Location and geography showing the association so we will keep geographi\n",
    "2. Location and Industry showing the association so we will keep Industry\n",
    "3. Level of meeting and desgnation also have association\n"
   ]
  },
  {
   "cell_type": "markdown",
   "id": "c7605e76",
   "metadata": {},
   "source": [
    "#### We can consider null value as the category"
   ]
  },
  {
   "cell_type": "markdown",
   "id": "a8f3bfba",
   "metadata": {},
   "source": [
    "## Working on Target variable"
   ]
  },
  {
   "cell_type": "code",
   "execution_count": 40,
   "id": "e94bc5f6",
   "metadata": {},
   "outputs": [
    {
     "data": {
      "text/plain": [
       "2092"
      ]
     },
     "execution_count": 40,
     "metadata": {},
     "output_type": "execute_result"
    }
   ],
   "source": [
    "df1['Success_probability'].isnull().sum()"
   ]
  },
  {
   "cell_type": "code",
   "execution_count": 41,
   "id": "9b8f2919",
   "metadata": {},
   "outputs": [],
   "source": [
    "#df['Success_probability'].fillna(df['Success_probability'].mean(),inplace=True)"
   ]
  },
  {
   "cell_type": "code",
   "execution_count": 42,
   "id": "f4637ea8",
   "metadata": {},
   "outputs": [
    {
     "data": {
      "text/plain": [
       "Industry                    0\n",
       "Deal_value                  0\n",
       "Weighted_amount             0\n",
       "Pitch                       0\n",
       "Lead_revenue                0\n",
       "Fund_category               0\n",
       "Geography                   0\n",
       "Location                   14\n",
       "Designation                 0\n",
       "Hiring_candidate_role       0\n",
       "Lead_source                 0\n",
       "Level_of_meeting            0\n",
       "Last_lead_update            0\n",
       "Internal_POC                0\n",
       "Resource                    0\n",
       "Internal_rating             0\n",
       "Success_probability      2092\n",
       "dtype: int64"
      ]
     },
     "execution_count": 42,
     "metadata": {},
     "output_type": "execute_result"
    }
   ],
   "source": [
    "df1.isnull().sum()\n"
   ]
  },
  {
   "cell_type": "code",
   "execution_count": 43,
   "id": "879968b7",
   "metadata": {},
   "outputs": [],
   "source": [
    "df1['Success_probability']=df1['Success_probability'].apply(lambda x:x/100)"
   ]
  },
  {
   "cell_type": "code",
   "execution_count": 44,
   "id": "1626f26a",
   "metadata": {},
   "outputs": [
    {
     "data": {
      "text/plain": [
       "count    7006.000000\n",
       "mean        0.647463\n",
       "std         0.179327\n",
       "min        -0.050000\n",
       "25%         0.606000\n",
       "50%         0.653000\n",
       "75%         0.696000\n",
       "max         1.073400\n",
       "Name: Success_probability, dtype: float64"
      ]
     },
     "execution_count": 44,
     "metadata": {},
     "output_type": "execute_result"
    }
   ],
   "source": [
    "df1.Success_probability.describe()"
   ]
  },
  {
   "cell_type": "code",
   "execution_count": 45,
   "id": "8681cf43",
   "metadata": {},
   "outputs": [
    {
     "data": {
      "text/plain": [
       "(9098, 17)"
      ]
     },
     "execution_count": 45,
     "metadata": {},
     "output_type": "execute_result"
    }
   ],
   "source": [
    "df1.shape\n"
   ]
  },
  {
   "cell_type": "code",
   "execution_count": 46,
   "id": "2d66fa00",
   "metadata": {},
   "outputs": [],
   "source": [
    "df1=df1[~(df1['Success_probability']<0) | (df1['Success_probability']>1)]\n"
   ]
  },
  {
   "cell_type": "code",
   "execution_count": 47,
   "id": "07bfc22b",
   "metadata": {},
   "outputs": [],
   "source": [
    "df1.dropna(subset=['Success_probability'], inplace=True)"
   ]
  },
  {
   "cell_type": "code",
   "execution_count": 48,
   "id": "17de77b0",
   "metadata": {},
   "outputs": [
    {
     "data": {
      "text/plain": [
       "Industry                  0\n",
       "Deal_value                0\n",
       "Weighted_amount           0\n",
       "Pitch                     0\n",
       "Lead_revenue              0\n",
       "Fund_category             0\n",
       "Geography                 0\n",
       "Location                 11\n",
       "Designation               0\n",
       "Hiring_candidate_role     0\n",
       "Lead_source               0\n",
       "Level_of_meeting          0\n",
       "Last_lead_update          0\n",
       "Internal_POC              0\n",
       "Resource                  0\n",
       "Internal_rating           0\n",
       "Success_probability       0\n",
       "dtype: int64"
      ]
     },
     "execution_count": 48,
     "metadata": {},
     "output_type": "execute_result"
    }
   ],
   "source": [
    "df1.isnull().sum()"
   ]
  },
  {
   "cell_type": "markdown",
   "id": "b2852b9e",
   "metadata": {},
   "source": [
    "## Internal Rating/Outlier Removal"
   ]
  },
  {
   "cell_type": "code",
   "execution_count": 49,
   "id": "35d098ee",
   "metadata": {},
   "outputs": [],
   "source": [
    "df1=df1[~(df1.Internal_rating==82.34)] #Remove outlier"
   ]
  },
  {
   "cell_type": "code",
   "execution_count": 50,
   "id": "f3ae16cc",
   "metadata": {},
   "outputs": [
    {
     "data": {
      "text/plain": [
       "array([3., 5., 4., 1., 2.])"
      ]
     },
     "execution_count": 50,
     "metadata": {},
     "output_type": "execute_result"
    }
   ],
   "source": [
    "df1.Internal_rating.unique()"
   ]
  },
  {
   "cell_type": "code",
   "execution_count": 51,
   "id": "89669613",
   "metadata": {},
   "outputs": [
    {
     "data": {
      "image/png": "[encoded data removed]",
      "text/plain": [
       "<Figure size 1080x432 with 2 Axes>"
      ]
     },
     "metadata": {
      "needs_background": "light"
     },
     "output_type": "display_data"
    }
   ],
   "source": [
    "# Create subplots with 1 row and 2 columns\n",
    "fig, axes = plt.subplots(1, 2, figsize=(15, 6))\n",
    "\n",
    "# Plot 1: Internal Rating Distribution (Histogram)\n",
    "sns.histplot(df['Internal_rating'].dropna(), kde=True, color='skyblue', ax=axes[0])\n",
    "axes[0].set_xlim(0, 10)\n",
    "axes[0].set_title('Internal Rating Distribution')\n",
    "axes[0].set_xlabel('Internal Rating')\n",
    "axes[0].set_ylabel('Frequency')\n",
    "\n",
    "# Plot 2: Count of Internal Ratings\n",
    "sns.countplot(x='Internal_rating', data=df, palette='viridis', ax=axes[1])\n",
    "axes[1].set_title('Count of Internal Ratings')\n",
    "axes[1].set_xlabel('Internal Rating')\n",
    "axes[1].set_ylabel('Count')\n",
    "\n",
    "# Adjust layout to prevent overlapping\n",
    "plt.tight_layout()\n",
    "plt.show()"
   ]
  },
  {
   "cell_type": "code",
   "execution_count": null,
   "id": "fe47db4c",
   "metadata": {},
   "outputs": [],
   "source": []
  },
  {
   "cell_type": "code",
   "execution_count": 52,
   "id": "5b3244ff",
   "metadata": {},
   "outputs": [
    {
     "data": {
      "text/plain": [
       "Industry                  171\n",
       "Deal_value               6837\n",
       "Weighted_amount          6413\n",
       "Pitch                       2\n",
       "Lead_revenue                3\n",
       "Fund_category               4\n",
       "Geography                   2\n",
       "Location                  597\n",
       "Designation                 6\n",
       "Hiring_candidate_role     639\n",
       "Lead_source                 4\n",
       "Level_of_meeting            3\n",
       "Last_lead_update           11\n",
       "Internal_POC               60\n",
       "Resource                    7\n",
       "Internal_rating             5\n",
       "Success_probability       247\n",
       "dtype: int64"
      ]
     },
     "execution_count": 52,
     "metadata": {},
     "output_type": "execute_result"
    }
   ],
   "source": [
    "df1.nunique()"
   ]
  },
  {
   "cell_type": "raw",
   "id": "53910f0f",
   "metadata": {},
   "source": [
    "Deal_value             6837\n",
    "Weighted_amount        6413\n",
    "Industry                171\n",
    "Fund_category             4\n",
    "Geography                 2\n",
    "Designation               6\n",
    "Last_lead_update         11\n",
    "Resource                  7\n",
    "Internal_rating           5\n",
    "Success_probability     247\n",
    "dtype: int64"
   ]
  },
  {
   "cell_type": "code",
   "execution_count": 53,
   "id": "69b8364c",
   "metadata": {},
   "outputs": [
    {
     "data": {
      "text/plain": [
       "array([3., 5., 4., 1., 2.])"
      ]
     },
     "execution_count": 53,
     "metadata": {},
     "output_type": "execute_result"
    }
   ],
   "source": [
    "df1.Internal_rating.unique()"
   ]
  },
  {
   "cell_type": "code",
   "execution_count": 54,
   "id": "5e7e6a10",
   "metadata": {},
   "outputs": [],
   "source": [
    "df4=df1.copy()"
   ]
  },
  {
   "cell_type": "code",
   "execution_count": 55,
   "id": "e8b95950",
   "metadata": {},
   "outputs": [
    {
     "data": {
      "text/html": [
       "<div>\n",
       "<style scoped>\n",
       "    .dataframe tbody tr th:only-of-type {\n",
       "        vertical-align: middle;\n",
       "    }\n",
       "\n",
       "    .dataframe tbody tr th {\n",
       "        vertical-align: top;\n",
       "    }\n",
       "\n",
       "    .dataframe thead th {\n",
       "        text-align: right;\n",
       "    }\n",
       "</style>\n",
       "<table border=\"1\" class=\"dataframe\">\n",
       "  <thead>\n",
       "    <tr style=\"text-align: right;\">\n",
       "      <th></th>\n",
       "      <th>Industry</th>\n",
       "      <th>Deal_value</th>\n",
       "      <th>Weighted_amount</th>\n",
       "      <th>Pitch</th>\n",
       "      <th>Lead_revenue</th>\n",
       "      <th>Fund_category</th>\n",
       "      <th>Geography</th>\n",
       "      <th>Location</th>\n",
       "      <th>Designation</th>\n",
       "      <th>Hiring_candidate_role</th>\n",
       "      <th>Lead_source</th>\n",
       "      <th>Level_of_meeting</th>\n",
       "      <th>Last_lead_update</th>\n",
       "      <th>Internal_POC</th>\n",
       "      <th>Resource</th>\n",
       "      <th>Internal_rating</th>\n",
       "      <th>Success_probability</th>\n",
       "    </tr>\n",
       "  </thead>\n",
       "  <tbody>\n",
       "    <tr>\n",
       "      <th>0</th>\n",
       "      <td>Restaurants</td>\n",
       "      <td>320506.0</td>\n",
       "      <td>2.067264e+06</td>\n",
       "      <td>Product_2</td>\n",
       "      <td>50 - 100 Million</td>\n",
       "      <td>Category 2</td>\n",
       "      <td>USA</td>\n",
       "      <td>Killeen-Temple, TX</td>\n",
       "      <td>Executive Vice President</td>\n",
       "      <td>Community pharmacist</td>\n",
       "      <td>Website</td>\n",
       "      <td>Level 3</td>\n",
       "      <td>No track</td>\n",
       "      <td>Davis,Sharrice A</td>\n",
       "      <td>other</td>\n",
       "      <td>3.0</td>\n",
       "      <td>0.7360</td>\n",
       "    </tr>\n",
       "    <tr>\n",
       "      <th>1</th>\n",
       "      <td>Construction Services</td>\n",
       "      <td>39488.0</td>\n",
       "      <td>2.408768e+05</td>\n",
       "      <td>Product_2</td>\n",
       "      <td>500 Million - 1 Billion</td>\n",
       "      <td>Category 4</td>\n",
       "      <td>India</td>\n",
       "      <td>Ratlam</td>\n",
       "      <td>Chairman</td>\n",
       "      <td>Recruitment consultant</td>\n",
       "      <td>Others</td>\n",
       "      <td>Level 1</td>\n",
       "      <td>Did not hear back after Level 1</td>\n",
       "      <td>Brown,Maxine A</td>\n",
       "      <td>No</td>\n",
       "      <td>5.0</td>\n",
       "      <td>0.5890</td>\n",
       "    </tr>\n",
       "    <tr>\n",
       "      <th>2</th>\n",
       "      <td>Hospitals/Clinics</td>\n",
       "      <td>359392.0</td>\n",
       "      <td>2.407926e+06</td>\n",
       "      <td>Product_1</td>\n",
       "      <td>500 Million - 1 Billion</td>\n",
       "      <td>Category 4</td>\n",
       "      <td>USA</td>\n",
       "      <td>Albany-Schenectady-Troy, NY</td>\n",
       "      <td>SVP</td>\n",
       "      <td>Health service manager</td>\n",
       "      <td>Marketing Event</td>\n",
       "      <td>Level 1</td>\n",
       "      <td>Pending</td>\n",
       "      <td>Georgakopoulos,Vasilios T</td>\n",
       "      <td>No</td>\n",
       "      <td>4.0</td>\n",
       "      <td>0.6880</td>\n",
       "    </tr>\n",
       "    <tr>\n",
       "      <th>3</th>\n",
       "      <td>Real Estate</td>\n",
       "      <td>76774.0</td>\n",
       "      <td>4.683214e+05</td>\n",
       "      <td>Product_2</td>\n",
       "      <td>500 Million - 1 Billion</td>\n",
       "      <td>Category 3</td>\n",
       "      <td>USA</td>\n",
       "      <td>Mount Vernon-Anacortes, WA</td>\n",
       "      <td>CEO</td>\n",
       "      <td>Therapist, speech and language</td>\n",
       "      <td>Contact Email</td>\n",
       "      <td>Level 2</td>\n",
       "      <td>Did not hear back after Level 1</td>\n",
       "      <td>Brown,Maxine A</td>\n",
       "      <td>We have all the requirements</td>\n",
       "      <td>1.0</td>\n",
       "      <td>0.6450</td>\n",
       "    </tr>\n",
       "    <tr>\n",
       "      <th>4</th>\n",
       "      <td>Financial Services</td>\n",
       "      <td>483896.0</td>\n",
       "      <td>1.566916e+06</td>\n",
       "      <td>Product_2</td>\n",
       "      <td>50 - 100 Million</td>\n",
       "      <td>Category 3</td>\n",
       "      <td>India</td>\n",
       "      <td>Shimoga</td>\n",
       "      <td>Executive Vice President</td>\n",
       "      <td>Media planner</td>\n",
       "      <td>Website</td>\n",
       "      <td>Level 2</td>\n",
       "      <td>Up-to-date</td>\n",
       "      <td>Thomas,Lori E</td>\n",
       "      <td>No</td>\n",
       "      <td>4.0</td>\n",
       "      <td>0.6240</td>\n",
       "    </tr>\n",
       "    <tr>\n",
       "      <th>...</th>\n",
       "      <td>...</td>\n",
       "      <td>...</td>\n",
       "      <td>...</td>\n",
       "      <td>...</td>\n",
       "      <td>...</td>\n",
       "      <td>...</td>\n",
       "      <td>...</td>\n",
       "      <td>...</td>\n",
       "      <td>...</td>\n",
       "      <td>...</td>\n",
       "      <td>...</td>\n",
       "      <td>...</td>\n",
       "      <td>...</td>\n",
       "      <td>...</td>\n",
       "      <td>...</td>\n",
       "      <td>...</td>\n",
       "      <td>...</td>\n",
       "    </tr>\n",
       "    <tr>\n",
       "      <th>7001</th>\n",
       "      <td>Banks</td>\n",
       "      <td>479541.0</td>\n",
       "      <td>2.685430e+06</td>\n",
       "      <td>Product_1</td>\n",
       "      <td>100 - 500 Million</td>\n",
       "      <td>Category 3</td>\n",
       "      <td>India</td>\n",
       "      <td>Nellore</td>\n",
       "      <td>CEO</td>\n",
       "      <td>Systems analyst</td>\n",
       "      <td>Others</td>\n",
       "      <td>Level 2</td>\n",
       "      <td>Pending</td>\n",
       "      <td>Morsy,Omar A</td>\n",
       "      <td>other</td>\n",
       "      <td>2.0</td>\n",
       "      <td>0.5740</td>\n",
       "    </tr>\n",
       "    <tr>\n",
       "      <th>7002</th>\n",
       "      <td>Banks</td>\n",
       "      <td>192800.0</td>\n",
       "      <td>1.195360e+06</td>\n",
       "      <td>Product_1</td>\n",
       "      <td>100 - 500 Million</td>\n",
       "      <td>Category 4</td>\n",
       "      <td>USA</td>\n",
       "      <td>Kagaznagar</td>\n",
       "      <td>CEO</td>\n",
       "      <td>Call centre manager</td>\n",
       "      <td>Contact Email</td>\n",
       "      <td>Level 1</td>\n",
       "      <td>More than a week back</td>\n",
       "      <td>Jones,Eyvette W</td>\n",
       "      <td>We have all the requirements</td>\n",
       "      <td>4.0</td>\n",
       "      <td>1.0734</td>\n",
       "    </tr>\n",
       "    <tr>\n",
       "      <th>7003</th>\n",
       "      <td>Hospitals/Clinics</td>\n",
       "      <td>220208.0</td>\n",
       "      <td>1.453373e+06</td>\n",
       "      <td>Product_2</td>\n",
       "      <td>100 - 500 Million</td>\n",
       "      <td>Category 1</td>\n",
       "      <td>USA</td>\n",
       "      <td>Proddatur</td>\n",
       "      <td>CEO</td>\n",
       "      <td>Financial risk analyst</td>\n",
       "      <td>Marketing Event</td>\n",
       "      <td>Level 2</td>\n",
       "      <td>Pending</td>\n",
       "      <td>Brown,Maxine A</td>\n",
       "      <td>We have all the requirements</td>\n",
       "      <td>3.0</td>\n",
       "      <td>0.2635</td>\n",
       "    </tr>\n",
       "    <tr>\n",
       "      <th>7004</th>\n",
       "      <td>Semiconductors</td>\n",
       "      <td>253608.0</td>\n",
       "      <td>1.566916e+06</td>\n",
       "      <td>Product_1</td>\n",
       "      <td>100 - 500 Million</td>\n",
       "      <td>Category 2</td>\n",
       "      <td>USA</td>\n",
       "      <td>Rocky Mount, NC</td>\n",
       "      <td>SVP</td>\n",
       "      <td>Nature conservation officer</td>\n",
       "      <td>Marketing Event</td>\n",
       "      <td>Level 3</td>\n",
       "      <td>other</td>\n",
       "      <td>Logan,Kevin N</td>\n",
       "      <td>other</td>\n",
       "      <td>1.0</td>\n",
       "      <td>0.7060</td>\n",
       "    </tr>\n",
       "    <tr>\n",
       "      <th>7006</th>\n",
       "      <td>Financial Services</td>\n",
       "      <td>258627.0</td>\n",
       "      <td>1.642281e+06</td>\n",
       "      <td>Product_2</td>\n",
       "      <td>500 Million - 1 Billion</td>\n",
       "      <td>Category 2</td>\n",
       "      <td>USA</td>\n",
       "      <td>Brunswick, GA</td>\n",
       "      <td>Vice President</td>\n",
       "      <td>Government social research officer</td>\n",
       "      <td>Contact Email</td>\n",
       "      <td>Level 3</td>\n",
       "      <td>More than a week back</td>\n",
       "      <td>Massiah,Gerard F</td>\n",
       "      <td>We have all the requirements</td>\n",
       "      <td>1.0</td>\n",
       "      <td>0.6870</td>\n",
       "    </tr>\n",
       "  </tbody>\n",
       "</table>\n",
       "<p>6936 rows × 17 columns</p>\n",
       "</div>"
      ],
      "text/plain": [
       "                   Industry  Deal_value  Weighted_amount      Pitch   \n",
       "0               Restaurants    320506.0     2.067264e+06  Product_2  \\\n",
       "1     Construction Services     39488.0     2.408768e+05  Product_2   \n",
       "2         Hospitals/Clinics    359392.0     2.407926e+06  Product_1   \n",
       "3               Real Estate     76774.0     4.683214e+05  Product_2   \n",
       "4        Financial Services    483896.0     1.566916e+06  Product_2   \n",
       "...                     ...         ...              ...        ...   \n",
       "7001                  Banks    479541.0     2.685430e+06  Product_1   \n",
       "7002                  Banks    192800.0     1.195360e+06  Product_1   \n",
       "7003      Hospitals/Clinics    220208.0     1.453373e+06  Product_2   \n",
       "7004         Semiconductors    253608.0     1.566916e+06  Product_1   \n",
       "7006     Financial Services    258627.0     1.642281e+06  Product_2   \n",
       "\n",
       "                 Lead_revenue Fund_category Geography   \n",
       "0            50 - 100 Million    Category 2       USA  \\\n",
       "1     500 Million - 1 Billion    Category 4     India   \n",
       "2     500 Million - 1 Billion    Category 4       USA   \n",
       "3     500 Million - 1 Billion    Category 3       USA   \n",
       "4            50 - 100 Million    Category 3     India   \n",
       "...                       ...           ...       ...   \n",
       "7001        100 - 500 Million    Category 3     India   \n",
       "7002        100 - 500 Million    Category 4       USA   \n",
       "7003        100 - 500 Million    Category 1       USA   \n",
       "7004        100 - 500 Million    Category 2       USA   \n",
       "7006  500 Million - 1 Billion    Category 2       USA   \n",
       "\n",
       "                         Location               Designation   \n",
       "0              Killeen-Temple, TX  Executive Vice President  \\\n",
       "1                          Ratlam                  Chairman   \n",
       "2     Albany-Schenectady-Troy, NY                       SVP   \n",
       "3      Mount Vernon-Anacortes, WA                       CEO   \n",
       "4                         Shimoga  Executive Vice President   \n",
       "...                           ...                       ...   \n",
       "7001                      Nellore                       CEO   \n",
       "7002                   Kagaznagar                       CEO   \n",
       "7003                    Proddatur                       CEO   \n",
       "7004              Rocky Mount, NC                       SVP   \n",
       "7006                Brunswick, GA           Vice President    \n",
       "\n",
       "                   Hiring_candidate_role      Lead_source Level_of_meeting   \n",
       "0                   Community pharmacist          Website          Level 3  \\\n",
       "1                 Recruitment consultant           Others          Level 1   \n",
       "2                 Health service manager  Marketing Event          Level 1   \n",
       "3         Therapist, speech and language    Contact Email          Level 2   \n",
       "4                          Media planner          Website          Level 2   \n",
       "...                                  ...              ...              ...   \n",
       "7001                     Systems analyst           Others          Level 2   \n",
       "7002                 Call centre manager    Contact Email          Level 1   \n",
       "7003              Financial risk analyst  Marketing Event          Level 2   \n",
       "7004         Nature conservation officer  Marketing Event          Level 3   \n",
       "7006  Government social research officer    Contact Email          Level 3   \n",
       "\n",
       "                     Last_lead_update               Internal_POC   \n",
       "0                            No track           Davis,Sharrice A  \\\n",
       "1     Did not hear back after Level 1             Brown,Maxine A   \n",
       "2                             Pending  Georgakopoulos,Vasilios T   \n",
       "3     Did not hear back after Level 1             Brown,Maxine A   \n",
       "4                          Up-to-date              Thomas,Lori E   \n",
       "...                               ...                        ...   \n",
       "7001                          Pending               Morsy,Omar A   \n",
       "7002            More than a week back            Jones,Eyvette W   \n",
       "7003                          Pending             Brown,Maxine A   \n",
       "7004                            other              Logan,Kevin N   \n",
       "7006            More than a week back           Massiah,Gerard F   \n",
       "\n",
       "                          Resource  Internal_rating  Success_probability  \n",
       "0                            other              3.0               0.7360  \n",
       "1                               No              5.0               0.5890  \n",
       "2                               No              4.0               0.6880  \n",
       "3     We have all the requirements              1.0               0.6450  \n",
       "4                               No              4.0               0.6240  \n",
       "...                            ...              ...                  ...  \n",
       "7001                         other              2.0               0.5740  \n",
       "7002  We have all the requirements              4.0               1.0734  \n",
       "7003  We have all the requirements              3.0               0.2635  \n",
       "7004                         other              1.0               0.7060  \n",
       "7006  We have all the requirements              1.0               0.6870  \n",
       "\n",
       "[6936 rows x 17 columns]"
      ]
     },
     "execution_count": 55,
     "metadata": {},
     "output_type": "execute_result"
    }
   ],
   "source": [
    "df4"
   ]
  },
  {
   "cell_type": "code",
   "execution_count": 56,
   "id": "9db3b8d0",
   "metadata": {},
   "outputs": [],
   "source": [
    "  #will use for the final model"
   ]
  },
  {
   "cell_type": "markdown",
   "id": "ec8230c8",
   "metadata": {},
   "source": [
    "## Encoding"
   ]
  },
  {
   "cell_type": "code",
   "execution_count": 57,
   "id": "1e244e1c",
   "metadata": {},
   "outputs": [
    {
     "data": {
      "text/plain": [
       "Index(['Industry', 'Deal_value', 'Weighted_amount', 'Pitch', 'Lead_revenue',\n",
       "       'Fund_category', 'Geography', 'Location', 'Designation',\n",
       "       'Hiring_candidate_role', 'Lead_source', 'Level_of_meeting',\n",
       "       'Last_lead_update', 'Internal_POC', 'Resource', 'Internal_rating',\n",
       "       'Success_probability'],\n",
       "      dtype='object')"
      ]
     },
     "execution_count": 57,
     "metadata": {},
     "output_type": "execute_result"
    }
   ],
   "source": [
    "df1.columns"
   ]
  },
  {
   "cell_type": "raw",
   "id": "c5794d19",
   "metadata": {},
   "source": [
    "'''Industry',\n",
    " 'Deal_value',\n",
    " 'Weighted_amount',\n",
    " 'Fund_category',\n",
    " 'Geography',\n",
    " 'Designation',\n",
    " 'Last_lead_update',\n",
    " 'Resource',\n",
    " 'Internal_rating']'''"
   ]
  },
  {
   "cell_type": "code",
   "execution_count": null,
   "id": "f8c3ed93",
   "metadata": {},
   "outputs": [],
   "source": []
  },
  {
   "cell_type": "code",
   "execution_count": 58,
   "id": "1e80b9c4",
   "metadata": {},
   "outputs": [
    {
     "data": {
      "text/plain": [
       "Industry                  0\n",
       "Deal_value                0\n",
       "Weighted_amount           0\n",
       "Pitch                     0\n",
       "Lead_revenue              0\n",
       "Fund_category             0\n",
       "Geography                 0\n",
       "Location                 11\n",
       "Designation               0\n",
       "Hiring_candidate_role     0\n",
       "Lead_source               0\n",
       "Level_of_meeting          0\n",
       "Last_lead_update          0\n",
       "Internal_POC              0\n",
       "Resource                  0\n",
       "Internal_rating           0\n",
       "Success_probability       0\n",
       "dtype: int64"
      ]
     },
     "execution_count": 58,
     "metadata": {},
     "output_type": "execute_result"
    }
   ],
   "source": [
    "df1.isnull().sum()"
   ]
  },
  {
   "cell_type": "code",
   "execution_count": 59,
   "id": "be622254",
   "metadata": {},
   "outputs": [
    {
     "data": {
      "text/plain": [
       "Index(['Industry', 'Deal_value', 'Weighted_amount', 'Pitch', 'Lead_revenue',\n",
       "       'Fund_category', 'Geography', 'Location', 'Designation',\n",
       "       'Hiring_candidate_role', 'Lead_source', 'Level_of_meeting',\n",
       "       'Last_lead_update', 'Internal_POC', 'Resource', 'Internal_rating',\n",
       "       'Success_probability'],\n",
       "      dtype='object')"
      ]
     },
     "execution_count": 59,
     "metadata": {},
     "output_type": "execute_result"
    }
   ],
   "source": [
    "df1.columns"
   ]
  },
  {
   "cell_type": "code",
   "execution_count": 60,
   "id": "1b7474d8",
   "metadata": {},
   "outputs": [],
   "source": [
    "# Encode categorical features using label encoding\n",
    "label_encoders = {}\n",
    "categorical_columns = ['Industry','Pitch', 'Lead_revenue',\n",
    "       'Fund_category', 'Geography', 'Location', 'Designation',\n",
    "       'Hiring_candidate_role', 'Lead_source', 'Level_of_meeting',\n",
    "       'Last_lead_update', 'Internal_POC', 'Resource', 'Internal_rating']\n",
    "for col in categorical_columns:\n",
    "    le = LabelEncoder()\n",
    "    df1[col] = le.fit_transform(df1[col])\n",
    "    label_encoders[col] = le"
   ]
  },
  {
   "cell_type": "code",
   "execution_count": 61,
   "id": "2b0b8bf0",
   "metadata": {},
   "outputs": [
    {
     "data": {
      "text/plain": [
       "Industry                  171\n",
       "Deal_value               6837\n",
       "Weighted_amount          6413\n",
       "Pitch                       2\n",
       "Lead_revenue                3\n",
       "Fund_category               4\n",
       "Geography                   2\n",
       "Location                  598\n",
       "Designation                 6\n",
       "Hiring_candidate_role     639\n",
       "Lead_source                 4\n",
       "Level_of_meeting            3\n",
       "Last_lead_update           11\n",
       "Internal_POC               60\n",
       "Resource                    7\n",
       "Internal_rating             5\n",
       "Success_probability       247\n",
       "dtype: int64"
      ]
     },
     "execution_count": 61,
     "metadata": {},
     "output_type": "execute_result"
    }
   ],
   "source": [
    "df1.nunique()"
   ]
  },
  {
   "cell_type": "code",
   "execution_count": 62,
   "id": "88c450c2",
   "metadata": {},
   "outputs": [
    {
     "data": {
      "text/plain": [
       "Industry                 0\n",
       "Deal_value               0\n",
       "Weighted_amount          0\n",
       "Pitch                    0\n",
       "Lead_revenue             0\n",
       "Fund_category            0\n",
       "Geography                0\n",
       "Location                 0\n",
       "Designation              0\n",
       "Hiring_candidate_role    0\n",
       "Lead_source              0\n",
       "Level_of_meeting         0\n",
       "Last_lead_update         0\n",
       "Internal_POC             0\n",
       "Resource                 0\n",
       "Internal_rating          0\n",
       "Success_probability      0\n",
       "dtype: int64"
      ]
     },
     "execution_count": 62,
     "metadata": {},
     "output_type": "execute_result"
    }
   ],
   "source": [
    "df1.isnull().sum()"
   ]
  },
  {
   "cell_type": "code",
   "execution_count": null,
   "id": "983af73a",
   "metadata": {},
   "outputs": [],
   "source": []
  },
  {
   "cell_type": "code",
   "execution_count": 63,
   "id": "753df3a8",
   "metadata": {},
   "outputs": [],
   "source": [
    "#df.dropna(inplace=True)"
   ]
  },
  {
   "cell_type": "code",
   "execution_count": 64,
   "id": "9813e07c",
   "metadata": {},
   "outputs": [
    {
     "name": "stdout",
     "output_type": "stream",
     "text": [
      "1.3.1\n"
     ]
    }
   ],
   "source": [
    "import sklearn\n",
    "print(sklearn.__version__)"
   ]
  },
  {
   "cell_type": "markdown",
   "id": "729de660",
   "metadata": {},
   "source": [
    "# Bivariate Analysis"
   ]
  },
  {
   "cell_type": "code",
   "execution_count": 65,
   "id": "70d31839",
   "metadata": {},
   "outputs": [
    {
     "data": {
      "image/png": "[encoded data removed]",
      "text/plain": [
       "<Figure size 720x432 with 1 Axes>"
      ]
     },
     "metadata": {
      "needs_background": "light"
     },
     "output_type": "display_data"
    }
   ],
   "source": [
    "plt.figure(figsize=(10, 6))\n",
    "sns.scatterplot(x='Deal_value', y='Success_probability', data=df)\n",
    "plt.title('Deal Value vs. Success Probability')\n",
    "plt.xlabel('Deal Value')\n",
    "plt.ylabel('Success Probability')\n",
    "plt.show()"
   ]
  },
  {
   "cell_type": "code",
   "execution_count": 66,
   "id": "8335dda9",
   "metadata": {},
   "outputs": [
    {
     "data": {
      "image/png": "[encoded data removed]",
      "text/plain": [
       "<Figure size 864x576 with 1 Axes>"
      ]
     },
     "metadata": {
      "needs_background": "light"
     },
     "output_type": "display_data"
    }
   ],
   "source": [
    "plt.figure(figsize=(12, 8))\n",
    "sns.boxplot(x='Industry', y='Success_probability', data=df)\n",
    "plt.title('Industry vs. Success Probability')\n",
    "plt.xlabel('Industry')\n",
    "plt.ylabel('Success Probability')\n",
    "plt.xticks(rotation=45, ha='right')  # Rotate x-axis labels for better readability\n",
    "plt.show()\n"
   ]
  },
  {
   "cell_type": "code",
   "execution_count": 67,
   "id": "9e6d9598",
   "metadata": {},
   "outputs": [
    {
     "data": {
      "image/png": "[encoded data removed]",
      "text/plain": [
       "<Figure size 864x576 with 1 Axes>"
      ]
     },
     "metadata": {
      "needs_background": "light"
     },
     "output_type": "display_data"
    }
   ],
   "source": [
    "plt.figure(figsize=(12, 8))\n",
    "sns.boxplot(x='Industry', y='Success_probability', data=df)\n",
    "plt.title('Industry vs. Success Probability')\n",
    "plt.xlabel('Industry')\n",
    "plt.ylabel('Success Probability')\n",
    "plt.xticks(rotation=45, ha='right')  # Rotate x-axis labels for better readability\n",
    "plt.show()\n"
   ]
  },
  {
   "cell_type": "markdown",
   "id": "ddd1367a",
   "metadata": {},
   "source": [
    "# Model Building"
   ]
  },
  {
   "cell_type": "code",
   "execution_count": 68,
   "id": "2bdd5c95",
   "metadata": {},
   "outputs": [
    {
     "data": {
      "text/plain": [
       "(6936, 17)"
      ]
     },
     "execution_count": 68,
     "metadata": {},
     "output_type": "execute_result"
    }
   ],
   "source": [
    "df1.shape"
   ]
  },
  {
   "cell_type": "code",
   "execution_count": 69,
   "id": "bc5f2d29",
   "metadata": {},
   "outputs": [
    {
     "data": {
      "text/plain": [
       "Index(['Industry', 'Deal_value', 'Weighted_amount', 'Pitch', 'Lead_revenue',\n",
       "       'Fund_category', 'Geography', 'Location', 'Designation',\n",
       "       'Hiring_candidate_role', 'Lead_source', 'Level_of_meeting',\n",
       "       'Last_lead_update', 'Internal_POC', 'Resource', 'Internal_rating',\n",
       "       'Success_probability'],\n",
       "      dtype='object')"
      ]
     },
     "execution_count": 69,
     "metadata": {},
     "output_type": "execute_result"
    }
   ],
   "source": [
    "df1.columns"
   ]
  },
  {
   "cell_type": "code",
   "execution_count": null,
   "id": "7fe07899",
   "metadata": {},
   "outputs": [],
   "source": []
  },
  {
   "cell_type": "code",
   "execution_count": 70,
   "id": "7b6905f0",
   "metadata": {},
   "outputs": [
    {
     "data": {
      "text/plain": [
       "Industry                  171\n",
       "Deal_value               6837\n",
       "Weighted_amount          6413\n",
       "Pitch                       2\n",
       "Lead_revenue                3\n",
       "Fund_category               4\n",
       "Geography                   2\n",
       "Location                  598\n",
       "Designation                 6\n",
       "Hiring_candidate_role     639\n",
       "Lead_source                 4\n",
       "Level_of_meeting            3\n",
       "Last_lead_update           11\n",
       "Internal_POC               60\n",
       "Resource                    7\n",
       "Internal_rating             5\n",
       "Success_probability       247\n",
       "dtype: int64"
      ]
     },
     "execution_count": 70,
     "metadata": {},
     "output_type": "execute_result"
    }
   ],
   "source": [
    "df1.nunique()"
   ]
  },
  {
   "cell_type": "code",
   "execution_count": 71,
   "id": "8be8db20",
   "metadata": {},
   "outputs": [
    {
     "data": {
      "text/plain": [
       "Industry                 0\n",
       "Deal_value               0\n",
       "Weighted_amount          0\n",
       "Pitch                    0\n",
       "Lead_revenue             0\n",
       "Fund_category            0\n",
       "Geography                0\n",
       "Location                 0\n",
       "Designation              0\n",
       "Hiring_candidate_role    0\n",
       "Lead_source              0\n",
       "Level_of_meeting         0\n",
       "Last_lead_update         0\n",
       "Internal_POC             0\n",
       "Resource                 0\n",
       "Internal_rating          0\n",
       "Success_probability      0\n",
       "dtype: int64"
      ]
     },
     "execution_count": 71,
     "metadata": {},
     "output_type": "execute_result"
    }
   ],
   "source": [
    "df1.isnull().sum()"
   ]
  },
  {
   "cell_type": "code",
   "execution_count": 72,
   "id": "a7b17084",
   "metadata": {},
   "outputs": [
    {
     "data": {
      "text/plain": [
       "(6936, 17)"
      ]
     },
     "execution_count": 72,
     "metadata": {},
     "output_type": "execute_result"
    }
   ],
   "source": [
    "df1.shape"
   ]
  },
  {
   "cell_type": "code",
   "execution_count": 73,
   "id": "2e0d8cea",
   "metadata": {},
   "outputs": [
    {
     "data": {
      "text/plain": [
       "Industry                 0\n",
       "Deal_value               0\n",
       "Weighted_amount          0\n",
       "Pitch                    0\n",
       "Lead_revenue             0\n",
       "Fund_category            0\n",
       "Geography                0\n",
       "Location                 0\n",
       "Designation              0\n",
       "Hiring_candidate_role    0\n",
       "Lead_source              0\n",
       "Level_of_meeting         0\n",
       "Last_lead_update         0\n",
       "Internal_POC             0\n",
       "Resource                 0\n",
       "Internal_rating          0\n",
       "Success_probability      0\n",
       "dtype: int64"
      ]
     },
     "execution_count": 73,
     "metadata": {},
     "output_type": "execute_result"
    }
   ],
   "source": [
    "df1.isnull().sum()"
   ]
  },
  {
   "cell_type": "code",
   "execution_count": 74,
   "id": "c27d170d",
   "metadata": {},
   "outputs": [
    {
     "data": {
      "text/plain": [
       "Industry                  171\n",
       "Deal_value               6837\n",
       "Weighted_amount          6413\n",
       "Pitch                       2\n",
       "Lead_revenue                3\n",
       "Fund_category               4\n",
       "Geography                   2\n",
       "Location                  598\n",
       "Designation                 6\n",
       "Hiring_candidate_role     639\n",
       "Lead_source                 4\n",
       "Level_of_meeting            3\n",
       "Last_lead_update           11\n",
       "Internal_POC               60\n",
       "Resource                    7\n",
       "Internal_rating             5\n",
       "Success_probability       247\n",
       "dtype: int64"
      ]
     },
     "execution_count": 74,
     "metadata": {},
     "output_type": "execute_result"
    }
   ],
   "source": [
    "df1.nunique()"
   ]
  },
  {
   "cell_type": "code",
   "execution_count": 199,
   "id": "ada63287",
   "metadata": {},
   "outputs": [],
   "source": [
    "x=df1.drop(['Success_probability'],axis=1)"
   ]
  },
  {
   "cell_type": "code",
   "execution_count": 200,
   "id": "8f7a2fb7",
   "metadata": {},
   "outputs": [],
   "source": [
    "y=df1[['Success_probability']]"
   ]
  },
  {
   "cell_type": "code",
   "execution_count": 201,
   "id": "25528dd2",
   "metadata": {},
   "outputs": [],
   "source": [
    "X_train,X_test,y_train,y_test=train_test_split(x,y,random_state=0,test_size=0.2)\n"
   ]
  },
  {
   "cell_type": "code",
   "execution_count": 202,
   "id": "3d008fe8",
   "metadata": {},
   "outputs": [
    {
     "data": {
      "text/plain": [
       "Index(['Industry', 'Deal_value', 'Weighted_amount', 'Pitch', 'Lead_revenue',\n",
       "       'Fund_category', 'Geography', 'Location', 'Designation',\n",
       "       'Hiring_candidate_role', 'Lead_source', 'Level_of_meeting',\n",
       "       'Last_lead_update', 'Internal_POC', 'Resource', 'Internal_rating'],\n",
       "      dtype='object')"
      ]
     },
     "execution_count": 202,
     "metadata": {},
     "output_type": "execute_result"
    }
   ],
   "source": [
    "X_train.columns"
   ]
  },
  {
   "cell_type": "code",
   "execution_count": 131,
   "id": "0018a256",
   "metadata": {},
   "outputs": [
    {
     "data": {
      "text/plain": [
       "Industry                  171\n",
       "Deal_value               6837\n",
       "Weighted_amount          6413\n",
       "Pitch                       2\n",
       "Lead_revenue                3\n",
       "Fund_category               4\n",
       "Geography                   2\n",
       "Location                  598\n",
       "Designation                 6\n",
       "Hiring_candidate_role     639\n",
       "Lead_source                 4\n",
       "Level_of_meeting            3\n",
       "Last_lead_update           11\n",
       "Internal_POC               60\n",
       "Resource                    7\n",
       "Internal_rating             5\n",
       "Success_probability       247\n",
       "dtype: int64"
      ]
     },
     "execution_count": 131,
     "metadata": {},
     "output_type": "execute_result"
    }
   ],
   "source": [
    "df1.nunique()"
   ]
  },
  {
   "cell_type": "code",
   "execution_count": 132,
   "id": "e811ac19",
   "metadata": {},
   "outputs": [
    {
     "data": {
      "text/plain": [
       "Industry                  168\n",
       "Deal_value               5481\n",
       "Weighted_amount          5128\n",
       "Pitch                       2\n",
       "Lead_revenue                3\n",
       "Fund_category               4\n",
       "Geography                   2\n",
       "Location                  598\n",
       "Designation                 6\n",
       "Hiring_candidate_role     639\n",
       "Lead_source                 4\n",
       "Level_of_meeting            3\n",
       "Last_lead_update           11\n",
       "Internal_POC               60\n",
       "Resource                    7\n",
       "Internal_rating             5\n",
       "dtype: int64"
      ]
     },
     "execution_count": 132,
     "metadata": {},
     "output_type": "execute_result"
    }
   ],
   "source": [
    "X_train.nunique()"
   ]
  },
  {
   "cell_type": "code",
   "execution_count": 133,
   "id": "04fda6f1",
   "metadata": {},
   "outputs": [
    {
     "data": {
      "text/html": [
       "<div>\n",
       "<style scoped>\n",
       "    .dataframe tbody tr th:only-of-type {\n",
       "        vertical-align: middle;\n",
       "    }\n",
       "\n",
       "    .dataframe tbody tr th {\n",
       "        vertical-align: top;\n",
       "    }\n",
       "\n",
       "    .dataframe thead th {\n",
       "        text-align: right;\n",
       "    }\n",
       "</style>\n",
       "<table border=\"1\" class=\"dataframe\">\n",
       "  <thead>\n",
       "    <tr style=\"text-align: right;\">\n",
       "      <th></th>\n",
       "      <th>Industry</th>\n",
       "      <th>Deal_value</th>\n",
       "      <th>Weighted_amount</th>\n",
       "      <th>Pitch</th>\n",
       "      <th>Lead_revenue</th>\n",
       "      <th>Fund_category</th>\n",
       "      <th>Geography</th>\n",
       "      <th>Location</th>\n",
       "      <th>Designation</th>\n",
       "      <th>Hiring_candidate_role</th>\n",
       "      <th>Lead_source</th>\n",
       "      <th>Level_of_meeting</th>\n",
       "      <th>Last_lead_update</th>\n",
       "      <th>Internal_POC</th>\n",
       "      <th>Resource</th>\n",
       "      <th>Internal_rating</th>\n",
       "    </tr>\n",
       "  </thead>\n",
       "  <tbody>\n",
       "    <tr>\n",
       "      <th>4181</th>\n",
       "      <td>140</td>\n",
       "      <td>246985.0</td>\n",
       "      <td>1691847.25</td>\n",
       "      <td>0</td>\n",
       "      <td>2</td>\n",
       "      <td>3</td>\n",
       "      <td>1</td>\n",
       "      <td>588</td>\n",
       "      <td>0</td>\n",
       "      <td>494</td>\n",
       "      <td>2</td>\n",
       "      <td>2</td>\n",
       "      <td>7</td>\n",
       "      <td>12</td>\n",
       "      <td>4</td>\n",
       "      <td>2</td>\n",
       "    </tr>\n",
       "    <tr>\n",
       "      <th>5305</th>\n",
       "      <td>94</td>\n",
       "      <td>142632.0</td>\n",
       "      <td>934239.60</td>\n",
       "      <td>1</td>\n",
       "      <td>2</td>\n",
       "      <td>1</td>\n",
       "      <td>1</td>\n",
       "      <td>507</td>\n",
       "      <td>0</td>\n",
       "      <td>156</td>\n",
       "      <td>1</td>\n",
       "      <td>2</td>\n",
       "      <td>6</td>\n",
       "      <td>42</td>\n",
       "      <td>5</td>\n",
       "      <td>0</td>\n",
       "    </tr>\n",
       "    <tr>\n",
       "      <th>1773</th>\n",
       "      <td>17</td>\n",
       "      <td>207276.0</td>\n",
       "      <td>1233292.20</td>\n",
       "      <td>1</td>\n",
       "      <td>0</td>\n",
       "      <td>2</td>\n",
       "      <td>0</td>\n",
       "      <td>576</td>\n",
       "      <td>3</td>\n",
       "      <td>178</td>\n",
       "      <td>3</td>\n",
       "      <td>0</td>\n",
       "      <td>3</td>\n",
       "      <td>5</td>\n",
       "      <td>3</td>\n",
       "      <td>2</td>\n",
       "    </tr>\n",
       "    <tr>\n",
       "      <th>5063</th>\n",
       "      <td>31</td>\n",
       "      <td>440581.0</td>\n",
       "      <td>2577398.85</td>\n",
       "      <td>0</td>\n",
       "      <td>1</td>\n",
       "      <td>2</td>\n",
       "      <td>1</td>\n",
       "      <td>269</td>\n",
       "      <td>2</td>\n",
       "      <td>610</td>\n",
       "      <td>1</td>\n",
       "      <td>0</td>\n",
       "      <td>6</td>\n",
       "      <td>13</td>\n",
       "      <td>0</td>\n",
       "      <td>0</td>\n",
       "    </tr>\n",
       "    <tr>\n",
       "      <th>2695</th>\n",
       "      <td>17</td>\n",
       "      <td>325372.0</td>\n",
       "      <td>2082380.80</td>\n",
       "      <td>1</td>\n",
       "      <td>0</td>\n",
       "      <td>2</td>\n",
       "      <td>1</td>\n",
       "      <td>403</td>\n",
       "      <td>0</td>\n",
       "      <td>336</td>\n",
       "      <td>1</td>\n",
       "      <td>1</td>\n",
       "      <td>2</td>\n",
       "      <td>9</td>\n",
       "      <td>1</td>\n",
       "      <td>2</td>\n",
       "    </tr>\n",
       "  </tbody>\n",
       "</table>\n",
       "</div>"
      ],
      "text/plain": [
       "      Industry  Deal_value  Weighted_amount  Pitch  Lead_revenue   \n",
       "4181       140    246985.0       1691847.25      0             2  \\\n",
       "5305        94    142632.0        934239.60      1             2   \n",
       "1773        17    207276.0       1233292.20      1             0   \n",
       "5063        31    440581.0       2577398.85      0             1   \n",
       "2695        17    325372.0       2082380.80      1             0   \n",
       "\n",
       "      Fund_category  Geography  Location  Designation  Hiring_candidate_role   \n",
       "4181              3          1       588            0                    494  \\\n",
       "5305              1          1       507            0                    156   \n",
       "1773              2          0       576            3                    178   \n",
       "5063              2          1       269            2                    610   \n",
       "2695              2          1       403            0                    336   \n",
       "\n",
       "      Lead_source  Level_of_meeting  Last_lead_update  Internal_POC  Resource   \n",
       "4181            2                 2                 7            12         4  \\\n",
       "5305            1                 2                 6            42         5   \n",
       "1773            3                 0                 3             5         3   \n",
       "5063            1                 0                 6            13         0   \n",
       "2695            1                 1                 2             9         1   \n",
       "\n",
       "      Internal_rating  \n",
       "4181                2  \n",
       "5305                0  \n",
       "1773                2  \n",
       "5063                0  \n",
       "2695                2  "
      ]
     },
     "execution_count": 133,
     "metadata": {},
     "output_type": "execute_result"
    }
   ],
   "source": [
    "X_train.head()"
   ]
  },
  {
   "cell_type": "markdown",
   "id": "a567e1c1",
   "metadata": {},
   "source": [
    "# Decision Tree"
   ]
  },
  {
   "cell_type": "code",
   "execution_count": 134,
   "id": "1711557e",
   "metadata": {},
   "outputs": [],
   "source": [
    "DTR_model=DecisionTreeRegressor()"
   ]
  },
  {
   "cell_type": "code",
   "execution_count": 135,
   "id": "62e31e3c",
   "metadata": {},
   "outputs": [
    {
     "data": {
      "text/html": [
       "<style>#sk-container-id-4 {color: black;}#sk-container-id-4 pre{padding: 0;}#sk-container-id-4 div.sk-toggleable {background-color: white;}#sk-container-id-4 label.sk-toggleable__label {cursor: pointer;display: block;width: 100%;margin-bottom: 0;padding: 0.3em;box-sizing: border-box;text-align: center;}#sk-container-id-4 label.sk-toggleable__label-arrow:before {content: \"▸\";float: left;margin-right: 0.25em;color: #696969;}#sk-container-id-4 label.sk-toggleable__label-arrow:hover:before {color: black;}#sk-container-id-4 div.sk-estimator:hover label.sk-toggleable__label-arrow:before {color: black;}#sk-container-id-4 div.sk-toggleable__content {max-height: 0;max-width: 0;overflow: hidden;text-align: left;background-color: #f0f8ff;}#sk-container-id-4 div.sk-toggleable__content pre {margin: 0.2em;color: black;border-radius: 0.25em;background-color: #f0f8ff;}#sk-container-id-4 input.sk-toggleable__control:checked~div.sk-toggleable__content {max-height: 200px;max-width: 100%;overflow: auto;}#sk-container-id-4 input.sk-toggleable__control:checked~label.sk-toggleable__label-arrow:before {content: \"▾\";}#sk-container-id-4 div.sk-estimator input.sk-toggleable__control:checked~label.sk-toggleable__label {background-color: #d4ebff;}#sk-container-id-4 div.sk-label input.sk-toggleable__control:checked~label.sk-toggleable__label {background-color: #d4ebff;}#sk-container-id-4 input.sk-hidden--visually {border: 0;clip: rect(1px 1px 1px 1px);clip: rect(1px, 1px, 1px, 1px);height: 1px;margin: -1px;overflow: hidden;padding: 0;position: absolute;width: 1px;}#sk-container-id-4 div.sk-estimator {font-family: monospace;background-color: #f0f8ff;border: 1px dotted black;border-radius: 0.25em;box-sizing: border-box;margin-bottom: 0.5em;}#sk-container-id-4 div.sk-estimator:hover {background-color: #d4ebff;}#sk-container-id-4 div.sk-parallel-item::after {content: \"\";width: 100%;border-bottom: 1px solid gray;flex-grow: 1;}#sk-container-id-4 div.sk-label:hover label.sk-toggleable__label {background-color: #d4ebff;}#sk-container-id-4 div.sk-serial::before {content: \"\";position: absolute;border-left: 1px solid gray;box-sizing: border-box;top: 0;bottom: 0;left: 50%;z-index: 0;}#sk-container-id-4 div.sk-serial {display: flex;flex-direction: column;align-items: center;background-color: white;padding-right: 0.2em;padding-left: 0.2em;position: relative;}#sk-container-id-4 div.sk-item {position: relative;z-index: 1;}#sk-container-id-4 div.sk-parallel {display: flex;align-items: stretch;justify-content: center;background-color: white;position: relative;}#sk-container-id-4 div.sk-item::before, #sk-container-id-4 div.sk-parallel-item::before {content: \"\";position: absolute;border-left: 1px solid gray;box-sizing: border-box;top: 0;bottom: 0;left: 50%;z-index: -1;}#sk-container-id-4 div.sk-parallel-item {display: flex;flex-direction: column;z-index: 1;position: relative;background-color: white;}#sk-container-id-4 div.sk-parallel-item:first-child::after {align-self: flex-end;width: 50%;}#sk-container-id-4 div.sk-parallel-item:last-child::after {align-self: flex-start;width: 50%;}#sk-container-id-4 div.sk-parallel-item:only-child::after {width: 0;}#sk-container-id-4 div.sk-dashed-wrapped {border: 1px dashed gray;margin: 0 0.4em 0.5em 0.4em;box-sizing: border-box;padding-bottom: 0.4em;background-color: white;}#sk-container-id-4 div.sk-label label {font-family: monospace;font-weight: bold;display: inline-block;line-height: 1.2em;}#sk-container-id-4 div.sk-label-container {text-align: center;}#sk-container-id-4 div.sk-container {/* jupyter's `normalize.less` sets `[hidden] { display: none; }` but bootstrap.min.css set `[hidden] { display: none !important; }` so we also need the `!important` here to be able to override the default hidden behavior on the sphinx rendered scikit-learn.org. See: https://github.com/scikit-learn/scikit-learn/issues/21755 */display: inline-block !important;position: relative;}#sk-container-id-4 div.sk-text-repr-fallback {display: none;}</style><div id=\"sk-container-id-4\" class=\"sk-top-container\"><div class=\"sk-text-repr-fallback\"><pre>DecisionTreeRegressor()</pre><b>In a Jupyter environment, please rerun this cell to show the HTML representation or trust the notebook. <br />On GitHub, the HTML representation is unable to render, please try loading this page with nbviewer.org.</b></div><div class=\"sk-container\" hidden><div class=\"sk-item\"><div class=\"sk-estimator sk-toggleable\"><input class=\"sk-toggleable__control sk-hidden--visually\" id=\"sk-estimator-id-4\" type=\"checkbox\" checked><label for=\"sk-estimator-id-4\" class=\"sk-toggleable__label sk-toggleable__label-arrow\">DecisionTreeRegressor</label><div class=\"sk-toggleable__content\"><pre>DecisionTreeRegressor()</pre></div></div></div></div></div>"
      ],
      "text/plain": [
       "DecisionTreeRegressor()"
      ]
     },
     "execution_count": 135,
     "metadata": {},
     "output_type": "execute_result"
    }
   ],
   "source": [
    "DTR_model.fit(X_train,y_train)"
   ]
  },
  {
   "cell_type": "code",
   "execution_count": 140,
   "id": "335d7cab",
   "metadata": {},
   "outputs": [],
   "source": [
    "pred=DTR_model.predict(X_test)\n",
    "pred_train=DTR_model.predict(X_train)"
   ]
  },
  {
   "cell_type": "markdown",
   "id": "57cfa412",
   "metadata": {},
   "source": [
    "#### Train_MSE"
   ]
  },
  {
   "cell_type": "code",
   "execution_count": 141,
   "id": "aae129e7",
   "metadata": {},
   "outputs": [
    {
     "data": {
      "text/plain": [
       "7.331586233860566e-35"
      ]
     },
     "execution_count": 141,
     "metadata": {},
     "output_type": "execute_result"
    }
   ],
   "source": [
    "mean_squared_error(y_train,pred_train)"
   ]
  },
  {
   "cell_type": "code",
   "execution_count": 137,
   "id": "dbc415c8",
   "metadata": {},
   "outputs": [
    {
     "data": {
      "text/plain": [
       "0.31117319541405764"
      ]
     },
     "execution_count": 137,
     "metadata": {},
     "output_type": "execute_result"
    }
   ],
   "source": [
    "E1=mean_absolute_error(y_test,pred);E1\n",
    "\n",
    "E2=mean_squared_error(y_test,pred);E2\n",
    "\n",
    "E3=mean_absolute_percentage_error(y_test,pred);E3\n"
   ]
  },
  {
   "cell_type": "code",
   "execution_count": null,
   "id": "12e48947",
   "metadata": {},
   "outputs": [],
   "source": []
  },
  {
   "cell_type": "code",
   "execution_count": 138,
   "id": "4bbf13f3",
   "metadata": {},
   "outputs": [
    {
     "data": {
      "text/html": [
       "<div>\n",
       "<style scoped>\n",
       "    .dataframe tbody tr th:only-of-type {\n",
       "        vertical-align: middle;\n",
       "    }\n",
       "\n",
       "    .dataframe tbody tr th {\n",
       "        vertical-align: top;\n",
       "    }\n",
       "\n",
       "    .dataframe thead th {\n",
       "        text-align: right;\n",
       "    }\n",
       "</style>\n",
       "<table border=\"1\" class=\"dataframe\">\n",
       "  <thead>\n",
       "    <tr style=\"text-align: right;\">\n",
       "      <th></th>\n",
       "      <th>Error</th>\n",
       "      <th>Value</th>\n",
       "    </tr>\n",
       "  </thead>\n",
       "  <tbody>\n",
       "    <tr>\n",
       "      <th>0</th>\n",
       "      <td>mean_absolute_error</td>\n",
       "      <td>0.141594</td>\n",
       "    </tr>\n",
       "    <tr>\n",
       "      <th>1</th>\n",
       "      <td>mean_squared_error</td>\n",
       "      <td>0.058409</td>\n",
       "    </tr>\n",
       "    <tr>\n",
       "      <th>2</th>\n",
       "      <td>mean_absolute_percentage_error</td>\n",
       "      <td>0.311173</td>\n",
       "    </tr>\n",
       "  </tbody>\n",
       "</table>\n",
       "</div>"
      ],
      "text/plain": [
       "                            Error     Value\n",
       "0             mean_absolute_error  0.141594\n",
       "1              mean_squared_error  0.058409\n",
       "2  mean_absolute_percentage_error  0.311173"
      ]
     },
     "execution_count": 138,
     "metadata": {},
     "output_type": "execute_result"
    }
   ],
   "source": [
    "def Error(E1,E2,E3):\n",
    "    Err=pd.DataFrame({'Error':['mean_absolute_error','mean_squared_error','mean_absolute_percentage_error'],\n",
    "              'Value':[E1,E2,E3]\n",
    "             })\n",
    "    return Err\n",
    "\n",
    "Error(E1,E2,E3)"
   ]
  },
  {
   "cell_type": "markdown",
   "id": "f88fa0dc",
   "metadata": {},
   "source": [
    "# Random Forest"
   ]
  },
  {
   "cell_type": "code",
   "execution_count": 203,
   "id": "7d412636",
   "metadata": {},
   "outputs": [
    {
     "name": "stdout",
     "output_type": "stream",
     "text": [
      "Train_Size: (5548, 16)\n",
      "Test_Size: (1388, 16)\n"
     ]
    }
   ],
   "source": [
    "print('Train_Size:',X_train.shape)\n",
    "print('Test_Size:',X_test.shape)\n"
   ]
  },
  {
   "cell_type": "code",
   "execution_count": 204,
   "id": "9c04197f",
   "metadata": {},
   "outputs": [],
   "source": [
    "Regressor=RandomForestRegressor()"
   ]
  },
  {
   "cell_type": "code",
   "execution_count": 205,
   "id": "2c6b79eb",
   "metadata": {},
   "outputs": [
    {
     "name": "stderr",
     "output_type": "stream",
     "text": [
      "C:\\Users\\DELL\\anaconda3\\lib\\site-packages\\sklearn\\base.py:1152: DataConversionWarning: A column-vector y was passed when a 1d array was expected. Please change the shape of y to (n_samples,), for example using ravel().\n",
      "  return fit_method(estimator, *args, **kwargs)\n"
     ]
    },
    {
     "data": {
      "text/html": [
       "<style>#sk-container-id-9 {color: black;}#sk-container-id-9 pre{padding: 0;}#sk-container-id-9 div.sk-toggleable {background-color: white;}#sk-container-id-9 label.sk-toggleable__label {cursor: pointer;display: block;width: 100%;margin-bottom: 0;padding: 0.3em;box-sizing: border-box;text-align: center;}#sk-container-id-9 label.sk-toggleable__label-arrow:before {content: \"▸\";float: left;margin-right: 0.25em;color: #696969;}#sk-container-id-9 label.sk-toggleable__label-arrow:hover:before {color: black;}#sk-container-id-9 div.sk-estimator:hover label.sk-toggleable__label-arrow:before {color: black;}#sk-container-id-9 div.sk-toggleable__content {max-height: 0;max-width: 0;overflow: hidden;text-align: left;background-color: #f0f8ff;}#sk-container-id-9 div.sk-toggleable__content pre {margin: 0.2em;color: black;border-radius: 0.25em;background-color: #f0f8ff;}#sk-container-id-9 input.sk-toggleable__control:checked~div.sk-toggleable__content {max-height: 200px;max-width: 100%;overflow: auto;}#sk-container-id-9 input.sk-toggleable__control:checked~label.sk-toggleable__label-arrow:before {content: \"▾\";}#sk-container-id-9 div.sk-estimator input.sk-toggleable__control:checked~label.sk-toggleable__label {background-color: #d4ebff;}#sk-container-id-9 div.sk-label input.sk-toggleable__control:checked~label.sk-toggleable__label {background-color: #d4ebff;}#sk-container-id-9 input.sk-hidden--visually {border: 0;clip: rect(1px 1px 1px 1px);clip: rect(1px, 1px, 1px, 1px);height: 1px;margin: -1px;overflow: hidden;padding: 0;position: absolute;width: 1px;}#sk-container-id-9 div.sk-estimator {font-family: monospace;background-color: #f0f8ff;border: 1px dotted black;border-radius: 0.25em;box-sizing: border-box;margin-bottom: 0.5em;}#sk-container-id-9 div.sk-estimator:hover {background-color: #d4ebff;}#sk-container-id-9 div.sk-parallel-item::after {content: \"\";width: 100%;border-bottom: 1px solid gray;flex-grow: 1;}#sk-container-id-9 div.sk-label:hover label.sk-toggleable__label {background-color: #d4ebff;}#sk-container-id-9 div.sk-serial::before {content: \"\";position: absolute;border-left: 1px solid gray;box-sizing: border-box;top: 0;bottom: 0;left: 50%;z-index: 0;}#sk-container-id-9 div.sk-serial {display: flex;flex-direction: column;align-items: center;background-color: white;padding-right: 0.2em;padding-left: 0.2em;position: relative;}#sk-container-id-9 div.sk-item {position: relative;z-index: 1;}#sk-container-id-9 div.sk-parallel {display: flex;align-items: stretch;justify-content: center;background-color: white;position: relative;}#sk-container-id-9 div.sk-item::before, #sk-container-id-9 div.sk-parallel-item::before {content: \"\";position: absolute;border-left: 1px solid gray;box-sizing: border-box;top: 0;bottom: 0;left: 50%;z-index: -1;}#sk-container-id-9 div.sk-parallel-item {display: flex;flex-direction: column;z-index: 1;position: relative;background-color: white;}#sk-container-id-9 div.sk-parallel-item:first-child::after {align-self: flex-end;width: 50%;}#sk-container-id-9 div.sk-parallel-item:last-child::after {align-self: flex-start;width: 50%;}#sk-container-id-9 div.sk-parallel-item:only-child::after {width: 0;}#sk-container-id-9 div.sk-dashed-wrapped {border: 1px dashed gray;margin: 0 0.4em 0.5em 0.4em;box-sizing: border-box;padding-bottom: 0.4em;background-color: white;}#sk-container-id-9 div.sk-label label {font-family: monospace;font-weight: bold;display: inline-block;line-height: 1.2em;}#sk-container-id-9 div.sk-label-container {text-align: center;}#sk-container-id-9 div.sk-container {/* jupyter's `normalize.less` sets `[hidden] { display: none; }` but bootstrap.min.css set `[hidden] { display: none !important; }` so we also need the `!important` here to be able to override the default hidden behavior on the sphinx rendered scikit-learn.org. See: https://github.com/scikit-learn/scikit-learn/issues/21755 */display: inline-block !important;position: relative;}#sk-container-id-9 div.sk-text-repr-fallback {display: none;}</style><div id=\"sk-container-id-9\" class=\"sk-top-container\"><div class=\"sk-text-repr-fallback\"><pre>RandomForestRegressor()</pre><b>In a Jupyter environment, please rerun this cell to show the HTML representation or trust the notebook. <br />On GitHub, the HTML representation is unable to render, please try loading this page with nbviewer.org.</b></div><div class=\"sk-container\" hidden><div class=\"sk-item\"><div class=\"sk-estimator sk-toggleable\"><input class=\"sk-toggleable__control sk-hidden--visually\" id=\"sk-estimator-id-9\" type=\"checkbox\" checked><label for=\"sk-estimator-id-9\" class=\"sk-toggleable__label sk-toggleable__label-arrow\">RandomForestRegressor</label><div class=\"sk-toggleable__content\"><pre>RandomForestRegressor()</pre></div></div></div></div></div>"
      ],
      "text/plain": [
       "RandomForestRegressor()"
      ]
     },
     "execution_count": 205,
     "metadata": {},
     "output_type": "execute_result"
    }
   ],
   "source": [
    "Regressor.fit(X_train,y_train)"
   ]
  },
  {
   "cell_type": "code",
   "execution_count": 206,
   "id": "f8b209a4",
   "metadata": {},
   "outputs": [],
   "source": [
    "predicted=Regressor.predict(X_test)"
   ]
  },
  {
   "cell_type": "code",
   "execution_count": 207,
   "id": "b36eec55",
   "metadata": {},
   "outputs": [
    {
     "data": {
      "text/plain": [
       "0.8587445109840776"
      ]
     },
     "execution_count": 207,
     "metadata": {},
     "output_type": "execute_result"
    }
   ],
   "source": [
    "r2_score(y_train,Regressor.predict(X_train))"
   ]
  },
  {
   "cell_type": "markdown",
   "id": "a766b510",
   "metadata": {},
   "source": [
    "#### Train_MSE"
   ]
  },
  {
   "cell_type": "code",
   "execution_count": 208,
   "id": "68bbdfd8",
   "metadata": {},
   "outputs": [
    {
     "data": {
      "text/plain": [
       "0.0038176401776877983"
      ]
     },
     "execution_count": 208,
     "metadata": {},
     "output_type": "execute_result"
    }
   ],
   "source": [
    "mean_squared_error(y_train,Regressor.predict(X_train))"
   ]
  },
  {
   "cell_type": "code",
   "execution_count": 209,
   "id": "e314e9e2",
   "metadata": {},
   "outputs": [
    {
     "data": {
      "text/plain": [
       "0.24476996097023607"
      ]
     },
     "execution_count": 209,
     "metadata": {},
     "output_type": "execute_result"
    }
   ],
   "source": [
    "E11=mean_absolute_error(y_test,predicted);E11\n",
    "\n",
    "E21=mean_squared_error(y_test,predicted);E21\n",
    "\n",
    "E31=mean_absolute_percentage_error(y_test,predicted);E31"
   ]
  },
  {
   "cell_type": "code",
   "execution_count": null,
   "id": "6d483ebf",
   "metadata": {},
   "outputs": [],
   "source": []
  },
  {
   "cell_type": "code",
   "execution_count": 148,
   "id": "0506449d",
   "metadata": {},
   "outputs": [
    {
     "data": {
      "text/html": [
       "<div>\n",
       "<style scoped>\n",
       "    .dataframe tbody tr th:only-of-type {\n",
       "        vertical-align: middle;\n",
       "    }\n",
       "\n",
       "    .dataframe tbody tr th {\n",
       "        vertical-align: top;\n",
       "    }\n",
       "\n",
       "    .dataframe thead th {\n",
       "        text-align: right;\n",
       "    }\n",
       "</style>\n",
       "<table border=\"1\" class=\"dataframe\">\n",
       "  <thead>\n",
       "    <tr style=\"text-align: right;\">\n",
       "      <th></th>\n",
       "      <th>Error</th>\n",
       "      <th>Value</th>\n",
       "    </tr>\n",
       "  </thead>\n",
       "  <tbody>\n",
       "    <tr>\n",
       "      <th>0</th>\n",
       "      <td>mean_absolute_error</td>\n",
       "      <td>0.091168</td>\n",
       "    </tr>\n",
       "    <tr>\n",
       "      <th>1</th>\n",
       "      <td>mean_squared_error</td>\n",
       "      <td>0.029238</td>\n",
       "    </tr>\n",
       "    <tr>\n",
       "      <th>2</th>\n",
       "      <td>mean_absolute_percentage_error</td>\n",
       "      <td>0.242749</td>\n",
       "    </tr>\n",
       "  </tbody>\n",
       "</table>\n",
       "</div>"
      ],
      "text/plain": [
       "                            Error     Value\n",
       "0             mean_absolute_error  0.091168\n",
       "1              mean_squared_error  0.029238\n",
       "2  mean_absolute_percentage_error  0.242749"
      ]
     },
     "execution_count": 148,
     "metadata": {},
     "output_type": "execute_result"
    }
   ],
   "source": [
    "Error(E11,E21,E31)"
   ]
  },
  {
   "cell_type": "markdown",
   "id": "c8e93c76",
   "metadata": {},
   "source": [
    "## Validation of the model"
   ]
  },
  {
   "cell_type": "code",
   "execution_count": 152,
   "id": "c6ea3443",
   "metadata": {},
   "outputs": [],
   "source": [
    "def Error(E1,E2,E3):\n",
    "    Err=pd.DataFrame({'Error':['mean_absolute_error','mean_squared_error','mean_absolute_percentage_error'],\n",
    "              'Value':[E1,E2,E3]\n",
    "             }) \n",
    "    return Err"
   ]
  },
  {
   "cell_type": "code",
   "execution_count": 153,
   "id": "a901118f",
   "metadata": {},
   "outputs": [
    {
     "data": {
      "text/html": [
       "<div>\n",
       "<style scoped>\n",
       "    .dataframe tbody tr th:only-of-type {\n",
       "        vertical-align: middle;\n",
       "    }\n",
       "\n",
       "    .dataframe tbody tr th {\n",
       "        vertical-align: top;\n",
       "    }\n",
       "\n",
       "    .dataframe thead th {\n",
       "        text-align: right;\n",
       "    }\n",
       "</style>\n",
       "<table border=\"1\" class=\"dataframe\">\n",
       "  <thead>\n",
       "    <tr style=\"text-align: right;\">\n",
       "      <th></th>\n",
       "      <th>Error</th>\n",
       "      <th>Value</th>\n",
       "    </tr>\n",
       "  </thead>\n",
       "  <tbody>\n",
       "    <tr>\n",
       "      <th>0</th>\n",
       "      <td>mean_absolute_error</td>\n",
       "      <td>0.141594</td>\n",
       "    </tr>\n",
       "    <tr>\n",
       "      <th>1</th>\n",
       "      <td>mean_squared_error</td>\n",
       "      <td>0.058409</td>\n",
       "    </tr>\n",
       "    <tr>\n",
       "      <th>2</th>\n",
       "      <td>mean_absolute_percentage_error</td>\n",
       "      <td>0.311173</td>\n",
       "    </tr>\n",
       "  </tbody>\n",
       "</table>\n",
       "</div>"
      ],
      "text/plain": [
       "                            Error     Value\n",
       "0             mean_absolute_error  0.141594\n",
       "1              mean_squared_error  0.058409\n",
       "2  mean_absolute_percentage_error  0.311173"
      ]
     },
     "execution_count": 153,
     "metadata": {},
     "output_type": "execute_result"
    }
   ],
   "source": [
    "Error(E1,E2,E3)"
   ]
  },
  {
   "cell_type": "code",
   "execution_count": 99,
   "id": "d7ea7d11",
   "metadata": {},
   "outputs": [
    {
     "name": "stdout",
     "output_type": "stream",
     "text": [
      "Fitting 3 folds for each of 100 candidates, totalling 300 fits\n"
     ]
    },
    {
     "name": "stderr",
     "output_type": "stream",
     "text": [
      "C:\\Users\\DELL\\anaconda3\\lib\\site-packages\\sklearn\\model_selection\\_validation.py:425: FitFailedWarning: \n",
      "90 fits failed out of a total of 300.\n",
      "The score on these train-test partitions for these parameters will be set to nan.\n",
      "If these failures are not expected, you can try to debug them by setting error_score='raise'.\n",
      "\n",
      "Below are more details about the failures:\n",
      "--------------------------------------------------------------------------------\n",
      "55 fits failed with the following error:\n",
      "Traceback (most recent call last):\n",
      "  File \"C:\\Users\\DELL\\anaconda3\\lib\\site-packages\\sklearn\\model_selection\\_validation.py\", line 729, in _fit_and_score\n",
      "    estimator.fit(X_train, y_train, **fit_params)\n",
      "  File \"C:\\Users\\DELL\\anaconda3\\lib\\site-packages\\sklearn\\base.py\", line 1145, in wrapper\n",
      "    estimator._validate_params()\n",
      "  File \"C:\\Users\\DELL\\anaconda3\\lib\\site-packages\\sklearn\\base.py\", line 638, in _validate_params\n",
      "    validate_parameter_constraints(\n",
      "  File \"C:\\Users\\DELL\\anaconda3\\lib\\site-packages\\sklearn\\utils\\_param_validation.py\", line 95, in validate_parameter_constraints\n",
      "    raise InvalidParameterError(\n",
      "sklearn.utils._param_validation.InvalidParameterError: The 'max_features' parameter of RandomForestRegressor must be an int in the range [1, inf), a float in the range (0.0, 1.0], a str among {'sqrt', 'log2'} or None. Got 'auto' instead.\n",
      "\n",
      "--------------------------------------------------------------------------------\n",
      "35 fits failed with the following error:\n",
      "Traceback (most recent call last):\n",
      "  File \"C:\\Users\\DELL\\anaconda3\\lib\\site-packages\\sklearn\\model_selection\\_validation.py\", line 729, in _fit_and_score\n",
      "    estimator.fit(X_train, y_train, **fit_params)\n",
      "  File \"C:\\Users\\DELL\\anaconda3\\lib\\site-packages\\sklearn\\base.py\", line 1145, in wrapper\n",
      "    estimator._validate_params()\n",
      "  File \"C:\\Users\\DELL\\anaconda3\\lib\\site-packages\\sklearn\\base.py\", line 638, in _validate_params\n",
      "    validate_parameter_constraints(\n",
      "  File \"C:\\Users\\DELL\\anaconda3\\lib\\site-packages\\sklearn\\utils\\_param_validation.py\", line 95, in validate_parameter_constraints\n",
      "    raise InvalidParameterError(\n",
      "sklearn.utils._param_validation.InvalidParameterError: The 'max_features' parameter of RandomForestRegressor must be an int in the range [1, inf), a float in the range (0.0, 1.0], a str among {'log2', 'sqrt'} or None. Got 'auto' instead.\n",
      "\n",
      "  warnings.warn(some_fits_failed_message, FitFailedWarning)\n",
      "C:\\Users\\DELL\\anaconda3\\lib\\site-packages\\sklearn\\model_selection\\_search.py:979: UserWarning: One or more of the test scores are non-finite: [ 0.0431297   0.03508388  0.0387132          nan  0.03615984         nan\n",
      " -0.05111452  0.03529465  0.03548819  0.04241509  0.0295244          nan\n",
      "  0.04460045  0.04008881  0.04238411         nan  0.04293018  0.04297805\n",
      "  0.01268099  0.04068838  0.04199708         nan  0.03455911  0.04098265\n",
      "         nan         nan  0.03623072         nan  0.04263929  0.02334326\n",
      "         nan  0.04035247  0.04331791  0.03325386         nan         nan\n",
      "  0.04096666         nan  0.02020692         nan  0.03396294  0.03821387\n",
      "  0.02926308  0.03088056         nan  0.04293278  0.03536028         nan\n",
      "  0.0441529   0.04142122  0.02950372  0.03733812  0.01044615  0.00239118\n",
      "  0.03221532         nan         nan  0.03352917         nan         nan\n",
      "  0.04185587 -0.02355239         nan  0.04147035  0.04376845  0.03670906\n",
      " -0.02514851  0.04116636  0.02978967  0.03961878  0.03144848  0.03797142\n",
      "         nan  0.0325067          nan  0.04038296         nan         nan\n",
      "  0.04247749  0.02857079  0.03777189  0.02304111         nan         nan\n",
      "  0.04001934         nan  0.03529322  0.01879061  0.03513209  0.03705861\n",
      "  0.03616314  0.02685329         nan  0.01792903         nan         nan\n",
      "  0.01674637  0.02940991  0.04234079  0.03991684]\n",
      "  warnings.warn(\n",
      "C:\\Users\\DELL\\anaconda3\\lib\\site-packages\\sklearn\\base.py:1152: DataConversionWarning: A column-vector y was passed when a 1d array was expected. Please change the shape of y to (n_samples,), for example using ravel().\n",
      "  return fit_method(estimator, *args, **kwargs)\n"
     ]
    },
    {
     "name": "stdout",
     "output_type": "stream",
     "text": [
      "Best Hyperparameters: {'n_estimators': 136, 'min_samples_split': 2, 'min_samples_leaf': 4, 'max_features': 'log2', 'max_depth': 10}\n",
      "Mean Squared Error on Test Set: 0.02840383948947933\n"
     ]
    }
   ],
   "source": [
    "from sklearn.model_selection import RandomizedSearchCV\n",
    "\n",
    "# Define the Random Forest Regressor model\n",
    "rf_model = RandomForestRegressor()\n",
    "\n",
    "# Define the hyperparameter grid\n",
    "param_grid = {\n",
    "    'n_estimators': [int(x) for x in np.linspace(start=10, stop=200, num=10)],\n",
    "    'max_features': ['auto', 'sqrt', 'log2'],\n",
    "    'max_depth': [int(x) for x in np.linspace(10, 110, num=11)],\n",
    "    'min_samples_split': [2, 5, 10],\n",
    "    'min_samples_leaf': [1, 2, 4]\n",
    "}\n",
    "\n",
    "# Initialize RandomizedSearchCV\n",
    "rf_random = RandomizedSearchCV(estimator=rf_model, param_distributions=param_grid,\n",
    "                               n_iter=100, cv=3, verbose=2, random_state=42, n_jobs=-1)\n",
    "\n",
    "# Fit the model\n",
    "rf_random.fit(X_train, y_train)\n",
    "\n",
    "# Get the best hyperparameters\n",
    "best_params = rf_random.best_params_\n",
    "print(\"Best Hyperparameters:\", best_params)\n",
    "\n",
    "# Evaluate the model with the best hyperparameters on the test set\n",
    "best_model = rf_random.best_estimator_\n",
    "y_pred = best_model.predict(X_test)\n",
    "mse = mean_squared_error(y_test, y_pred)\n",
    "print(\"Mean Squared Error on Test Set:\", mse)"
   ]
  },
  {
   "cell_type": "markdown",
   "id": "784766b3",
   "metadata": {},
   "source": [
    "#### Feature Importance"
   ]
  },
  {
   "cell_type": "code",
   "execution_count": 158,
   "id": "c6086240",
   "metadata": {},
   "outputs": [
    {
     "data": {
      "text/html": [
       "<div>\n",
       "<style scoped>\n",
       "    .dataframe tbody tr th:only-of-type {\n",
       "        vertical-align: middle;\n",
       "    }\n",
       "\n",
       "    .dataframe tbody tr th {\n",
       "        vertical-align: top;\n",
       "    }\n",
       "\n",
       "    .dataframe thead th {\n",
       "        text-align: right;\n",
       "    }\n",
       "</style>\n",
       "<table border=\"1\" class=\"dataframe\">\n",
       "  <thead>\n",
       "    <tr style=\"text-align: right;\">\n",
       "      <th></th>\n",
       "      <th>Feature</th>\n",
       "      <th>Importance</th>\n",
       "    </tr>\n",
       "  </thead>\n",
       "  <tbody>\n",
       "    <tr>\n",
       "      <th>15</th>\n",
       "      <td>Location</td>\n",
       "      <td>0.129909</td>\n",
       "    </tr>\n",
       "    <tr>\n",
       "      <th>14</th>\n",
       "      <td>Hiring_candidate_role</td>\n",
       "      <td>0.122046</td>\n",
       "    </tr>\n",
       "    <tr>\n",
       "      <th>13</th>\n",
       "      <td>Deal_value</td>\n",
       "      <td>0.106904</td>\n",
       "    </tr>\n",
       "    <tr>\n",
       "      <th>12</th>\n",
       "      <td>Internal_POC</td>\n",
       "      <td>0.102830</td>\n",
       "    </tr>\n",
       "    <tr>\n",
       "      <th>11</th>\n",
       "      <td>Weighted_amount</td>\n",
       "      <td>0.099209</td>\n",
       "    </tr>\n",
       "    <tr>\n",
       "      <th>10</th>\n",
       "      <td>Industry</td>\n",
       "      <td>0.091064</td>\n",
       "    </tr>\n",
       "    <tr>\n",
       "      <th>9</th>\n",
       "      <td>Last_lead_update</td>\n",
       "      <td>0.056875</td>\n",
       "    </tr>\n",
       "    <tr>\n",
       "      <th>8</th>\n",
       "      <td>Resource</td>\n",
       "      <td>0.049756</td>\n",
       "    </tr>\n",
       "    <tr>\n",
       "      <th>7</th>\n",
       "      <td>Internal_rating</td>\n",
       "      <td>0.039522</td>\n",
       "    </tr>\n",
       "    <tr>\n",
       "      <th>6</th>\n",
       "      <td>Designation</td>\n",
       "      <td>0.039416</td>\n",
       "    </tr>\n",
       "    <tr>\n",
       "      <th>5</th>\n",
       "      <td>Fund_category</td>\n",
       "      <td>0.037673</td>\n",
       "    </tr>\n",
       "    <tr>\n",
       "      <th>4</th>\n",
       "      <td>Lead_source</td>\n",
       "      <td>0.033148</td>\n",
       "    </tr>\n",
       "    <tr>\n",
       "      <th>3</th>\n",
       "      <td>Geography</td>\n",
       "      <td>0.029729</td>\n",
       "    </tr>\n",
       "    <tr>\n",
       "      <th>2</th>\n",
       "      <td>Level_of_meeting</td>\n",
       "      <td>0.025724</td>\n",
       "    </tr>\n",
       "    <tr>\n",
       "      <th>1</th>\n",
       "      <td>Lead_revenue</td>\n",
       "      <td>0.023142</td>\n",
       "    </tr>\n",
       "    <tr>\n",
       "      <th>0</th>\n",
       "      <td>Pitch</td>\n",
       "      <td>0.013054</td>\n",
       "    </tr>\n",
       "  </tbody>\n",
       "</table>\n",
       "</div>"
      ],
      "text/plain": [
       "                  Feature  Importance\n",
       "15               Location    0.129909\n",
       "14  Hiring_candidate_role    0.122046\n",
       "13             Deal_value    0.106904\n",
       "12           Internal_POC    0.102830\n",
       "11        Weighted_amount    0.099209\n",
       "10               Industry    0.091064\n",
       "9        Last_lead_update    0.056875\n",
       "8                Resource    0.049756\n",
       "7         Internal_rating    0.039522\n",
       "6             Designation    0.039416\n",
       "5           Fund_category    0.037673\n",
       "4             Lead_source    0.033148\n",
       "3               Geography    0.029729\n",
       "2        Level_of_meeting    0.025724\n",
       "1            Lead_revenue    0.023142\n",
       "0                   Pitch    0.013054"
      ]
     },
     "execution_count": 158,
     "metadata": {},
     "output_type": "execute_result"
    }
   ],
   "source": [
    "# Get feature importances\n",
    "feature_importances =Regressor.feature_importances_\n",
    "\n",
    "# Assuming your original feature names are in X_train.columns\n",
    "feature_names = X_train.columns\n",
    "\n",
    "# Sort indices by importance\n",
    "sorted_indices = np.argsort(feature_importances)\n",
    "\n",
    "# Create a DataFrame with original feature names and their importance values\n",
    "feature_importance_df = pd.DataFrame(\n",
    "    {'Feature': np.array(feature_names)[sorted_indices],\n",
    "     'Importance': feature_importances[sorted_indices]}\n",
    ")\n",
    "feature_importance_df.sort_values(by='Importance',ascending=False)"
   ]
  },
  {
   "cell_type": "markdown",
   "id": "c7a377ed",
   "metadata": {},
   "source": [
    "\"\"\"Deal_title               9100\n",
    "Lead_name                9100\n",
    "Industry                  172\n",
    "Deal_value               8967\n",
    "Weighted_amount          8513\n",
    "Date_of_creation          777\n",
    "Pitch                       2\n",
    "Contact_no               9100\n",
    "Lead_revenue                3\n",
    "Fund_category               4\n",
    "Geography                   2\n",
    "Location                  597\n",
    "POC_name                 6633\n",
    "Designation                10\n",
    "Lead_POC_email           9099\n",
    "Hiring_candidate_role     639\n",
    "Lead_source                 4\n",
    "Level_of_meeting            3\n",
    "Last_lead_update           11\n",
    "Internal_POC               60\n",
    "Resource                    6\n",
    "Internal_rating             7\n",
    "Success_probability       248\n",
    "dtype: int64\"\"\""
   ]
  },
  {
   "cell_type": "code",
   "execution_count": 155,
   "id": "c58456ff",
   "metadata": {},
   "outputs": [
    {
     "data": {
      "text/plain": [
       "Index(['Industry', 'Deal_value', 'Weighted_amount', 'Pitch', 'Lead_revenue',\n",
       "       'Fund_category', 'Geography', 'Location', 'Designation',\n",
       "       'Hiring_candidate_role', 'Lead_source', 'Level_of_meeting',\n",
       "       'Last_lead_update', 'Internal_POC', 'Resource', 'Internal_rating'],\n",
       "      dtype='object')"
      ]
     },
     "execution_count": 155,
     "metadata": {},
     "output_type": "execute_result"
    }
   ],
   "source": [
    "X_train.columns"
   ]
  },
  {
   "cell_type": "code",
   "execution_count": null,
   "id": "3ba7deec",
   "metadata": {},
   "outputs": [],
   "source": []
  },
  {
   "cell_type": "code",
   "execution_count": null,
   "id": "5540c55e",
   "metadata": {},
   "outputs": [],
   "source": []
  },
  {
   "cell_type": "markdown",
   "id": "4b487763",
   "metadata": {},
   "source": [
    "### XGBOOst"
   ]
  },
  {
   "cell_type": "code",
   "execution_count": 159,
   "id": "000b7887",
   "metadata": {},
   "outputs": [],
   "source": [
    "xgb_model = XGBRegressor(objective='reg:squarederror', random_state=42)"
   ]
  },
  {
   "cell_type": "code",
   "execution_count": 160,
   "id": "4e0e8c6c",
   "metadata": {},
   "outputs": [
    {
     "data": {
      "text/html": [
       "<style>#sk-container-id-7 {color: black;}#sk-container-id-7 pre{padding: 0;}#sk-container-id-7 div.sk-toggleable {background-color: white;}#sk-container-id-7 label.sk-toggleable__label {cursor: pointer;display: block;width: 100%;margin-bottom: 0;padding: 0.3em;box-sizing: border-box;text-align: center;}#sk-container-id-7 label.sk-toggleable__label-arrow:before {content: \"▸\";float: left;margin-right: 0.25em;color: #696969;}#sk-container-id-7 label.sk-toggleable__label-arrow:hover:before {color: black;}#sk-container-id-7 div.sk-estimator:hover label.sk-toggleable__label-arrow:before {color: black;}#sk-container-id-7 div.sk-toggleable__content {max-height: 0;max-width: 0;overflow: hidden;text-align: left;background-color: #f0f8ff;}#sk-container-id-7 div.sk-toggleable__content pre {margin: 0.2em;color: black;border-radius: 0.25em;background-color: #f0f8ff;}#sk-container-id-7 input.sk-toggleable__control:checked~div.sk-toggleable__content {max-height: 200px;max-width: 100%;overflow: auto;}#sk-container-id-7 input.sk-toggleable__control:checked~label.sk-toggleable__label-arrow:before {content: \"▾\";}#sk-container-id-7 div.sk-estimator input.sk-toggleable__control:checked~label.sk-toggleable__label {background-color: #d4ebff;}#sk-container-id-7 div.sk-label input.sk-toggleable__control:checked~label.sk-toggleable__label {background-color: #d4ebff;}#sk-container-id-7 input.sk-hidden--visually {border: 0;clip: rect(1px 1px 1px 1px);clip: rect(1px, 1px, 1px, 1px);height: 1px;margin: -1px;overflow: hidden;padding: 0;position: absolute;width: 1px;}#sk-container-id-7 div.sk-estimator {font-family: monospace;background-color: #f0f8ff;border: 1px dotted black;border-radius: 0.25em;box-sizing: border-box;margin-bottom: 0.5em;}#sk-container-id-7 div.sk-estimator:hover {background-color: #d4ebff;}#sk-container-id-7 div.sk-parallel-item::after {content: \"\";width: 100%;border-bottom: 1px solid gray;flex-grow: 1;}#sk-container-id-7 div.sk-label:hover label.sk-toggleable__label {background-color: #d4ebff;}#sk-container-id-7 div.sk-serial::before {content: \"\";position: absolute;border-left: 1px solid gray;box-sizing: border-box;top: 0;bottom: 0;left: 50%;z-index: 0;}#sk-container-id-7 div.sk-serial {display: flex;flex-direction: column;align-items: center;background-color: white;padding-right: 0.2em;padding-left: 0.2em;position: relative;}#sk-container-id-7 div.sk-item {position: relative;z-index: 1;}#sk-container-id-7 div.sk-parallel {display: flex;align-items: stretch;justify-content: center;background-color: white;position: relative;}#sk-container-id-7 div.sk-item::before, #sk-container-id-7 div.sk-parallel-item::before {content: \"\";position: absolute;border-left: 1px solid gray;box-sizing: border-box;top: 0;bottom: 0;left: 50%;z-index: -1;}#sk-container-id-7 div.sk-parallel-item {display: flex;flex-direction: column;z-index: 1;position: relative;background-color: white;}#sk-container-id-7 div.sk-parallel-item:first-child::after {align-self: flex-end;width: 50%;}#sk-container-id-7 div.sk-parallel-item:last-child::after {align-self: flex-start;width: 50%;}#sk-container-id-7 div.sk-parallel-item:only-child::after {width: 0;}#sk-container-id-7 div.sk-dashed-wrapped {border: 1px dashed gray;margin: 0 0.4em 0.5em 0.4em;box-sizing: border-box;padding-bottom: 0.4em;background-color: white;}#sk-container-id-7 div.sk-label label {font-family: monospace;font-weight: bold;display: inline-block;line-height: 1.2em;}#sk-container-id-7 div.sk-label-container {text-align: center;}#sk-container-id-7 div.sk-container {/* jupyter's `normalize.less` sets `[hidden] { display: none; }` but bootstrap.min.css set `[hidden] { display: none !important; }` so we also need the `!important` here to be able to override the default hidden behavior on the sphinx rendered scikit-learn.org. See: https://github.com/scikit-learn/scikit-learn/issues/21755 */display: inline-block !important;position: relative;}#sk-container-id-7 div.sk-text-repr-fallback {display: none;}</style><div id=\"sk-container-id-7\" class=\"sk-top-container\"><div class=\"sk-text-repr-fallback\"><pre>XGBRegressor(base_score=0.5, booster=&#x27;gbtree&#x27;, callbacks=None,\n",
       "             colsample_bylevel=1, colsample_bynode=1, colsample_bytree=1,\n",
       "             early_stopping_rounds=None, enable_categorical=False,\n",
       "             eval_metric=None, gamma=0, gpu_id=-1, grow_policy=&#x27;depthwise&#x27;,\n",
       "             importance_type=None, interaction_constraints=&#x27;&#x27;,\n",
       "             learning_rate=0.300000012, max_bin=256, max_cat_to_onehot=4,\n",
       "             max_delta_step=0, max_depth=6, max_leaves=0, min_child_weight=1,\n",
       "             missing=nan, monotone_constraints=&#x27;()&#x27;, n_estimators=100, n_jobs=0,\n",
       "             num_parallel_tree=1, predictor=&#x27;auto&#x27;, random_state=42,\n",
       "             reg_alpha=0, reg_lambda=1, ...)</pre><b>In a Jupyter environment, please rerun this cell to show the HTML representation or trust the notebook. <br />On GitHub, the HTML representation is unable to render, please try loading this page with nbviewer.org.</b></div><div class=\"sk-container\" hidden><div class=\"sk-item\"><div class=\"sk-estimator sk-toggleable\"><input class=\"sk-toggleable__control sk-hidden--visually\" id=\"sk-estimator-id-7\" type=\"checkbox\" checked><label for=\"sk-estimator-id-7\" class=\"sk-toggleable__label sk-toggleable__label-arrow\">XGBRegressor</label><div class=\"sk-toggleable__content\"><pre>XGBRegressor(base_score=0.5, booster=&#x27;gbtree&#x27;, callbacks=None,\n",
       "             colsample_bylevel=1, colsample_bynode=1, colsample_bytree=1,\n",
       "             early_stopping_rounds=None, enable_categorical=False,\n",
       "             eval_metric=None, gamma=0, gpu_id=-1, grow_policy=&#x27;depthwise&#x27;,\n",
       "             importance_type=None, interaction_constraints=&#x27;&#x27;,\n",
       "             learning_rate=0.300000012, max_bin=256, max_cat_to_onehot=4,\n",
       "             max_delta_step=0, max_depth=6, max_leaves=0, min_child_weight=1,\n",
       "             missing=nan, monotone_constraints=&#x27;()&#x27;, n_estimators=100, n_jobs=0,\n",
       "             num_parallel_tree=1, predictor=&#x27;auto&#x27;, random_state=42,\n",
       "             reg_alpha=0, reg_lambda=1, ...)</pre></div></div></div></div></div>"
      ],
      "text/plain": [
       "XGBRegressor(base_score=0.5, booster='gbtree', callbacks=None,\n",
       "             colsample_bylevel=1, colsample_bynode=1, colsample_bytree=1,\n",
       "             early_stopping_rounds=None, enable_categorical=False,\n",
       "             eval_metric=None, gamma=0, gpu_id=-1, grow_policy='depthwise',\n",
       "             importance_type=None, interaction_constraints='',\n",
       "             learning_rate=0.300000012, max_bin=256, max_cat_to_onehot=4,\n",
       "             max_delta_step=0, max_depth=6, max_leaves=0, min_child_weight=1,\n",
       "             missing=nan, monotone_constraints='()', n_estimators=100, n_jobs=0,\n",
       "             num_parallel_tree=1, predictor='auto', random_state=42,\n",
       "             reg_alpha=0, reg_lambda=1, ...)"
      ]
     },
     "execution_count": 160,
     "metadata": {},
     "output_type": "execute_result"
    }
   ],
   "source": [
    "xgb_model.fit(X_train, y_train)"
   ]
  },
  {
   "cell_type": "code",
   "execution_count": 161,
   "id": "af7452ce",
   "metadata": {},
   "outputs": [],
   "source": [
    "predicted2=xgb_model.predict(X_test)"
   ]
  },
  {
   "cell_type": "code",
   "execution_count": 162,
   "id": "c16f7f2f",
   "metadata": {},
   "outputs": [
    {
     "data": {
      "text/plain": [
       "0.27405311306223334"
      ]
     },
     "execution_count": 162,
     "metadata": {},
     "output_type": "execute_result"
    }
   ],
   "source": [
    "E1=mean_absolute_error(y_test,predicted2);E1 \n",
    "\n",
    "E2=mean_squared_error(y_test,predicted2);E2\n",
    "\n",
    "E3=mean_absolute_percentage_error(y_test,predicted2);E3"
   ]
  },
  {
   "cell_type": "markdown",
   "id": "b2026a2e",
   "metadata": {},
   "source": [
    "#### Train_MSE"
   ]
  },
  {
   "cell_type": "code",
   "execution_count": 164,
   "id": "4d291c85",
   "metadata": {},
   "outputs": [
    {
     "data": {
      "text/plain": [
       "0.00385671304270474"
      ]
     },
     "execution_count": 164,
     "metadata": {},
     "output_type": "execute_result"
    }
   ],
   "source": [
    "mean_squared_error(y_train,Regressor.predict(X_train))"
   ]
  },
  {
   "cell_type": "code",
   "execution_count": 165,
   "id": "122519d7",
   "metadata": {},
   "outputs": [
    {
     "data": {
      "text/plain": [
       "0.8265118729302079"
      ]
     },
     "execution_count": 165,
     "metadata": {},
     "output_type": "execute_result"
    }
   ],
   "source": [
    "r2_score(y_train,xgb_model.predict(X_train))"
   ]
  },
  {
   "cell_type": "code",
   "execution_count": 166,
   "id": "291ba80f",
   "metadata": {},
   "outputs": [
    {
     "data": {
      "text/html": [
       "<div>\n",
       "<style scoped>\n",
       "    .dataframe tbody tr th:only-of-type {\n",
       "        vertical-align: middle;\n",
       "    }\n",
       "\n",
       "    .dataframe tbody tr th {\n",
       "        vertical-align: top;\n",
       "    }\n",
       "\n",
       "    .dataframe thead th {\n",
       "        text-align: right;\n",
       "    }\n",
       "</style>\n",
       "<table border=\"1\" class=\"dataframe\">\n",
       "  <thead>\n",
       "    <tr style=\"text-align: right;\">\n",
       "      <th></th>\n",
       "      <th>Error</th>\n",
       "      <th>Value</th>\n",
       "    </tr>\n",
       "  </thead>\n",
       "  <tbody>\n",
       "    <tr>\n",
       "      <th>0</th>\n",
       "      <td>mean_absolute_error</td>\n",
       "      <td>0.110507</td>\n",
       "    </tr>\n",
       "    <tr>\n",
       "      <th>1</th>\n",
       "      <td>mean_squared_error</td>\n",
       "      <td>0.032812</td>\n",
       "    </tr>\n",
       "    <tr>\n",
       "      <th>2</th>\n",
       "      <td>mean_absolute_percentage_error</td>\n",
       "      <td>0.274053</td>\n",
       "    </tr>\n",
       "  </tbody>\n",
       "</table>\n",
       "</div>"
      ],
      "text/plain": [
       "                            Error     Value\n",
       "0             mean_absolute_error  0.110507\n",
       "1              mean_squared_error  0.032812\n",
       "2  mean_absolute_percentage_error  0.274053"
      ]
     },
     "execution_count": 166,
     "metadata": {},
     "output_type": "execute_result"
    }
   ],
   "source": [
    "Error(E1,E2,E3)"
   ]
  },
  {
   "cell_type": "markdown",
   "id": "f208dd7f",
   "metadata": {},
   "source": [
    "# Final_model"
   ]
  },
  {
   "cell_type": "code",
   "execution_count": 167,
   "id": "2fcec4f4",
   "metadata": {},
   "outputs": [
    {
     "data": {
      "text/plain": [
       "\"Chooosed Columns for final model\\ndf2=df4[['Industry','Deal_value','Weighted_amount','Fund_category','Geography', \\n'Designation','Resource','Last_lead_update','Internal_rating','Success_probability']]\\n\""
      ]
     },
     "execution_count": 167,
     "metadata": {},
     "output_type": "execute_result"
    }
   ],
   "source": [
    "'''Chooosed Columns for final model\n",
    "df2=df4[['Industry','Deal_value','Weighted_amount','Fund_category','Geography', \n",
    "'Designation','Resource','Last_lead_update','Internal_rating','Success_probability']]\n",
    "'''"
   ]
  },
  {
   "cell_type": "code",
   "execution_count": 168,
   "id": "2514c725",
   "metadata": {},
   "outputs": [],
   "source": [
    "df2=df4[['Industry','Deal_value','Weighted_amount','Fund_category','Geography', 'Designation','Resource','Last_lead_update','Internal_rating','Success_probability']]"
   ]
  },
  {
   "cell_type": "code",
   "execution_count": 169,
   "id": "fa2ddb5d",
   "metadata": {},
   "outputs": [
    {
     "data": {
      "text/html": [
       "<div>\n",
       "<style scoped>\n",
       "    .dataframe tbody tr th:only-of-type {\n",
       "        vertical-align: middle;\n",
       "    }\n",
       "\n",
       "    .dataframe tbody tr th {\n",
       "        vertical-align: top;\n",
       "    }\n",
       "\n",
       "    .dataframe thead th {\n",
       "        text-align: right;\n",
       "    }\n",
       "</style>\n",
       "<table border=\"1\" class=\"dataframe\">\n",
       "  <thead>\n",
       "    <tr style=\"text-align: right;\">\n",
       "      <th></th>\n",
       "      <th>Industry</th>\n",
       "      <th>Deal_value</th>\n",
       "      <th>Weighted_amount</th>\n",
       "      <th>Fund_category</th>\n",
       "      <th>Geography</th>\n",
       "      <th>Designation</th>\n",
       "      <th>Resource</th>\n",
       "      <th>Last_lead_update</th>\n",
       "      <th>Internal_rating</th>\n",
       "      <th>Success_probability</th>\n",
       "    </tr>\n",
       "  </thead>\n",
       "  <tbody>\n",
       "    <tr>\n",
       "      <th>0</th>\n",
       "      <td>Restaurants</td>\n",
       "      <td>320506.0</td>\n",
       "      <td>2.067264e+06</td>\n",
       "      <td>Category 2</td>\n",
       "      <td>USA</td>\n",
       "      <td>Executive Vice President</td>\n",
       "      <td>other</td>\n",
       "      <td>No track</td>\n",
       "      <td>3.0</td>\n",
       "      <td>0.7360</td>\n",
       "    </tr>\n",
       "    <tr>\n",
       "      <th>1</th>\n",
       "      <td>Construction Services</td>\n",
       "      <td>39488.0</td>\n",
       "      <td>2.408768e+05</td>\n",
       "      <td>Category 4</td>\n",
       "      <td>India</td>\n",
       "      <td>Chairman</td>\n",
       "      <td>No</td>\n",
       "      <td>Did not hear back after Level 1</td>\n",
       "      <td>5.0</td>\n",
       "      <td>0.5890</td>\n",
       "    </tr>\n",
       "    <tr>\n",
       "      <th>2</th>\n",
       "      <td>Hospitals/Clinics</td>\n",
       "      <td>359392.0</td>\n",
       "      <td>2.407926e+06</td>\n",
       "      <td>Category 4</td>\n",
       "      <td>USA</td>\n",
       "      <td>SVP</td>\n",
       "      <td>No</td>\n",
       "      <td>Pending</td>\n",
       "      <td>4.0</td>\n",
       "      <td>0.6880</td>\n",
       "    </tr>\n",
       "    <tr>\n",
       "      <th>3</th>\n",
       "      <td>Real Estate</td>\n",
       "      <td>76774.0</td>\n",
       "      <td>4.683214e+05</td>\n",
       "      <td>Category 3</td>\n",
       "      <td>USA</td>\n",
       "      <td>CEO</td>\n",
       "      <td>We have all the requirements</td>\n",
       "      <td>Did not hear back after Level 1</td>\n",
       "      <td>1.0</td>\n",
       "      <td>0.6450</td>\n",
       "    </tr>\n",
       "    <tr>\n",
       "      <th>4</th>\n",
       "      <td>Financial Services</td>\n",
       "      <td>483896.0</td>\n",
       "      <td>1.566916e+06</td>\n",
       "      <td>Category 3</td>\n",
       "      <td>India</td>\n",
       "      <td>Executive Vice President</td>\n",
       "      <td>No</td>\n",
       "      <td>Up-to-date</td>\n",
       "      <td>4.0</td>\n",
       "      <td>0.6240</td>\n",
       "    </tr>\n",
       "    <tr>\n",
       "      <th>...</th>\n",
       "      <td>...</td>\n",
       "      <td>...</td>\n",
       "      <td>...</td>\n",
       "      <td>...</td>\n",
       "      <td>...</td>\n",
       "      <td>...</td>\n",
       "      <td>...</td>\n",
       "      <td>...</td>\n",
       "      <td>...</td>\n",
       "      <td>...</td>\n",
       "    </tr>\n",
       "    <tr>\n",
       "      <th>7001</th>\n",
       "      <td>Banks</td>\n",
       "      <td>479541.0</td>\n",
       "      <td>2.685430e+06</td>\n",
       "      <td>Category 3</td>\n",
       "      <td>India</td>\n",
       "      <td>CEO</td>\n",
       "      <td>other</td>\n",
       "      <td>Pending</td>\n",
       "      <td>2.0</td>\n",
       "      <td>0.5740</td>\n",
       "    </tr>\n",
       "    <tr>\n",
       "      <th>7002</th>\n",
       "      <td>Banks</td>\n",
       "      <td>192800.0</td>\n",
       "      <td>1.195360e+06</td>\n",
       "      <td>Category 4</td>\n",
       "      <td>USA</td>\n",
       "      <td>CEO</td>\n",
       "      <td>We have all the requirements</td>\n",
       "      <td>More than a week back</td>\n",
       "      <td>4.0</td>\n",
       "      <td>1.0734</td>\n",
       "    </tr>\n",
       "    <tr>\n",
       "      <th>7003</th>\n",
       "      <td>Hospitals/Clinics</td>\n",
       "      <td>220208.0</td>\n",
       "      <td>1.453373e+06</td>\n",
       "      <td>Category 1</td>\n",
       "      <td>USA</td>\n",
       "      <td>CEO</td>\n",
       "      <td>We have all the requirements</td>\n",
       "      <td>Pending</td>\n",
       "      <td>3.0</td>\n",
       "      <td>0.2635</td>\n",
       "    </tr>\n",
       "    <tr>\n",
       "      <th>7004</th>\n",
       "      <td>Semiconductors</td>\n",
       "      <td>253608.0</td>\n",
       "      <td>1.566916e+06</td>\n",
       "      <td>Category 2</td>\n",
       "      <td>USA</td>\n",
       "      <td>SVP</td>\n",
       "      <td>other</td>\n",
       "      <td>other</td>\n",
       "      <td>1.0</td>\n",
       "      <td>0.7060</td>\n",
       "    </tr>\n",
       "    <tr>\n",
       "      <th>7006</th>\n",
       "      <td>Financial Services</td>\n",
       "      <td>258627.0</td>\n",
       "      <td>1.642281e+06</td>\n",
       "      <td>Category 2</td>\n",
       "      <td>USA</td>\n",
       "      <td>Vice President</td>\n",
       "      <td>We have all the requirements</td>\n",
       "      <td>More than a week back</td>\n",
       "      <td>1.0</td>\n",
       "      <td>0.6870</td>\n",
       "    </tr>\n",
       "  </tbody>\n",
       "</table>\n",
       "<p>6936 rows × 10 columns</p>\n",
       "</div>"
      ],
      "text/plain": [
       "                   Industry  Deal_value  Weighted_amount Fund_category   \n",
       "0               Restaurants    320506.0     2.067264e+06    Category 2  \\\n",
       "1     Construction Services     39488.0     2.408768e+05    Category 4   \n",
       "2         Hospitals/Clinics    359392.0     2.407926e+06    Category 4   \n",
       "3               Real Estate     76774.0     4.683214e+05    Category 3   \n",
       "4        Financial Services    483896.0     1.566916e+06    Category 3   \n",
       "...                     ...         ...              ...           ...   \n",
       "7001                  Banks    479541.0     2.685430e+06    Category 3   \n",
       "7002                  Banks    192800.0     1.195360e+06    Category 4   \n",
       "7003      Hospitals/Clinics    220208.0     1.453373e+06    Category 1   \n",
       "7004         Semiconductors    253608.0     1.566916e+06    Category 2   \n",
       "7006     Financial Services    258627.0     1.642281e+06    Category 2   \n",
       "\n",
       "     Geography               Designation                      Resource   \n",
       "0          USA  Executive Vice President                         other  \\\n",
       "1        India                  Chairman                            No   \n",
       "2          USA                       SVP                            No   \n",
       "3          USA                       CEO  We have all the requirements   \n",
       "4        India  Executive Vice President                            No   \n",
       "...        ...                       ...                           ...   \n",
       "7001     India                       CEO                         other   \n",
       "7002       USA                       CEO  We have all the requirements   \n",
       "7003       USA                       CEO  We have all the requirements   \n",
       "7004       USA                       SVP                         other   \n",
       "7006       USA           Vice President   We have all the requirements   \n",
       "\n",
       "                     Last_lead_update  Internal_rating  Success_probability  \n",
       "0                            No track              3.0               0.7360  \n",
       "1     Did not hear back after Level 1              5.0               0.5890  \n",
       "2                             Pending              4.0               0.6880  \n",
       "3     Did not hear back after Level 1              1.0               0.6450  \n",
       "4                          Up-to-date              4.0               0.6240  \n",
       "...                               ...              ...                  ...  \n",
       "7001                          Pending              2.0               0.5740  \n",
       "7002            More than a week back              4.0               1.0734  \n",
       "7003                          Pending              3.0               0.2635  \n",
       "7004                            other              1.0               0.7060  \n",
       "7006            More than a week back              1.0               0.6870  \n",
       "\n",
       "[6936 rows x 10 columns]"
      ]
     },
     "execution_count": 169,
     "metadata": {},
     "output_type": "execute_result"
    }
   ],
   "source": [
    "df2"
   ]
  },
  {
   "cell_type": "code",
   "execution_count": 170,
   "id": "9da62307",
   "metadata": {},
   "outputs": [
    {
     "data": {
      "text/plain": [
       "array(['Executive Vice President', 'Chairman/CEO/President',\n",
       "       'SVP/General Counsel ', 'CEO/Co-Founder/Chairman',\n",
       "       'Vice President / GM (04-present) : VP Sales and Marketing (01-04)',\n",
       "       'Chairman/Chief Innovation Officer', 'CEO',\n",
       "       'CEO/Chairman/President', 'CEO/President',\n",
       "       'Chief Executive Officer'], dtype=object)"
      ]
     },
     "execution_count": 170,
     "metadata": {},
     "output_type": "execute_result"
    }
   ],
   "source": [
    "df['Designation'].unique()"
   ]
  },
  {
   "cell_type": "code",
   "execution_count": 171,
   "id": "1e2ac1b1",
   "metadata": {},
   "outputs": [
    {
     "data": {
      "text/plain": [
       "Industry               0\n",
       "Deal_value             0\n",
       "Weighted_amount        0\n",
       "Fund_category          0\n",
       "Geography              0\n",
       "Designation            0\n",
       "Resource               0\n",
       "Last_lead_update       0\n",
       "Internal_rating        0\n",
       "Success_probability    0\n",
       "dtype: int64"
      ]
     },
     "execution_count": 171,
     "metadata": {},
     "output_type": "execute_result"
    }
   ],
   "source": [
    "df2.isnull().sum()"
   ]
  },
  {
   "cell_type": "code",
   "execution_count": 172,
   "id": "59bdb6c4",
   "metadata": {},
   "outputs": [
    {
     "data": {
      "text/plain": [
       "Industry                171\n",
       "Deal_value             6837\n",
       "Weighted_amount        6413\n",
       "Fund_category             4\n",
       "Geography                 2\n",
       "Designation               6\n",
       "Resource                  7\n",
       "Last_lead_update         11\n",
       "Internal_rating           5\n",
       "Success_probability     247\n",
       "dtype: int64"
      ]
     },
     "execution_count": 172,
     "metadata": {},
     "output_type": "execute_result"
    }
   ],
   "source": [
    "df2.nunique()"
   ]
  },
  {
   "cell_type": "code",
   "execution_count": 173,
   "id": "338da793",
   "metadata": {},
   "outputs": [],
   "source": [
    "x=df2.drop(['Success_probability'],axis=1)\n",
    "\n",
    "y=df2[['Success_probability']]\n",
    "\n",
    "X_train,X_test,y_train,y_test=train_test_split(x,y,random_state=0,test_size=0.2)\n"
   ]
  },
  {
   "cell_type": "markdown",
   "id": "74694411",
   "metadata": {},
   "source": [
    "## Encoding"
   ]
  },
  {
   "cell_type": "code",
   "execution_count": 174,
   "id": "d96a224c",
   "metadata": {},
   "outputs": [],
   "source": [
    "# Encode categorical features using label encoding\n",
    "categorical_columns = ['Industry','Fund_category','Geography', 'Designation','Last_lead_update','Resource']\n",
    "l1 = LabelEncoder()\n",
    "l2 = LabelEncoder()\n",
    "l3 = LabelEncoder()\n",
    "l4 = LabelEncoder()\n",
    "l5 = LabelEncoder()\n",
    "l6 = LabelEncoder()\n",
    "X_train['Industry'] = l1.fit_transform(X_train['Industry'])\n",
    "X_train['Fund_category'] = l2.fit_transform(X_train['Fund_category'])\n",
    "X_train['Geography'] = l3.fit_transform(X_train['Geography'])\n",
    "X_train['Designation'] = l4.fit_transform(X_train['Designation'])\n",
    "X_train['Last_lead_update'] = l5.fit_transform(X_train['Last_lead_update'])\n",
    "X_train['Resource'] = l6.fit_transform(X_train['Resource'])\n",
    "\n",
    "\n",
    "\n",
    "\n"
   ]
  },
  {
   "cell_type": "code",
   "execution_count": 175,
   "id": "7a82b467",
   "metadata": {},
   "outputs": [
    {
     "data": {
      "text/html": [
       "<div>\n",
       "<style scoped>\n",
       "    .dataframe tbody tr th:only-of-type {\n",
       "        vertical-align: middle;\n",
       "    }\n",
       "\n",
       "    .dataframe tbody tr th {\n",
       "        vertical-align: top;\n",
       "    }\n",
       "\n",
       "    .dataframe thead th {\n",
       "        text-align: right;\n",
       "    }\n",
       "</style>\n",
       "<table border=\"1\" class=\"dataframe\">\n",
       "  <thead>\n",
       "    <tr style=\"text-align: right;\">\n",
       "      <th></th>\n",
       "      <th>Industry</th>\n",
       "      <th>Deal_value</th>\n",
       "      <th>Weighted_amount</th>\n",
       "      <th>Fund_category</th>\n",
       "      <th>Geography</th>\n",
       "      <th>Designation</th>\n",
       "      <th>Resource</th>\n",
       "      <th>Last_lead_update</th>\n",
       "      <th>Internal_rating</th>\n",
       "    </tr>\n",
       "  </thead>\n",
       "  <tbody>\n",
       "    <tr>\n",
       "      <th>4181</th>\n",
       "      <td>139</td>\n",
       "      <td>246985.0</td>\n",
       "      <td>1691847.25</td>\n",
       "      <td>3</td>\n",
       "      <td>1</td>\n",
       "      <td>0</td>\n",
       "      <td>4</td>\n",
       "      <td>7</td>\n",
       "      <td>3.0</td>\n",
       "    </tr>\n",
       "    <tr>\n",
       "      <th>5305</th>\n",
       "      <td>94</td>\n",
       "      <td>142632.0</td>\n",
       "      <td>934239.60</td>\n",
       "      <td>1</td>\n",
       "      <td>1</td>\n",
       "      <td>0</td>\n",
       "      <td>5</td>\n",
       "      <td>6</td>\n",
       "      <td>1.0</td>\n",
       "    </tr>\n",
       "    <tr>\n",
       "      <th>1773</th>\n",
       "      <td>17</td>\n",
       "      <td>207276.0</td>\n",
       "      <td>1233292.20</td>\n",
       "      <td>2</td>\n",
       "      <td>0</td>\n",
       "      <td>3</td>\n",
       "      <td>3</td>\n",
       "      <td>3</td>\n",
       "      <td>3.0</td>\n",
       "    </tr>\n",
       "    <tr>\n",
       "      <th>5063</th>\n",
       "      <td>31</td>\n",
       "      <td>440581.0</td>\n",
       "      <td>2577398.85</td>\n",
       "      <td>2</td>\n",
       "      <td>1</td>\n",
       "      <td>2</td>\n",
       "      <td>0</td>\n",
       "      <td>6</td>\n",
       "      <td>1.0</td>\n",
       "    </tr>\n",
       "    <tr>\n",
       "      <th>2695</th>\n",
       "      <td>17</td>\n",
       "      <td>325372.0</td>\n",
       "      <td>2082380.80</td>\n",
       "      <td>2</td>\n",
       "      <td>1</td>\n",
       "      <td>0</td>\n",
       "      <td>1</td>\n",
       "      <td>2</td>\n",
       "      <td>3.0</td>\n",
       "    </tr>\n",
       "    <tr>\n",
       "      <th>...</th>\n",
       "      <td>...</td>\n",
       "      <td>...</td>\n",
       "      <td>...</td>\n",
       "      <td>...</td>\n",
       "      <td>...</td>\n",
       "      <td>...</td>\n",
       "      <td>...</td>\n",
       "      <td>...</td>\n",
       "      <td>...</td>\n",
       "    </tr>\n",
       "    <tr>\n",
       "      <th>4979</th>\n",
       "      <td>70</td>\n",
       "      <td>382045.0</td>\n",
       "      <td>2330474.50</td>\n",
       "      <td>1</td>\n",
       "      <td>0</td>\n",
       "      <td>0</td>\n",
       "      <td>5</td>\n",
       "      <td>6</td>\n",
       "      <td>3.0</td>\n",
       "    </tr>\n",
       "    <tr>\n",
       "      <th>3296</th>\n",
       "      <td>145</td>\n",
       "      <td>93662.0</td>\n",
       "      <td>585387.50</td>\n",
       "      <td>1</td>\n",
       "      <td>0</td>\n",
       "      <td>5</td>\n",
       "      <td>2</td>\n",
       "      <td>8</td>\n",
       "      <td>4.0</td>\n",
       "    </tr>\n",
       "    <tr>\n",
       "      <th>1674</th>\n",
       "      <td>17</td>\n",
       "      <td>216588.0</td>\n",
       "      <td>1202063.40</td>\n",
       "      <td>1</td>\n",
       "      <td>0</td>\n",
       "      <td>0</td>\n",
       "      <td>1</td>\n",
       "      <td>3</td>\n",
       "      <td>4.0</td>\n",
       "    </tr>\n",
       "    <tr>\n",
       "      <th>2635</th>\n",
       "      <td>17</td>\n",
       "      <td>6737.0</td>\n",
       "      <td>39074.60</td>\n",
       "      <td>2</td>\n",
       "      <td>0</td>\n",
       "      <td>0</td>\n",
       "      <td>3</td>\n",
       "      <td>9</td>\n",
       "      <td>4.0</td>\n",
       "    </tr>\n",
       "    <tr>\n",
       "      <th>2760</th>\n",
       "      <td>14</td>\n",
       "      <td>282696.0</td>\n",
       "      <td>1526558.40</td>\n",
       "      <td>1</td>\n",
       "      <td>0</td>\n",
       "      <td>0</td>\n",
       "      <td>2</td>\n",
       "      <td>5</td>\n",
       "      <td>1.0</td>\n",
       "    </tr>\n",
       "  </tbody>\n",
       "</table>\n",
       "<p>5548 rows × 9 columns</p>\n",
       "</div>"
      ],
      "text/plain": [
       "      Industry  Deal_value  Weighted_amount  Fund_category  Geography   \n",
       "4181       139    246985.0       1691847.25              3          1  \\\n",
       "5305        94    142632.0        934239.60              1          1   \n",
       "1773        17    207276.0       1233292.20              2          0   \n",
       "5063        31    440581.0       2577398.85              2          1   \n",
       "2695        17    325372.0       2082380.80              2          1   \n",
       "...        ...         ...              ...            ...        ...   \n",
       "4979        70    382045.0       2330474.50              1          0   \n",
       "3296       145     93662.0        585387.50              1          0   \n",
       "1674        17    216588.0       1202063.40              1          0   \n",
       "2635        17      6737.0         39074.60              2          0   \n",
       "2760        14    282696.0       1526558.40              1          0   \n",
       "\n",
       "      Designation  Resource  Last_lead_update  Internal_rating  \n",
       "4181            0         4                 7              3.0  \n",
       "5305            0         5                 6              1.0  \n",
       "1773            3         3                 3              3.0  \n",
       "5063            2         0                 6              1.0  \n",
       "2695            0         1                 2              3.0  \n",
       "...           ...       ...               ...              ...  \n",
       "4979            0         5                 6              3.0  \n",
       "3296            5         2                 8              4.0  \n",
       "1674            0         1                 3              4.0  \n",
       "2635            0         3                 9              4.0  \n",
       "2760            0         2                 5              1.0  \n",
       "\n",
       "[5548 rows x 9 columns]"
      ]
     },
     "execution_count": 175,
     "metadata": {},
     "output_type": "execute_result"
    }
   ],
   "source": [
    "X_train"
   ]
  },
  {
   "cell_type": "markdown",
   "id": "77eb4216",
   "metadata": {},
   "source": [
    "## Save the Pickel Encoder"
   ]
  },
  {
   "cell_type": "code",
   "execution_count": 176,
   "id": "4c599aa2",
   "metadata": {},
   "outputs": [],
   "source": [
    "with open('l1.pkl','wb') as file:\n",
    "    pickle.dump(l1, file)\n",
    "with open('l2.pkl','wb') as file:\n",
    "    pickle.dump(l2, file)\n",
    "with open('l3.pkl','wb') as file:\n",
    "    pickle.dump(l3, file)\n",
    "with open('l4.pkl','wb') as file:\n",
    "    pickle.dump(l4, file)\n",
    "with open('l5.pkl','wb') as file:\n",
    "    pickle.dump(l5, file)\n",
    "with open('l6.pkl','wb') as file:\n",
    "    pickle.dump(l6, file)"
   ]
  },
  {
   "cell_type": "code",
   "execution_count": 177,
   "id": "a356079d",
   "metadata": {},
   "outputs": [],
   "source": [
    "aa = pickle.load(open('l1.pkl','rb'))"
   ]
  },
  {
   "cell_type": "code",
   "execution_count": 178,
   "id": "54e91916",
   "metadata": {},
   "outputs": [
    {
     "data": {
      "text/plain": [
       "119"
      ]
     },
     "execution_count": 178,
     "metadata": {},
     "output_type": "execute_result"
    }
   ],
   "source": [
    "aa.transform(['Restaurants'])[0]"
   ]
  },
  {
   "cell_type": "code",
   "execution_count": null,
   "id": "951ef433",
   "metadata": {},
   "outputs": [],
   "source": []
  },
  {
   "cell_type": "raw",
   "id": "56610e8d",
   "metadata": {},
   "source": [
    "# Load the pickled label encoders\n",
    "with open('label_encoders1.pkl', 'rb') as file:\n",
    "    loaded_label_encoders1= pickle.load(file)\n"
   ]
  },
  {
   "cell_type": "code",
   "execution_count": 179,
   "id": "6c8c2c53",
   "metadata": {},
   "outputs": [
    {
     "data": {
      "text/plain": [
       "Industry             168\n",
       "Deal_value          5481\n",
       "Weighted_amount     5128\n",
       "Fund_category          4\n",
       "Geography              2\n",
       "Designation            6\n",
       "Resource               7\n",
       "Last_lead_update      11\n",
       "Internal_rating        5\n",
       "dtype: int64"
      ]
     },
     "execution_count": 179,
     "metadata": {},
     "output_type": "execute_result"
    }
   ],
   "source": [
    "X_train.nunique()"
   ]
  },
  {
   "cell_type": "raw",
   "id": "db6d84b2",
   "metadata": {},
   "source": [
    "'n_estimators': 94, 'min_samples_split': 10, 'min_samples_leaf': 2, 'max_features': 'sqrt', 'max_depth': 10}\n",
    "Mean Squared Error on Test Set: 0.028616893864191275"
   ]
  },
  {
   "cell_type": "code",
   "execution_count": 180,
   "id": "9cfef989",
   "metadata": {},
   "outputs": [],
   "source": [
    "Regressor2=RandomForestRegressor(n_estimators=94,min_samples_split=10,min_samples_leaf=2,max_features='sqrt',max_depth=10)"
   ]
  },
  {
   "cell_type": "code",
   "execution_count": 181,
   "id": "9c0257fb",
   "metadata": {},
   "outputs": [
    {
     "name": "stderr",
     "output_type": "stream",
     "text": [
      "C:\\Users\\DELL\\anaconda3\\lib\\site-packages\\sklearn\\base.py:1152: DataConversionWarning: A column-vector y was passed when a 1d array was expected. Please change the shape of y to (n_samples,), for example using ravel().\n",
      "  return fit_method(estimator, *args, **kwargs)\n"
     ]
    },
    {
     "data": {
      "text/html": [
       "<style>#sk-container-id-8 {color: black;}#sk-container-id-8 pre{padding: 0;}#sk-container-id-8 div.sk-toggleable {background-color: white;}#sk-container-id-8 label.sk-toggleable__label {cursor: pointer;display: block;width: 100%;margin-bottom: 0;padding: 0.3em;box-sizing: border-box;text-align: center;}#sk-container-id-8 label.sk-toggleable__label-arrow:before {content: \"▸\";float: left;margin-right: 0.25em;color: #696969;}#sk-container-id-8 label.sk-toggleable__label-arrow:hover:before {color: black;}#sk-container-id-8 div.sk-estimator:hover label.sk-toggleable__label-arrow:before {color: black;}#sk-container-id-8 div.sk-toggleable__content {max-height: 0;max-width: 0;overflow: hidden;text-align: left;background-color: #f0f8ff;}#sk-container-id-8 div.sk-toggleable__content pre {margin: 0.2em;color: black;border-radius: 0.25em;background-color: #f0f8ff;}#sk-container-id-8 input.sk-toggleable__control:checked~div.sk-toggleable__content {max-height: 200px;max-width: 100%;overflow: auto;}#sk-container-id-8 input.sk-toggleable__control:checked~label.sk-toggleable__label-arrow:before {content: \"▾\";}#sk-container-id-8 div.sk-estimator input.sk-toggleable__control:checked~label.sk-toggleable__label {background-color: #d4ebff;}#sk-container-id-8 div.sk-label input.sk-toggleable__control:checked~label.sk-toggleable__label {background-color: #d4ebff;}#sk-container-id-8 input.sk-hidden--visually {border: 0;clip: rect(1px 1px 1px 1px);clip: rect(1px, 1px, 1px, 1px);height: 1px;margin: -1px;overflow: hidden;padding: 0;position: absolute;width: 1px;}#sk-container-id-8 div.sk-estimator {font-family: monospace;background-color: #f0f8ff;border: 1px dotted black;border-radius: 0.25em;box-sizing: border-box;margin-bottom: 0.5em;}#sk-container-id-8 div.sk-estimator:hover {background-color: #d4ebff;}#sk-container-id-8 div.sk-parallel-item::after {content: \"\";width: 100%;border-bottom: 1px solid gray;flex-grow: 1;}#sk-container-id-8 div.sk-label:hover label.sk-toggleable__label {background-color: #d4ebff;}#sk-container-id-8 div.sk-serial::before {content: \"\";position: absolute;border-left: 1px solid gray;box-sizing: border-box;top: 0;bottom: 0;left: 50%;z-index: 0;}#sk-container-id-8 div.sk-serial {display: flex;flex-direction: column;align-items: center;background-color: white;padding-right: 0.2em;padding-left: 0.2em;position: relative;}#sk-container-id-8 div.sk-item {position: relative;z-index: 1;}#sk-container-id-8 div.sk-parallel {display: flex;align-items: stretch;justify-content: center;background-color: white;position: relative;}#sk-container-id-8 div.sk-item::before, #sk-container-id-8 div.sk-parallel-item::before {content: \"\";position: absolute;border-left: 1px solid gray;box-sizing: border-box;top: 0;bottom: 0;left: 50%;z-index: -1;}#sk-container-id-8 div.sk-parallel-item {display: flex;flex-direction: column;z-index: 1;position: relative;background-color: white;}#sk-container-id-8 div.sk-parallel-item:first-child::after {align-self: flex-end;width: 50%;}#sk-container-id-8 div.sk-parallel-item:last-child::after {align-self: flex-start;width: 50%;}#sk-container-id-8 div.sk-parallel-item:only-child::after {width: 0;}#sk-container-id-8 div.sk-dashed-wrapped {border: 1px dashed gray;margin: 0 0.4em 0.5em 0.4em;box-sizing: border-box;padding-bottom: 0.4em;background-color: white;}#sk-container-id-8 div.sk-label label {font-family: monospace;font-weight: bold;display: inline-block;line-height: 1.2em;}#sk-container-id-8 div.sk-label-container {text-align: center;}#sk-container-id-8 div.sk-container {/* jupyter's `normalize.less` sets `[hidden] { display: none; }` but bootstrap.min.css set `[hidden] { display: none !important; }` so we also need the `!important` here to be able to override the default hidden behavior on the sphinx rendered scikit-learn.org. See: https://github.com/scikit-learn/scikit-learn/issues/21755 */display: inline-block !important;position: relative;}#sk-container-id-8 div.sk-text-repr-fallback {display: none;}</style><div id=\"sk-container-id-8\" class=\"sk-top-container\"><div class=\"sk-text-repr-fallback\"><pre>RandomForestRegressor(max_depth=10, max_features=&#x27;sqrt&#x27;, min_samples_leaf=2,\n",
       "                      min_samples_split=10, n_estimators=94)</pre><b>In a Jupyter environment, please rerun this cell to show the HTML representation or trust the notebook. <br />On GitHub, the HTML representation is unable to render, please try loading this page with nbviewer.org.</b></div><div class=\"sk-container\" hidden><div class=\"sk-item\"><div class=\"sk-estimator sk-toggleable\"><input class=\"sk-toggleable__control sk-hidden--visually\" id=\"sk-estimator-id-8\" type=\"checkbox\" checked><label for=\"sk-estimator-id-8\" class=\"sk-toggleable__label sk-toggleable__label-arrow\">RandomForestRegressor</label><div class=\"sk-toggleable__content\"><pre>RandomForestRegressor(max_depth=10, max_features=&#x27;sqrt&#x27;, min_samples_leaf=2,\n",
       "                      min_samples_split=10, n_estimators=94)</pre></div></div></div></div></div>"
      ],
      "text/plain": [
       "RandomForestRegressor(max_depth=10, max_features='sqrt', min_samples_leaf=2,\n",
       "                      min_samples_split=10, n_estimators=94)"
      ]
     },
     "execution_count": 181,
     "metadata": {},
     "output_type": "execute_result"
    }
   ],
   "source": [
    "Regressor2.fit(X_train,y_train)"
   ]
  },
  {
   "cell_type": "code",
   "execution_count": 182,
   "id": "736114f0",
   "metadata": {},
   "outputs": [],
   "source": [
    "X_test['Industry'] = l1.fit_transform(X_test['Industry'])\n",
    "X_test['Fund_category'] = l2.fit_transform(X_test['Fund_category'])\n",
    "X_test['Geography'] = l3.fit_transform(X_test['Geography'])\n",
    "X_test['Designation'] = l4.fit_transform(X_test['Designation'])\n",
    "X_test['Last_lead_update'] = l5.fit_transform(X_test['Last_lead_update'])\n",
    "X_test['Resource'] = l6.fit_transform(X_test['Resource'])\n"
   ]
  },
  {
   "cell_type": "code",
   "execution_count": 183,
   "id": "f4a811f7",
   "metadata": {},
   "outputs": [
    {
     "data": {
      "text/plain": [
       "Industry             136\n",
       "Deal_value          1379\n",
       "Weighted_amount     1288\n",
       "Fund_category          4\n",
       "Geography              2\n",
       "Designation            6\n",
       "Resource               7\n",
       "Last_lead_update      11\n",
       "Internal_rating        5\n",
       "dtype: int64"
      ]
     },
     "execution_count": 183,
     "metadata": {},
     "output_type": "execute_result"
    }
   ],
   "source": [
    "X_test.nunique()"
   ]
  },
  {
   "cell_type": "code",
   "execution_count": 210,
   "id": "6e4ebb69",
   "metadata": {},
   "outputs": [
    {
     "data": {
      "text/plain": [
       "0.8587445109840776"
      ]
     },
     "execution_count": 210,
     "metadata": {},
     "output_type": "execute_result"
    }
   ],
   "source": [
    "r2_score(y_train,Regressor.predict(X_train))"
   ]
  },
  {
   "cell_type": "markdown",
   "id": "7a57c79f",
   "metadata": {},
   "source": [
    "#### Train_MSE"
   ]
  },
  {
   "cell_type": "code",
   "execution_count": 193,
   "id": "916cc71f",
   "metadata": {},
   "outputs": [
    {
     "data": {
      "text/plain": [
       "0.02025806140282594"
      ]
     },
     "execution_count": 193,
     "metadata": {},
     "output_type": "execute_result"
    }
   ],
   "source": [
    "mean_squared_error(y_train,Regressor2.predict(X_train))"
   ]
  },
  {
   "cell_type": "code",
   "execution_count": 194,
   "id": "d8dbce55",
   "metadata": {},
   "outputs": [],
   "source": [
    "pred=Regressor2.predict(X_test)"
   ]
  },
  {
   "cell_type": "code",
   "execution_count": 195,
   "id": "a9081771",
   "metadata": {},
   "outputs": [
    {
     "data": {
      "text/plain": [
       "0.2436103031914067"
      ]
     },
     "execution_count": 195,
     "metadata": {},
     "output_type": "execute_result"
    }
   ],
   "source": [
    "E1=mean_absolute_error(y_test,pred);E1 \n",
    "\n",
    "E2=mean_squared_error(y_test,pred);E2\n",
    "\n",
    "E3=mean_absolute_percentage_error(y_test,pred);E3"
   ]
  },
  {
   "cell_type": "code",
   "execution_count": 186,
   "id": "ac25a003",
   "metadata": {},
   "outputs": [
    {
     "data": {
      "text/html": [
       "<div>\n",
       "<style scoped>\n",
       "    .dataframe tbody tr th:only-of-type {\n",
       "        vertical-align: middle;\n",
       "    }\n",
       "\n",
       "    .dataframe tbody tr th {\n",
       "        vertical-align: top;\n",
       "    }\n",
       "\n",
       "    .dataframe thead th {\n",
       "        text-align: right;\n",
       "    }\n",
       "</style>\n",
       "<table border=\"1\" class=\"dataframe\">\n",
       "  <thead>\n",
       "    <tr style=\"text-align: right;\">\n",
       "      <th></th>\n",
       "      <th>Error</th>\n",
       "      <th>Value</th>\n",
       "    </tr>\n",
       "  </thead>\n",
       "  <tbody>\n",
       "    <tr>\n",
       "      <th>0</th>\n",
       "      <td>mean_absolute_error</td>\n",
       "      <td>0.090975</td>\n",
       "    </tr>\n",
       "    <tr>\n",
       "      <th>1</th>\n",
       "      <td>mean_squared_error</td>\n",
       "      <td>0.028823</td>\n",
       "    </tr>\n",
       "    <tr>\n",
       "      <th>2</th>\n",
       "      <td>mean_absolute_percentage_error</td>\n",
       "      <td>0.243610</td>\n",
       "    </tr>\n",
       "  </tbody>\n",
       "</table>\n",
       "</div>"
      ],
      "text/plain": [
       "                            Error     Value\n",
       "0             mean_absolute_error  0.090975\n",
       "1              mean_squared_error  0.028823\n",
       "2  mean_absolute_percentage_error  0.243610"
      ]
     },
     "execution_count": 186,
     "metadata": {},
     "output_type": "execute_result"
    }
   ],
   "source": [
    "Error(E1,E2,E3)"
   ]
  },
  {
   "cell_type": "code",
   "execution_count": 187,
   "id": "90c8bad7",
   "metadata": {},
   "outputs": [
    {
     "data": {
      "text/plain": [
       "Deal_title               9100\n",
       "Lead_name                9100\n",
       "Industry                  172\n",
       "Deal_value               8967\n",
       "Weighted_amount          8513\n",
       "Date_of_creation          777\n",
       "Pitch                       2\n",
       "Contact_no               9100\n",
       "Lead_revenue                3\n",
       "Fund_category               4\n",
       "Geography                   2\n",
       "Location                  597\n",
       "POC_name                 6633\n",
       "Designation                10\n",
       "Lead_POC_email           9099\n",
       "Hiring_candidate_role     639\n",
       "Lead_source                 4\n",
       "Level_of_meeting            3\n",
       "Last_lead_update           11\n",
       "Internal_POC               60\n",
       "Resource                    6\n",
       "Internal_rating             7\n",
       "Success_probability       248\n",
       "dtype: int64"
      ]
     },
     "execution_count": 187,
     "metadata": {},
     "output_type": "execute_result"
    }
   ],
   "source": [
    "df.nunique()"
   ]
  },
  {
   "cell_type": "code",
   "execution_count": 188,
   "id": "5b5c664b",
   "metadata": {},
   "outputs": [
    {
     "data": {
      "text/plain": [
       "Industry             168\n",
       "Deal_value          5481\n",
       "Weighted_amount     5128\n",
       "Fund_category          4\n",
       "Geography              2\n",
       "Designation            6\n",
       "Resource               7\n",
       "Last_lead_update      11\n",
       "Internal_rating        5\n",
       "dtype: int64"
      ]
     },
     "execution_count": 188,
     "metadata": {},
     "output_type": "execute_result"
    }
   ],
   "source": [
    "X_train.nunique()"
   ]
  },
  {
   "cell_type": "code",
   "execution_count": 189,
   "id": "c08fe597",
   "metadata": {},
   "outputs": [
    {
     "data": {
      "text/plain": [
       "{1.0, 2.0, 3.0, 4.0, 5.0}"
      ]
     },
     "execution_count": 189,
     "metadata": {},
     "output_type": "execute_result"
    }
   ],
   "source": [
    "set(i for i in X_train.Internal_rating)"
   ]
  },
  {
   "cell_type": "markdown",
   "id": "a40c4ad3",
   "metadata": {},
   "source": [
    "# Pickel Model"
   ]
  },
  {
   "cell_type": "code",
   "execution_count": 190,
   "id": "d02767ed",
   "metadata": {},
   "outputs": [
    {
     "data": {
      "text/plain": [
       "(5548, 9)"
      ]
     },
     "execution_count": 190,
     "metadata": {},
     "output_type": "execute_result"
    }
   ],
   "source": [
    "X_train.shape"
   ]
  },
  {
   "cell_type": "code",
   "execution_count": 191,
   "id": "b36f86bc",
   "metadata": {},
   "outputs": [],
   "source": [
    "\n",
    "\n",
    "# Save the model to a file\n",
    "with open('Regressor2.pkl', 'wb') as file:\n",
    "    pickle.dump(Regressor2, file)"
   ]
  },
  {
   "cell_type": "code",
   "execution_count": null,
   "id": "dfc26395",
   "metadata": {},
   "outputs": [],
   "source": [
    "pwd"
   ]
  },
  {
   "cell_type": "code",
   "execution_count": null,
   "id": "bb2381bc",
   "metadata": {},
   "outputs": [],
   "source": [
    "# Load the model from the file\n",
    "with open('Regressor2.pkl', 'rb') as file:\n",
    "    loaded_model = pickle.load(file)\n",
    "\n",
    "# Now you can use the loaded_model for predictions\n",
    "predictions = loaded_model.predict(X_train)"
   ]
  },
  {
   "cell_type": "code",
   "execution_count": null,
   "id": "9760de37",
   "metadata": {},
   "outputs": [],
   "source": [
    "predictions "
   ]
  },
  {
   "cell_type": "code",
   "execution_count": null,
   "id": "03daa505",
   "metadata": {},
   "outputs": [],
   "source": [
    "X_train.columns"
   ]
  },
  {
   "cell_type": "code",
   "execution_count": null,
   "id": "e572a83b",
   "metadata": {},
   "outputs": [],
   "source": [
    "set([i for i in df2.Last_lead_update])"
   ]
  },
  {
   "cell_type": "code",
   "execution_count": null,
   "id": "2e05a080",
   "metadata": {},
   "outputs": [],
   "source": [
    "for col, le in loaded_label_encoders1.items():\n",
    "    print(\"__________________________________________________________________________________________\")\n",
    "    print(f\"Column: {col}, Unique Categories: {le.classes_}\")\n"
   ]
  },
  {
   "cell_type": "code",
   "execution_count": 389,
   "id": "fa100d7d",
   "metadata": {},
   "outputs": [],
   "source": [
    "l1=['Category 1' 'Category 2' 'Category 3' 'Category 4']"
   ]
  },
  {
   "cell_type": "code",
   "execution_count": 246,
   "id": "356c957a",
   "metadata": {},
   "outputs": [
    {
     "data": {
      "text/plain": [
       "array(['Category 2', 'Category 4', 'Category 3', 'Category 1'],\n",
       "      dtype=object)"
      ]
     },
     "execution_count": 246,
     "metadata": {},
     "output_type": "execute_result"
    }
   ],
   "source": [
    "df['Fund_category'].unique()"
   ]
  },
  {
   "cell_type": "code",
   "execution_count": 223,
   "id": "0cf7e1c1",
   "metadata": {},
   "outputs": [
    {
     "ename": "NameError",
     "evalue": "name 'l' is not defined",
     "output_type": "error",
     "traceback": [
      "\u001b[1;31m---------------------------------------------------------------------------\u001b[0m",
      "\u001b[1;31mNameError\u001b[0m                                 Traceback (most recent call last)",
      "\u001b[1;32m<ipython-input-223-e75269d816bd>\u001b[0m in \u001b[0;36m<module>\u001b[1;34m\u001b[0m\n\u001b[1;32m----> 1\u001b[1;33m \u001b[0mlen\u001b[0m\u001b[1;33m(\u001b[0m\u001b[0ml\u001b[0m\u001b[1;33m)\u001b[0m\u001b[1;33m\u001b[0m\u001b[1;33m\u001b[0m\u001b[0m\n\u001b[0m",
      "\u001b[1;31mNameError\u001b[0m: name 'l' is not defined"
     ]
    }
   ],
   "source": [
    "len(l)"
   ]
  },
  {
   "cell_type": "code",
   "execution_count": null,
   "id": "8dd3e75e",
   "metadata": {},
   "outputs": [],
   "source": [
    "len(l4)"
   ]
  },
  {
   "cell_type": "code",
   "execution_count": null,
   "id": "de869441",
   "metadata": {},
   "outputs": [],
   "source": [
    "set([i for i in df.Resource])"
   ]
  },
  {
   "cell_type": "code",
   "execution_count": null,
   "id": "cd7688fa",
   "metadata": {},
   "outputs": [],
   "source": []
  },
  {
   "cell_type": "code",
   "execution_count": null,
   "id": "56192426",
   "metadata": {},
   "outputs": [],
   "source": [
    "Train=pd.read_csv(r\"C:\\Users\\DELL\\OneDrive\\Desktop\\SB\\f167b0fc922411eb\\dataset\\train.csv\")\n",
    "Test=pd.read_csv(r\"C:\\Users\\DELL\\OneDrive\\Desktop\\SB\\f167b0fc922411eb\\dataset\\test.csv\")\n",
    "df3=pd.concat([Train,Test])\n"
   ]
  },
  {
   "cell_type": "code",
   "execution_count": null,
   "id": "b80c9274",
   "metadata": {},
   "outputs": [],
   "source": [
    "df3\n"
   ]
  },
  {
   "cell_type": "code",
   "execution_count": null,
   "id": "faa1f786",
   "metadata": {},
   "outputs": [],
   "source": [
    "len(l)"
   ]
  },
  {
   "cell_type": "code",
   "execution_count": null,
   "id": "ef131242",
   "metadata": {},
   "outputs": [],
   "source": []
  },
  {
   "cell_type": "code",
   "execution_count": 394,
   "id": "6cbb7d01",
   "metadata": {},
   "outputs": [],
   "source": []
  },
  {
   "cell_type": "code",
   "execution_count": 398,
   "id": "7908f1b1",
   "metadata": {},
   "outputs": [
    {
     "data": {
      "text/html": [
       "<div>\n",
       "<style scoped>\n",
       "    .dataframe tbody tr th:only-of-type {\n",
       "        vertical-align: middle;\n",
       "    }\n",
       "\n",
       "    .dataframe tbody tr th {\n",
       "        vertical-align: top;\n",
       "    }\n",
       "\n",
       "    .dataframe thead th {\n",
       "        text-align: right;\n",
       "    }\n",
       "</style>\n",
       "<table border=\"1\" class=\"dataframe\">\n",
       "  <thead>\n",
       "    <tr style=\"text-align: right;\">\n",
       "      <th></th>\n",
       "      <th>Industry</th>\n",
       "      <th>Deal value</th>\n",
       "      <th>Weighted_amount</th>\n",
       "      <th>Fund_category</th>\n",
       "      <th>Geography</th>\n",
       "      <th>Designation</th>\n",
       "      <th>Last_lead_update</th>\n",
       "      <th>Resource</th>\n",
       "      <th>Internal Rating</th>\n",
       "    </tr>\n",
       "  </thead>\n",
       "  <tbody>\n",
       "    <tr>\n",
       "      <th>0</th>\n",
       "      <td>Alternative</td>\n",
       "      <td>5000</td>\n",
       "      <td>4000</td>\n",
       "      <td>Category 1</td>\n",
       "      <td>USA</td>\n",
       "      <td>SVP</td>\n",
       "      <td>Deliverable</td>\n",
       "      <td>5 days back</td>\n",
       "      <td>3</td>\n",
       "    </tr>\n",
       "  </tbody>\n",
       "</table>\n",
       "</div>"
      ],
      "text/plain": [
       "      Industry Deal value Weighted_amount Fund_category Geography Designation   \n",
       "0  Alternative       5000            4000    Category 1       USA         SVP  \\\n",
       "\n",
       "  Last_lead_update     Resource Internal Rating  \n",
       "0      Deliverable  5 days back               3  "
      ]
     },
     "execution_count": 398,
     "metadata": {},
     "output_type": "execute_result"
    }
   ],
   "source": [
    "name = ['Industry','Deal value','Weighted_amount','Fund_category','Geography', 'Designation', 'Last_lead_update', 'Resource','Internal Rating']\n",
    "x=[np.array(['Alternative', '5000', '4000', 'Category 1', 'USA', 'SVP', 'Deliverable', '5 days back', '3'])]\n",
    "pd.DataFrame(x,columns=name)"
   ]
  },
  {
   "cell_type": "code",
   "execution_count": 451,
   "id": "42569e20",
   "metadata": {},
   "outputs": [
    {
     "data": {
      "text/plain": [
       "{'Accounting',\n",
       " 'Advertising/PR',\n",
       " 'Aerospace/Defense',\n",
       " 'Aircraft Parts',\n",
       " 'Airlines/Air Couriers',\n",
       " 'Alternative',\n",
       " 'Apparel Products',\n",
       " 'Apparel Retail',\n",
       " 'Appliances/Tools',\n",
       " 'Architecture/Engineering',\n",
       " 'Associations',\n",
       " 'Auto Dealers',\n",
       " 'Auto Manufacturers',\n",
       " 'Auto Parts/Services',\n",
       " 'Automotive/Transportation',\n",
       " 'B2B eCommerce',\n",
       " 'BSPs (Broadband)',\n",
       " 'Banks',\n",
       " 'Beverages (Alcoholic)',\n",
       " 'Beverages (Non-Alcoholic)',\n",
       " 'BioTech/Drugs',\n",
       " 'Biotech/Healthcare',\n",
       " 'Book',\n",
       " 'Casinos/Gaming',\n",
       " 'Catalog/MailOrder',\n",
       " 'Chemical Manufacturing',\n",
       " 'Computer Hardware',\n",
       " 'Concrete/Cement',\n",
       " 'Conglomerates',\n",
       " 'Constr - Supplies',\n",
       " 'Constr/Agric Machinery',\n",
       " 'Construction Services',\n",
       " 'Construction/Agriculture',\n",
       " 'Consumer Products',\n",
       " 'Database',\n",
       " 'Department/Discount',\n",
       " 'ERP',\n",
       " 'Education/Training',\n",
       " 'Electric Utilities',\n",
       " 'Electronics',\n",
       " 'Energy',\n",
       " 'Enterprise',\n",
       " 'Entertainment/Media',\n",
       " 'Fabricated Products',\n",
       " 'Finance',\n",
       " 'Finance Software',\n",
       " 'Financial Services',\n",
       " 'Food Processing',\n",
       " 'Furniture/Fixtures',\n",
       " 'Gold/Silver',\n",
       " 'Government',\n",
       " 'Grocery',\n",
       " 'Hardware Consulting',\n",
       " 'Health/Accident',\n",
       " 'Healthcare Facilities/Services',\n",
       " 'Home Improvement',\n",
       " 'Hospitals/Clinics',\n",
       " 'Hotels/Motels',\n",
       " 'Human Resources',\n",
       " 'ISPs',\n",
       " 'Industrial Equip',\n",
       " 'Information Services',\n",
       " 'Insurance',\n",
       " 'Internet',\n",
       " 'Internet Consulting',\n",
       " 'Internet Software',\n",
       " 'Investment Bank/Brokerage',\n",
       " 'Iron/Steel',\n",
       " 'Legal',\n",
       " 'Leisure/Hospitality',\n",
       " 'Lending/Mortgage',\n",
       " 'Life',\n",
       " 'MSPs (Mgmt)',\n",
       " 'Machine Tools',\n",
       " 'Marketing/Advertising',\n",
       " 'Materials/Manufacturing',\n",
       " 'Medical Equipment',\n",
       " 'Metals/Mining',\n",
       " 'Movies',\n",
       " 'Multimedia Hardware',\n",
       " 'Multimedia Software',\n",
       " 'Music',\n",
       " 'Natural Gas',\n",
       " 'Network Infrastructure',\n",
       " 'Networking/Comm.',\n",
       " 'Newspapers',\n",
       " 'Non-Profit',\n",
       " 'OSPs (Optical)',\n",
       " 'Office Equipment',\n",
       " 'Office Supplies',\n",
       " 'Oil, Gas, Coal',\n",
       " 'Online Banking',\n",
       " 'Other',\n",
       " 'Other Biz Products',\n",
       " 'Other Biz Services',\n",
       " 'Other Consulting',\n",
       " 'Other Investment Firms',\n",
       " 'Other Vehicles',\n",
       " 'Outsourcing',\n",
       " 'Packaging/Containers',\n",
       " 'Periodicals',\n",
       " 'Peripherals/Comp.',\n",
       " 'Personal Services',\n",
       " 'Personal/Household Products',\n",
       " 'Photography',\n",
       " 'Plastic/Rubber',\n",
       " 'Plumbing/HVAC',\n",
       " 'Printing Services',\n",
       " 'Professional Services',\n",
       " 'Property/Casualty',\n",
       " 'Publishing',\n",
       " 'REIT',\n",
       " 'Radio',\n",
       " 'Railroads',\n",
       " 'Real Estate',\n",
       " 'Recreational Products',\n",
       " 'Recreational Services',\n",
       " 'Religious Groups',\n",
       " 'Rentals/Leasing',\n",
       " 'Restaurants',\n",
       " 'Retail',\n",
       " 'SaaS',\n",
       " 'Sales/Marketing Services',\n",
       " 'Satellite/RF/Micro',\n",
       " 'Schools',\n",
       " 'Scientific',\n",
       " 'Security Hardware',\n",
       " 'Security Services',\n",
       " 'Security Software',\n",
       " 'Semiconductors',\n",
       " 'Servers/Storage',\n",
       " 'Service Providers',\n",
       " 'Services',\n",
       " 'Shipping',\n",
       " 'Social Services',\n",
       " 'Software',\n",
       " 'Software Consulting',\n",
       " 'Specialty',\n",
       " 'Speech Recognition',\n",
       " 'Staffing',\n",
       " 'Staffing/Outsourcing/HR',\n",
       " 'Supply Chain',\n",
       " 'Technology Consulting',\n",
       " 'Technology Retail',\n",
       " 'Telecom Consulting',\n",
       " 'Telecom Hardware',\n",
       " 'Telecom Services/Telephone Companies',\n",
       " 'Television/Cable',\n",
       " 'Testing',\n",
       " 'Training',\n",
       " 'Trucking',\n",
       " 'Trucks/Buses/RVs',\n",
       " 'Utilities',\n",
       " 'Venture Capital',\n",
       " 'Vitamins/Nutritionals/Other',\n",
       " 'WSPs (Wireless)',\n",
       " 'Warehousing/Logistics',\n",
       " 'Waste/Recycling',\n",
       " 'Water Utilities',\n",
       " 'Web Development',\n",
       " 'Wireless Consulting',\n",
       " 'Wireless Hardware',\n",
       " 'Wireless Software Networking',\n",
       " 'Wood/Paper',\n",
       " 'Wood/Timber',\n",
       " 'eBusiness',\n",
       " 'eCommerce',\n",
       " 'eMail/Messaging'}"
      ]
     },
     "execution_count": 451,
     "metadata": {},
     "output_type": "execute_result"
    }
   ],
   "source": [
    "set([i for i in X_train.Industry])"
   ]
  },
  {
   "cell_type": "code",
   "execution_count": 458,
   "id": "9d64d1cc",
   "metadata": {},
   "outputs": [],
   "source": [
    "l=['Accounting',\n",
    " 'Advertising/PR',\n",
    " 'Aerospace/Defense',\n",
    " 'Aircraft Parts','Airlines/Air Couriers',\n",
    " 'Alternative',\n",
    " 'Apparel Products',\n",
    " 'Apparel Retail',\n",
    " 'Appliances/Tools',\n",
    " 'Architecture/Engineering',\n",
    " 'Associations',\n",
    " 'Auto Dealers',\n",
    " 'Auto Manufacturers',\n",
    " 'Auto Parts/Services',\n",
    " 'Automotive/Transportation',\n",
    " 'B2B eCommerce',\n",
    " 'BSPs (Broadband)',\n",
    " 'Banks',\n",
    " 'Beverages (Alcoholic)',\n",
    " 'Beverages (Non-Alcoholic)',\n",
    " 'BioTech/Drugs',\n",
    " 'Biotech/Healthcare',\n",
    " 'Book',\n",
    " 'Casinos/Gaming',\n",
    " 'Catalog/MailOrder',\n",
    " 'Chemical Manufacturing',\n",
    " 'Computer Hardware',\n",
    " 'Concrete/Cement',\n",
    " 'Conglomerates',\n",
    " 'Constr - Supplies',\n",
    " 'Constr/Agric Machinery',\n",
    " 'Construction Services',\n",
    " 'Construction/Agriculture',\n",
    " 'Consumer Products',\n",
    " 'Database',\n",
    " 'Department/Discount',\n",
    " 'ERP',\n",
    " 'Education/Training',\n",
    " 'Electric Utilities',\n",
    " 'Electronics',\n",
    " 'Energy',\n",
    " 'Enterprise',\n",
    " 'Entertainment/Media',\n",
    " 'Fabricated Products',\n",
    " 'Finance',\n",
    " 'Finance Software',\n",
    " 'Financial Services',\n",
    " 'Food Processing',\n",
    " 'Furniture/Fixtures',\n",
    " 'Gold/Silver',\n",
    " 'Government',\n",
    " 'Grocery',\n",
    " 'Hardware Consulting',\n",
    " 'Health/Accident',\n",
    " 'Healthcare Facilities/Services',\n",
    " 'Home Improvement',\n",
    " 'Hospitals/Clinics',\n",
    " 'Hotels/Motels',\n",
    " 'Human Resources',\n",
    " 'ISPs',\n",
    " 'Industrial Equip',\n",
    " 'Information Services',\n",
    " 'Insurance',\n",
    " 'Internet',\n",
    " 'Internet Consulting',\n",
    " 'Internet Software',\n",
    " 'Investment Bank/Brokerage',\n",
    " 'Iron/Steel',\n",
    " 'Legal',\n",
    " 'Leisure/Hospitality',\n",
    " 'Lending/Mortgage',\n",
    " 'Life',\n",
    " 'MSPs (Mgmt)',\n",
    " 'Machine Tools',\n",
    " 'Marketing/Advertising',\n",
    " 'Materials/Manufacturing',\n",
    " 'Medical Equipment',\n",
    " 'Metals/Mining',\n",
    " 'Movies',\n",
    " 'Multimedia Hardware',\n",
    " 'Multimedia Software',\n",
    " 'Music',\n",
    " 'Natural Gas',\n",
    " 'Network Infrastructure',\n",
    " 'Networking/Comm.',\n",
    " 'Newspapers',\n",
    " 'Non-Profit',\n",
    " 'OSPs (Optical)',\n",
    " 'Office Equipment',\n",
    " 'Office Supplies',\n",
    " 'Oil, Gas, Coal',\n",
    " 'Online Banking',\n",
    " 'Other',\n",
    " 'Other Biz Products',\n",
    " 'Other Biz Services',\n",
    " 'Other Consulting',\n",
    " 'Other Investment Firms',\n",
    " 'Other Vehicles',\n",
    " 'Outsourcing',\n",
    " 'Packaging/Containers',\n",
    " 'Periodicals',\n",
    " 'Peripherals/Comp.',\n",
    " 'Personal Services',\n",
    " 'Personal/Household Products',\n",
    " 'Photography',\n",
    " 'Plastic/Rubber',\n",
    " 'Plumbing/HVAC',\n",
    " 'Printing Services',\n",
    " 'Professional Services',\n",
    " 'Property/Casualty',\n",
    " 'Publishing',\n",
    " 'REIT',\n",
    " 'Radio',\n",
    " 'Railroads',\n",
    " 'Real Estate',\n",
    " 'Recreational Products',\n",
    " 'Recreational Services',\n",
    " 'Religious Groups',\n",
    " 'Rentals/Leasing',\n",
    " 'Restaurants',\n",
    " 'Retail',\n",
    " 'SaaS',\n",
    " 'Sales/Marketing Services',\n",
    " 'Satellite/RF/Micro',\n",
    " 'Schools',\n",
    " 'Scientific',\n",
    " 'Security Hardware',\n",
    " 'Security Services',\n",
    " 'Security Software',\n",
    " 'Semiconductors',\n",
    " 'Servers/Storage',\n",
    " 'Service Providers',\n",
    " 'Services',\n",
    " 'Shipping',\n",
    " 'Social Services',\n",
    " 'Software',\n",
    " 'Software Consulting',\n",
    " 'Specialty',\n",
    " 'Speech Recognition',\n",
    " 'Staffing',\n",
    " 'Staffing/Outsourcing/HR',\n",
    " 'Supply Chain',\n",
    " 'Technology Consulting',\n",
    " 'Technology Retail',\n",
    " 'Telecom Consulting',\n",
    " 'Telecom Hardware',\n",
    " 'Telecom Services/Telephone Companies',\n",
    " 'Television/Cable',\n",
    " 'Testing',\n",
    " 'Training',\n",
    " 'Trucking',\n",
    " 'Trucks/Buses/RVs',\n",
    " 'Utilities',\n",
    " 'Venture Capital',\n",
    " 'Vitamins/Nutritionals/Other',\n",
    " 'WSPs (Wireless)',\n",
    " 'Warehousing/Logistics',\n",
    " 'Waste/Recycling',\n",
    " 'Water Utilities',\n",
    " 'Web Development',\n",
    " 'Wireless Consulting',\n",
    " 'Wireless Hardware',\n",
    " 'Wireless Software Networking',\n",
    " 'Wood/Paper',\n",
    " 'Wood/Timber',\n",
    " 'eBusiness',\n",
    " 'eCommerce',\n",
    " 'eMail/Messaging']"
   ]
  },
  {
   "cell_type": "code",
   "execution_count": 459,
   "id": "c966fc74",
   "metadata": {},
   "outputs": [],
   "source": [
    "for i in X_train.Industry:\n",
    "    if i not in l:\n",
    "        print(i)"
   ]
  },
  {
   "cell_type": "code",
   "execution_count": 1,
   "id": "8ad5867a",
   "metadata": {},
   "outputs": [
    {
     "name": "stdout",
     "output_type": "stream",
     "text": [
      "1.3.1\n"
     ]
    }
   ],
   "source": [
    "import sklearn\n",
    "print(sklearn.__version__)\n"
   ]
  },
  {
   "cell_type": "code",
   "execution_count": null,
   "id": "607f1e00",
   "metadata": {},
   "outputs": [],
   "source": []
  }
 ],
 "metadata": {
  "kernelspec": {
   "display_name": "Python 3",
   "language": "python",
   "name": "python3"
  },
  "language_info": {
   "codemirror_mode": {
    "name": "ipython",
    "version": 3
   },
   "file_extension": ".py",
   "mimetype": "text/x-python",
   "name": "python",
   "nbconvert_exporter": "python",
   "pygments_lexer": "ipython3",
   "version": "3.8.8"
  },
  "toc": {
   "base_numbering": 1,
   "nav_menu": {},
   "number_sections": true,
   "sideBar": true,
   "skip_h1_title": true,
   "title_cell": "Table of Contents",
   "title_sidebar": "Contents",
   "toc_cell": true,
   "toc_position": {},
   "toc_section_display": true,
   "toc_window_display": false
  }
 },
 "nbformat": 4,
 "nbformat_minor": 5
}
