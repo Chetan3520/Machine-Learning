{
 "cells": [
  {
   "cell_type": "code",
   "execution_count": 1,
   "id": "c70dcf9a",
   "metadata": {},
   "outputs": [],
   "source": [
    "import numpy as np\n",
    "import pandas as pd\n",
    "import matplotlib.pyplot as plt"
   ]
  },
  {
   "cell_type": "markdown",
   "id": "2c6a8760",
   "metadata": {},
   "source": [
    "# Importing Dataset"
   ]
  },
  {
   "cell_type": "code",
   "execution_count": 2,
   "id": "467bd27e",
   "metadata": {},
   "outputs": [],
   "source": [
    "dataset=pd.read_csv(r\"C:\\Users\\DELL\\OneDrive\\Documents\\CSV Files\\test.csv\")"
   ]
  },
  {
   "cell_type": "code",
   "execution_count": 3,
   "id": "cda7b8c9",
   "metadata": {},
   "outputs": [
    {
     "data": {
      "text/html": [
       "<div>\n",
       "<style scoped>\n",
       "    .dataframe tbody tr th:only-of-type {\n",
       "        vertical-align: middle;\n",
       "    }\n",
       "\n",
       "    .dataframe tbody tr th {\n",
       "        vertical-align: top;\n",
       "    }\n",
       "\n",
       "    .dataframe thead th {\n",
       "        text-align: right;\n",
       "    }\n",
       "</style>\n",
       "<table border=\"1\" class=\"dataframe\">\n",
       "  <thead>\n",
       "    <tr style=\"text-align: right;\">\n",
       "      <th></th>\n",
       "      <th>x</th>\n",
       "      <th>y</th>\n",
       "    </tr>\n",
       "  </thead>\n",
       "  <tbody>\n",
       "    <tr>\n",
       "      <th>0</th>\n",
       "      <td>77</td>\n",
       "      <td>79.775152</td>\n",
       "    </tr>\n",
       "    <tr>\n",
       "      <th>1</th>\n",
       "      <td>21</td>\n",
       "      <td>23.177279</td>\n",
       "    </tr>\n",
       "    <tr>\n",
       "      <th>2</th>\n",
       "      <td>22</td>\n",
       "      <td>25.609262</td>\n",
       "    </tr>\n",
       "    <tr>\n",
       "      <th>3</th>\n",
       "      <td>20</td>\n",
       "      <td>17.857388</td>\n",
       "    </tr>\n",
       "    <tr>\n",
       "      <th>4</th>\n",
       "      <td>36</td>\n",
       "      <td>41.849864</td>\n",
       "    </tr>\n",
       "  </tbody>\n",
       "</table>\n",
       "</div>"
      ],
      "text/plain": [
       "    x          y\n",
       "0  77  79.775152\n",
       "1  21  23.177279\n",
       "2  22  25.609262\n",
       "3  20  17.857388\n",
       "4  36  41.849864"
      ]
     },
     "execution_count": 3,
     "metadata": {},
     "output_type": "execute_result"
    }
   ],
   "source": [
    "dataset.head()"
   ]
  },
  {
   "cell_type": "code",
   "execution_count": 4,
   "id": "34461dfb",
   "metadata": {},
   "outputs": [
    {
     "data": {
      "text/plain": [
       "(300, 2)"
      ]
     },
     "execution_count": 4,
     "metadata": {},
     "output_type": "execute_result"
    }
   ],
   "source": [
    "dataset.shape"
   ]
  },
  {
   "cell_type": "code",
   "execution_count": 5,
   "id": "2bcbceb2",
   "metadata": {},
   "outputs": [
    {
     "data": {
      "text/html": [
       "<div>\n",
       "<style scoped>\n",
       "    .dataframe tbody tr th:only-of-type {\n",
       "        vertical-align: middle;\n",
       "    }\n",
       "\n",
       "    .dataframe tbody tr th {\n",
       "        vertical-align: top;\n",
       "    }\n",
       "\n",
       "    .dataframe thead th {\n",
       "        text-align: right;\n",
       "    }\n",
       "</style>\n",
       "<table border=\"1\" class=\"dataframe\">\n",
       "  <thead>\n",
       "    <tr style=\"text-align: right;\">\n",
       "      <th></th>\n",
       "      <th>x</th>\n",
       "      <th>y</th>\n",
       "    </tr>\n",
       "  </thead>\n",
       "  <tbody>\n",
       "    <tr>\n",
       "      <th>count</th>\n",
       "      <td>300.000000</td>\n",
       "      <td>300.000000</td>\n",
       "    </tr>\n",
       "    <tr>\n",
       "      <th>mean</th>\n",
       "      <td>50.936667</td>\n",
       "      <td>51.205051</td>\n",
       "    </tr>\n",
       "    <tr>\n",
       "      <th>std</th>\n",
       "      <td>28.504286</td>\n",
       "      <td>29.071481</td>\n",
       "    </tr>\n",
       "    <tr>\n",
       "      <th>min</th>\n",
       "      <td>0.000000</td>\n",
       "      <td>-3.467884</td>\n",
       "    </tr>\n",
       "    <tr>\n",
       "      <th>25%</th>\n",
       "      <td>27.000000</td>\n",
       "      <td>25.676502</td>\n",
       "    </tr>\n",
       "    <tr>\n",
       "      <th>50%</th>\n",
       "      <td>53.000000</td>\n",
       "      <td>52.170557</td>\n",
       "    </tr>\n",
       "    <tr>\n",
       "      <th>75%</th>\n",
       "      <td>73.000000</td>\n",
       "      <td>74.303007</td>\n",
       "    </tr>\n",
       "    <tr>\n",
       "      <th>max</th>\n",
       "      <td>100.000000</td>\n",
       "      <td>105.591837</td>\n",
       "    </tr>\n",
       "  </tbody>\n",
       "</table>\n",
       "</div>"
      ],
      "text/plain": [
       "                x           y\n",
       "count  300.000000  300.000000\n",
       "mean    50.936667   51.205051\n",
       "std     28.504286   29.071481\n",
       "min      0.000000   -3.467884\n",
       "25%     27.000000   25.676502\n",
       "50%     53.000000   52.170557\n",
       "75%     73.000000   74.303007\n",
       "max    100.000000  105.591837"
      ]
     },
     "execution_count": 5,
     "metadata": {},
     "output_type": "execute_result"
    }
   ],
   "source": [
    "dataset.describe()"
   ]
  },
  {
   "cell_type": "code",
   "execution_count": 6,
   "id": "aeb5c03d",
   "metadata": {},
   "outputs": [
    {
     "name": "stdout",
     "output_type": "stream",
     "text": [
      "<class 'pandas.core.frame.DataFrame'>\n",
      "RangeIndex: 300 entries, 0 to 299\n",
      "Data columns (total 2 columns):\n",
      " #   Column  Non-Null Count  Dtype  \n",
      "---  ------  --------------  -----  \n",
      " 0   x       300 non-null    int64  \n",
      " 1   y       300 non-null    float64\n",
      "dtypes: float64(1), int64(1)\n",
      "memory usage: 4.8 KB\n"
     ]
    }
   ],
   "source": [
    "dataset.info()"
   ]
  },
  {
   "cell_type": "code",
   "execution_count": null,
   "id": "a26f5c8b",
   "metadata": {},
   "outputs": [],
   "source": []
  },
  {
   "cell_type": "markdown",
   "id": "d7f8cc34",
   "metadata": {},
   "source": [
    "# Visualising the dataset\n"
   ]
  },
  {
   "cell_type": "markdown",
   "id": "df6cb575",
   "metadata": {},
   "source": [
    "##### plotting the Dataset"
   ]
  },
  {
   "cell_type": "code",
   "execution_count": 7,
   "id": "23bd6226",
   "metadata": {},
   "outputs": [
    {
     "data": {
      "image/png": "[encoded data removed]",
      "text/plain": [
       "<Figure size 432x288 with 1 Axes>"
      ]
     },
     "metadata": {
      "needs_background": "light"
     },
     "output_type": "display_data"
    }
   ],
   "source": [
    "dataset.plot(x='x',y='y',style=\"*\",color=\"blue\")\n",
    "plt.title(\"Regression plot of x and y\")\n",
    "plt.xlabel(\"x\")\n",
    "plt.ylabel(\"y\")\n",
    "plt.grid()\n",
    "plt.show()"
   ]
  },
  {
   "cell_type": "markdown",
   "id": "e3f6e460",
   "metadata": {},
   "source": [
    "#### As we can see in the scatterplot that the linear relationship between the x and y variable is present."
   ]
  },
  {
   "cell_type": "markdown",
   "id": "799bc11a",
   "metadata": {},
   "source": [
    "##### let increase the size of the graph."
   ]
  },
  {
   "cell_type": "code",
   "execution_count": 8,
   "id": "559cf5ea",
   "metadata": {},
   "outputs": [
    {
     "data": {
      "image/png": "[encoded data removed]",
      "text/plain": [
       "<Figure size 1152x648 with 1 Axes>"
      ]
     },
     "metadata": {
      "needs_background": "light"
     },
     "output_type": "display_data"
    }
   ],
   "source": [
    "plt.rcParams[\"figure.figsize\"]=[16,9] #for increasing size of the graph..\n",
    "dataset.plot(x='x',y='y',style=\"*\",color=\"blue\")\n",
    "plt.title(\"Regression plot of x and y\")\n",
    "plt.xlabel(\"x\")\n",
    "plt.ylabel(\"y\")\n",
    "plt.grid()\n",
    "plt.show()"
   ]
  },
  {
   "cell_type": "markdown",
   "id": "af0a5b1d",
   "metadata": {},
   "source": [
    "##### To check the relationship between data variables we can also find out the correlation between them"
   ]
  },
  {
   "cell_type": "code",
   "execution_count": 9,
   "id": "c2d10b41",
   "metadata": {},
   "outputs": [
    {
     "data": {
      "text/html": [
       "<div>\n",
       "<style scoped>\n",
       "    .dataframe tbody tr th:only-of-type {\n",
       "        vertical-align: middle;\n",
       "    }\n",
       "\n",
       "    .dataframe tbody tr th {\n",
       "        vertical-align: top;\n",
       "    }\n",
       "\n",
       "    .dataframe thead th {\n",
       "        text-align: right;\n",
       "    }\n",
       "</style>\n",
       "<table border=\"1\" class=\"dataframe\">\n",
       "  <thead>\n",
       "    <tr style=\"text-align: right;\">\n",
       "      <th></th>\n",
       "      <th>x</th>\n",
       "      <th>y</th>\n",
       "    </tr>\n",
       "  </thead>\n",
       "  <tbody>\n",
       "    <tr>\n",
       "      <th>x</th>\n",
       "      <td>1.000000</td>\n",
       "      <td>0.994545</td>\n",
       "    </tr>\n",
       "    <tr>\n",
       "      <th>y</th>\n",
       "      <td>0.994545</td>\n",
       "      <td>1.000000</td>\n",
       "    </tr>\n",
       "  </tbody>\n",
       "</table>\n",
       "</div>"
      ],
      "text/plain": [
       "          x         y\n",
       "x  1.000000  0.994545\n",
       "y  0.994545  1.000000"
      ]
     },
     "execution_count": 9,
     "metadata": {},
     "output_type": "execute_result"
    }
   ],
   "source": [
    "dataset.corr() #varience covarience matrix"
   ]
  },
  {
   "cell_type": "markdown",
   "id": "25bc64e1",
   "metadata": {},
   "source": [
    "# Data Preparation"
   ]
  },
  {
   "cell_type": "markdown",
   "id": "88cd5712",
   "metadata": {},
   "source": [
    "##### using iloc function we can seperate the x and y values of the dataset."
   ]
  },
  {
   "cell_type": "code",
   "execution_count": 10,
   "id": "99201c35",
   "metadata": {},
   "outputs": [],
   "source": [
    "x=dataset.iloc[:,:1].values\n",
    "y=dataset.iloc[:,1:].values"
   ]
  },
  {
   "cell_type": "markdown",
   "id": "906f2bed",
   "metadata": {},
   "source": [
    "##### Using train_test_split in sklearn.model_selectoion we gonna spliting dataset into test and train data"
   ]
  },
  {
   "cell_type": "code",
   "execution_count": 11,
   "id": "07ac04a9",
   "metadata": {},
   "outputs": [],
   "source": [
    "from sklearn.model_selection import train_test_split"
   ]
  },
  {
   "cell_type": "code",
   "execution_count": 12,
   "id": "1289c053",
   "metadata": {},
   "outputs": [],
   "source": [
    "x_train,x_test,y_train,y_test=train_test_split(x,y,test_size=0.2,random_state=0)"
   ]
  },
  {
   "cell_type": "markdown",
   "id": "16f290e0",
   "metadata": {},
   "source": [
    "# Trainning the Algorithm"
   ]
  },
  {
   "cell_type": "code",
   "execution_count": 13,
   "id": "02d1b988",
   "metadata": {},
   "outputs": [],
   "source": [
    "from sklearn.linear_model import LinearRegression\n",
    "model=LinearRegression()"
   ]
  },
  {
   "cell_type": "code",
   "execution_count": 14,
   "id": "6d48efbb",
   "metadata": {},
   "outputs": [
    {
     "data": {
      "text/plain": [
       "LinearRegression()"
      ]
     },
     "execution_count": 14,
     "metadata": {},
     "output_type": "execute_result"
    }
   ],
   "source": [
    "model.fit(x_train,y_train)"
   ]
  },
  {
   "cell_type": "code",
   "execution_count": 28,
   "id": "899227f0",
   "metadata": {},
   "outputs": [
    {
     "name": "stdout",
     "output_type": "stream",
     "text": [
      "[[1.0144497]]\n",
      "[-0.53332421]\n"
     ]
    }
   ],
   "source": [
    "print(model.coef_)\n",
    "print(model.intercept_)"
   ]
  },
  {
   "cell_type": "markdown",
   "id": "822cff19",
   "metadata": {},
   "source": [
    "# Visualizing the Model"
   ]
  },
  {
   "cell_type": "code",
   "execution_count": 15,
   "id": "ab52ca72",
   "metadata": {},
   "outputs": [
    {
     "data": {
      "image/png": "[encoded data removed]",
      "text/plain": [
       "<Figure size 1152x576 with 1 Axes>"
      ]
     },
     "metadata": {
      "needs_background": "light"
     },
     "output_type": "display_data"
    }
   ],
   "source": [
    "line=model.intercept_+model.coef_*x\n",
    "plt.rcParams['figure.figsize']=[16,8]\n",
    "plt.scatter(x_train,y_train)\n",
    "plt.plot(x,line,color=\"red\")\n",
    "plt.title(\"Fitted Model\")\n",
    "plt.xlabel(\"x_train values\")\n",
    "plt.ylabel(\"y_train values\")\n",
    "plt.grid()\n",
    "plt.show()"
   ]
  },
  {
   "cell_type": "markdown",
   "id": "ac6932fb",
   "metadata": {},
   "source": [
    "###### test Model visualization"
   ]
  },
  {
   "cell_type": "code",
   "execution_count": 16,
   "id": "7af3b741",
   "metadata": {},
   "outputs": [
    {
     "data": {
      "image/png": "[encoded data removed]",
      "text/plain": [
       "<Figure size 1152x576 with 1 Axes>"
      ]
     },
     "metadata": {
      "needs_background": "light"
     },
     "output_type": "display_data"
    }
   ],
   "source": [
    "plt.rcParams[\"figure.figsize\"]=[16,8]\n",
    "plt.scatter(x_test,y_test)\n",
    "plt.plot(x,line,color=\"red\")\n",
    "plt.title(\"Test Model\")\n",
    "plt.xlabel(\"x_test values\")\n",
    "plt.ylabel(\"y_test values\")\n",
    "plt.grid()\n",
    "plt.show()"
   ]
  },
  {
   "cell_type": "markdown",
   "id": "34bea578",
   "metadata": {},
   "source": [
    "# Making  Prediction"
   ]
  },
  {
   "cell_type": "markdown",
   "id": "6e8bff4e",
   "metadata": {},
   "source": [
    "###### test data"
   ]
  },
  {
   "cell_type": "code",
   "execution_count": 17,
   "id": "e85b2c98",
   "metadata": {},
   "outputs": [
    {
     "data": {
      "text/plain": [
       "array([[ 67],\n",
       "       [ 27],\n",
       "       [ 96],\n",
       "       [100],\n",
       "       [ 28],\n",
       "       [ 65],\n",
       "       [ 37],\n",
       "       [ 40],\n",
       "       [ 52],\n",
       "       [ 89],\n",
       "       [ 92],\n",
       "       [ 15],\n",
       "       [ 37],\n",
       "       [ 90],\n",
       "       [ 89],\n",
       "       [ 15],\n",
       "       [ 55],\n",
       "       [ 67],\n",
       "       [ 14],\n",
       "       [ 49],\n",
       "       [ 92],\n",
       "       [ 74],\n",
       "       [ 41],\n",
       "       [ 29],\n",
       "       [ 48],\n",
       "       [ 17],\n",
       "       [ 61],\n",
       "       [ 16],\n",
       "       [ 65],\n",
       "       [ 71],\n",
       "       [ 63],\n",
       "       [ 41],\n",
       "       [ 20],\n",
       "       [ 98],\n",
       "       [  4],\n",
       "       [ 60],\n",
       "       [ 58],\n",
       "       [ 93],\n",
       "       [ 47],\n",
       "       [ 15],\n",
       "       [ 42],\n",
       "       [ 43],\n",
       "       [ 27],\n",
       "       [ 28],\n",
       "       [  0],\n",
       "       [ 53],\n",
       "       [ 56],\n",
       "       [ 82],\n",
       "       [ 95],\n",
       "       [ 37],\n",
       "       [ 53],\n",
       "       [ 44],\n",
       "       [ 56],\n",
       "       [  1],\n",
       "       [ 57],\n",
       "       [ 60],\n",
       "       [ 21],\n",
       "       [ 79],\n",
       "       [ 59],\n",
       "       [ 84]], dtype=int64)"
      ]
     },
     "execution_count": 17,
     "metadata": {},
     "output_type": "execute_result"
    }
   ],
   "source": [
    "x_test"
   ]
  },
  {
   "cell_type": "markdown",
   "id": "e4f9e432",
   "metadata": {},
   "source": [
    "###### prediction using test data"
   ]
  },
  {
   "cell_type": "code",
   "execution_count": 18,
   "id": "77c4e899",
   "metadata": {},
   "outputs": [
    {
     "data": {
      "text/plain": [
       "array([[ 67.43480541],\n",
       "       [ 26.85681758],\n",
       "       [ 96.8538466 ],\n",
       "       [100.91164538],\n",
       "       [ 27.87126727],\n",
       "       [ 65.40590602],\n",
       "       [ 37.00131454],\n",
       "       [ 40.04466362],\n",
       "       [ 52.21805998],\n",
       "       [ 89.75269872],\n",
       "       [ 92.79604781],\n",
       "       [ 14.68342123],\n",
       "       [ 37.00131454],\n",
       "       [ 90.76714842],\n",
       "       [ 89.75269872],\n",
       "       [ 14.68342123],\n",
       "       [ 55.26140906],\n",
       "       [ 67.43480541],\n",
       "       [ 13.66897153],\n",
       "       [ 49.17471089],\n",
       "       [ 92.79604781],\n",
       "       [ 74.53595329],\n",
       "       [ 41.05911332],\n",
       "       [ 28.88571697],\n",
       "       [ 48.16026119],\n",
       "       [ 16.71232062],\n",
       "       [ 61.34810724],\n",
       "       [ 15.69787092],\n",
       "       [ 65.40590602],\n",
       "       [ 71.4926042 ],\n",
       "       [ 63.37700663],\n",
       "       [ 41.05911332],\n",
       "       [ 19.75566971],\n",
       "       [ 98.88274599],\n",
       "       [  3.52447457],\n",
       "       [ 60.33365754],\n",
       "       [ 58.30475815],\n",
       "       [ 93.81049751],\n",
       "       [ 47.1458115 ],\n",
       "       [ 14.68342123],\n",
       "       [ 42.07356302],\n",
       "       [ 43.08801271],\n",
       "       [ 26.85681758],\n",
       "       [ 27.87126727],\n",
       "       [ -0.53332421],\n",
       "       [ 53.23250967],\n",
       "       [ 56.27585876],\n",
       "       [ 82.65155085],\n",
       "       [ 95.8393969 ],\n",
       "       [ 37.00131454],\n",
       "       [ 53.23250967],\n",
       "       [ 44.10246241],\n",
       "       [ 56.27585876],\n",
       "       [  0.48112548],\n",
       "       [ 57.29030845],\n",
       "       [ 60.33365754],\n",
       "       [ 20.7701194 ],\n",
       "       [ 79.60820176],\n",
       "       [ 59.31920785],\n",
       "       [ 84.68045024]])"
      ]
     },
     "execution_count": 18,
     "metadata": {},
     "output_type": "execute_result"
    }
   ],
   "source": [
    "y_pred=(model.predict(x_test))\n",
    "y_pred"
   ]
  },
  {
   "cell_type": "markdown",
   "id": "60bb3b6b",
   "metadata": {},
   "source": [
    "###### Actual y values"
   ]
  },
  {
   "cell_type": "code",
   "execution_count": 19,
   "id": "d9402378",
   "metadata": {},
   "outputs": [
    {
     "data": {
      "text/plain": [
       "array([[ 68.48820749],\n",
       "       [ 30.49412933],\n",
       "       [ 95.14907176],\n",
       "       [103.5266162 ],\n",
       "       [ 28.15668543],\n",
       "       [ 68.94699774],\n",
       "       [ 40.00709598],\n",
       "       [ 48.09843134],\n",
       "       [ 54.08170635],\n",
       "       [ 87.45721555],\n",
       "       [ 91.30863673],\n",
       "       [ 14.82248589],\n",
       "       [ 34.12473248],\n",
       "       [ 89.899991  ],\n",
       "       [ 89.82634442],\n",
       "       [ 13.25690647],\n",
       "       [ 55.81628509],\n",
       "       [ 67.02150613],\n",
       "       [ 12.42624606],\n",
       "       [ 52.28620611],\n",
       "       [ 89.73153611],\n",
       "       [ 75.69298554],\n",
       "       [ 45.44599591],\n",
       "       [ 26.49487961],\n",
       "       [ 47.41006725],\n",
       "       [ 13.41310757],\n",
       "       [ 60.07137496],\n",
       "       [ 16.74923937],\n",
       "       [ 66.61499643],\n",
       "       [ 68.5458879 ],\n",
       "       [ 58.61466887],\n",
       "       [ 38.68888682],\n",
       "       [ 18.39512747],\n",
       "       [ 95.58017185],\n",
       "       [  7.64652976],\n",
       "       [ 59.8313966 ],\n",
       "       [ 57.48741435],\n",
       "       [ 99.43577876],\n",
       "       [ 52.45946688],\n",
       "       [  9.80523488],\n",
       "       [ 42.03835773],\n",
       "       [ 48.67252645],\n",
       "       [ 23.44479161],\n",
       "       [ 33.07112825],\n",
       "       [ -1.04011421],\n",
       "       [ 60.20758349],\n",
       "       [ 57.19103506],\n",
       "       [ 85.45504157],\n",
       "       [ 97.61793701],\n",
       "       [ 36.11334779],\n",
       "       [ 50.17008622],\n",
       "       [ 45.96396877],\n",
       "       [ 54.55446979],\n",
       "       [  0.27530726],\n",
       "       [ 56.14834113],\n",
       "       [ 60.11134958],\n",
       "       [ 18.98322306],\n",
       "       [ 78.31056542],\n",
       "       [ 60.91792707],\n",
       "       [ 85.18657275]])"
      ]
     },
     "execution_count": 19,
     "metadata": {},
     "output_type": "execute_result"
    }
   ],
   "source": [
    "y_test"
   ]
  },
  {
   "cell_type": "markdown",
   "id": "c2aeb864",
   "metadata": {},
   "source": [
    "## comarision of actual and predicted data\n"
   ]
  },
  {
   "cell_type": "code",
   "execution_count": 20,
   "id": "abaff6c7",
   "metadata": {},
   "outputs": [],
   "source": [
    "l=[];l1=[]"
   ]
  },
  {
   "cell_type": "code",
   "execution_count": 21,
   "id": "89737770",
   "metadata": {},
   "outputs": [],
   "source": [
    "for i in y_test:\n",
    "    l.append(i)\n",
    "for j in y_pred:\n",
    "    l1.append(j)\n",
    "    "
   ]
  },
  {
   "cell_type": "code",
   "execution_count": 22,
   "id": "626e574a",
   "metadata": {},
   "outputs": [],
   "source": [
    "l2=[l,l1]"
   ]
  },
  {
   "cell_type": "code",
   "execution_count": 23,
   "id": "eafae2c5",
   "metadata": {},
   "outputs": [
    {
     "data": {
      "text/html": [
       "<div>\n",
       "<style scoped>\n",
       "    .dataframe tbody tr th:only-of-type {\n",
       "        vertical-align: middle;\n",
       "    }\n",
       "\n",
       "    .dataframe tbody tr th {\n",
       "        vertical-align: top;\n",
       "    }\n",
       "\n",
       "    .dataframe thead th {\n",
       "        text-align: right;\n",
       "    }\n",
       "</style>\n",
       "<table border=\"1\" class=\"dataframe\">\n",
       "  <thead>\n",
       "    <tr style=\"text-align: right;\">\n",
       "      <th></th>\n",
       "      <th>test values(original values)</th>\n",
       "      <th>predicted values</th>\n",
       "    </tr>\n",
       "  </thead>\n",
       "  <tbody>\n",
       "    <tr>\n",
       "      <th>0</th>\n",
       "      <td>[68.48820749]</td>\n",
       "      <td>[67.4348054138573]</td>\n",
       "    </tr>\n",
       "    <tr>\n",
       "      <th>1</th>\n",
       "      <td>[30.49412933]</td>\n",
       "      <td>[26.856817577580752]</td>\n",
       "    </tr>\n",
       "    <tr>\n",
       "      <th>2</th>\n",
       "      <td>[95.14907176]</td>\n",
       "      <td>[96.85384659515782]</td>\n",
       "    </tr>\n",
       "    <tr>\n",
       "      <th>3</th>\n",
       "      <td>[103.5266162]</td>\n",
       "      <td>[100.91164537878547]</td>\n",
       "    </tr>\n",
       "    <tr>\n",
       "      <th>4</th>\n",
       "      <td>[28.15668543]</td>\n",
       "      <td>[27.871267273487664]</td>\n",
       "    </tr>\n",
       "    <tr>\n",
       "      <th>5</th>\n",
       "      <td>[68.94699774]</td>\n",
       "      <td>[65.4059060220435]</td>\n",
       "    </tr>\n",
       "    <tr>\n",
       "      <th>6</th>\n",
       "      <td>[40.00709598]</td>\n",
       "      <td>[37.00131453664989]</td>\n",
       "    </tr>\n",
       "    <tr>\n",
       "      <th>7</th>\n",
       "      <td>[48.09843134]</td>\n",
       "      <td>[40.044663624370635]</td>\n",
       "    </tr>\n",
       "    <tr>\n",
       "      <th>8</th>\n",
       "      <td>[54.08170635]</td>\n",
       "      <td>[52.2180599752536]</td>\n",
       "    </tr>\n",
       "    <tr>\n",
       "      <th>9</th>\n",
       "      <td>[87.45721555]</td>\n",
       "      <td>[89.75269872380943]</td>\n",
       "    </tr>\n",
       "    <tr>\n",
       "      <th>10</th>\n",
       "      <td>[91.30863673]</td>\n",
       "      <td>[92.79604781153017]</td>\n",
       "    </tr>\n",
       "    <tr>\n",
       "      <th>11</th>\n",
       "      <td>[14.82248589]</td>\n",
       "      <td>[14.683421226697783]</td>\n",
       "    </tr>\n",
       "    <tr>\n",
       "      <th>12</th>\n",
       "      <td>[34.12473248]</td>\n",
       "      <td>[37.00131453664989]</td>\n",
       "    </tr>\n",
       "    <tr>\n",
       "      <th>13</th>\n",
       "      <td>[89.899991]</td>\n",
       "      <td>[90.76714841971634]</td>\n",
       "    </tr>\n",
       "    <tr>\n",
       "      <th>14</th>\n",
       "      <td>[89.82634442]</td>\n",
       "      <td>[89.75269872380943]</td>\n",
       "    </tr>\n",
       "    <tr>\n",
       "      <th>15</th>\n",
       "      <td>[13.25690647]</td>\n",
       "      <td>[14.683421226697783]</td>\n",
       "    </tr>\n",
       "    <tr>\n",
       "      <th>16</th>\n",
       "      <td>[55.81628509]</td>\n",
       "      <td>[55.261409062974344]</td>\n",
       "    </tr>\n",
       "    <tr>\n",
       "      <th>17</th>\n",
       "      <td>[67.02150613]</td>\n",
       "      <td>[67.4348054138573]</td>\n",
       "    </tr>\n",
       "    <tr>\n",
       "      <th>18</th>\n",
       "      <td>[12.42624606]</td>\n",
       "      <td>[13.668971530790868]</td>\n",
       "    </tr>\n",
       "    <tr>\n",
       "      <th>19</th>\n",
       "      <td>[52.28620611]</td>\n",
       "      <td>[49.17471088753286]</td>\n",
       "    </tr>\n",
       "    <tr>\n",
       "      <th>20</th>\n",
       "      <td>[89.73153611]</td>\n",
       "      <td>[92.79604781153017]</td>\n",
       "    </tr>\n",
       "    <tr>\n",
       "      <th>21</th>\n",
       "      <td>[75.69298554]</td>\n",
       "      <td>[74.53595328520572]</td>\n",
       "    </tr>\n",
       "    <tr>\n",
       "      <th>22</th>\n",
       "      <td>[45.44599591]</td>\n",
       "      <td>[41.05911332027755]</td>\n",
       "    </tr>\n",
       "    <tr>\n",
       "      <th>23</th>\n",
       "      <td>[26.49487961]</td>\n",
       "      <td>[28.88571696939458]</td>\n",
       "    </tr>\n",
       "    <tr>\n",
       "      <th>24</th>\n",
       "      <td>[47.41006725]</td>\n",
       "      <td>[48.16026119162594]</td>\n",
       "    </tr>\n",
       "    <tr>\n",
       "      <th>25</th>\n",
       "      <td>[13.41310757]</td>\n",
       "      <td>[16.71232061851161]</td>\n",
       "    </tr>\n",
       "    <tr>\n",
       "      <th>26</th>\n",
       "      <td>[60.07137496]</td>\n",
       "      <td>[61.34810723841583]</td>\n",
       "    </tr>\n",
       "    <tr>\n",
       "      <th>27</th>\n",
       "      <td>[16.74923937]</td>\n",
       "      <td>[15.697870922604697]</td>\n",
       "    </tr>\n",
       "    <tr>\n",
       "      <th>28</th>\n",
       "      <td>[66.61499643]</td>\n",
       "      <td>[65.4059060220435]</td>\n",
       "    </tr>\n",
       "    <tr>\n",
       "      <th>29</th>\n",
       "      <td>[68.5458879]</td>\n",
       "      <td>[71.49260419748498]</td>\n",
       "    </tr>\n",
       "    <tr>\n",
       "      <th>30</th>\n",
       "      <td>[58.61466887]</td>\n",
       "      <td>[63.37700663022966]</td>\n",
       "    </tr>\n",
       "    <tr>\n",
       "      <th>31</th>\n",
       "      <td>[38.68888682]</td>\n",
       "      <td>[41.05911332027755]</td>\n",
       "    </tr>\n",
       "    <tr>\n",
       "      <th>32</th>\n",
       "      <td>[18.39512747]</td>\n",
       "      <td>[19.755669706232354]</td>\n",
       "    </tr>\n",
       "    <tr>\n",
       "      <th>33</th>\n",
       "      <td>[95.58017185]</td>\n",
       "      <td>[98.88274598697166]</td>\n",
       "    </tr>\n",
       "    <tr>\n",
       "      <th>34</th>\n",
       "      <td>[7.646529763]</td>\n",
       "      <td>[3.5244745717217283]</td>\n",
       "    </tr>\n",
       "    <tr>\n",
       "      <th>35</th>\n",
       "      <td>[59.8313966]</td>\n",
       "      <td>[60.33365754250892]</td>\n",
       "    </tr>\n",
       "    <tr>\n",
       "      <th>36</th>\n",
       "      <td>[57.48741435]</td>\n",
       "      <td>[58.304758150695086]</td>\n",
       "    </tr>\n",
       "    <tr>\n",
       "      <th>37</th>\n",
       "      <td>[99.43577876]</td>\n",
       "      <td>[93.81049750743708]</td>\n",
       "    </tr>\n",
       "    <tr>\n",
       "      <th>38</th>\n",
       "      <td>[52.45946688]</td>\n",
       "      <td>[47.14581149571903]</td>\n",
       "    </tr>\n",
       "    <tr>\n",
       "      <th>39</th>\n",
       "      <td>[9.805234876]</td>\n",
       "      <td>[14.683421226697783]</td>\n",
       "    </tr>\n",
       "    <tr>\n",
       "      <th>40</th>\n",
       "      <td>[42.03835773]</td>\n",
       "      <td>[42.07356301618446]</td>\n",
       "    </tr>\n",
       "    <tr>\n",
       "      <th>41</th>\n",
       "      <td>[48.67252645]</td>\n",
       "      <td>[43.08801271209138]</td>\n",
       "    </tr>\n",
       "    <tr>\n",
       "      <th>42</th>\n",
       "      <td>[23.44479161]</td>\n",
       "      <td>[26.856817577580752]</td>\n",
       "    </tr>\n",
       "    <tr>\n",
       "      <th>43</th>\n",
       "      <td>[33.07112825]</td>\n",
       "      <td>[27.871267273487664]</td>\n",
       "    </tr>\n",
       "    <tr>\n",
       "      <th>44</th>\n",
       "      <td>[-1.040114209]</td>\n",
       "      <td>[-0.5333242119059278]</td>\n",
       "    </tr>\n",
       "    <tr>\n",
       "      <th>45</th>\n",
       "      <td>[60.20758349]</td>\n",
       "      <td>[53.232509671160514]</td>\n",
       "    </tr>\n",
       "    <tr>\n",
       "      <th>46</th>\n",
       "      <td>[57.19103506]</td>\n",
       "      <td>[56.275858758881256]</td>\n",
       "    </tr>\n",
       "    <tr>\n",
       "      <th>47</th>\n",
       "      <td>[85.45504157]</td>\n",
       "      <td>[82.65155085246101]</td>\n",
       "    </tr>\n",
       "    <tr>\n",
       "      <th>48</th>\n",
       "      <td>[97.61793701]</td>\n",
       "      <td>[95.83939689925091]</td>\n",
       "    </tr>\n",
       "    <tr>\n",
       "      <th>49</th>\n",
       "      <td>[36.11334779]</td>\n",
       "      <td>[37.00131453664989]</td>\n",
       "    </tr>\n",
       "    <tr>\n",
       "      <th>50</th>\n",
       "      <td>[50.17008622]</td>\n",
       "      <td>[53.232509671160514]</td>\n",
       "    </tr>\n",
       "    <tr>\n",
       "      <th>51</th>\n",
       "      <td>[45.96396877]</td>\n",
       "      <td>[44.10246240799829]</td>\n",
       "    </tr>\n",
       "    <tr>\n",
       "      <th>52</th>\n",
       "      <td>[54.55446979]</td>\n",
       "      <td>[56.275858758881256]</td>\n",
       "    </tr>\n",
       "    <tr>\n",
       "      <th>53</th>\n",
       "      <td>[0.275307261]</td>\n",
       "      <td>[0.4811254840009862]</td>\n",
       "    </tr>\n",
       "    <tr>\n",
       "      <th>54</th>\n",
       "      <td>[56.14834113]</td>\n",
       "      <td>[57.290308454788175]</td>\n",
       "    </tr>\n",
       "    <tr>\n",
       "      <th>55</th>\n",
       "      <td>[60.11134958]</td>\n",
       "      <td>[60.33365754250892]</td>\n",
       "    </tr>\n",
       "    <tr>\n",
       "      <th>56</th>\n",
       "      <td>[18.98322306]</td>\n",
       "      <td>[20.770119402139265]</td>\n",
       "    </tr>\n",
       "    <tr>\n",
       "      <th>57</th>\n",
       "      <td>[78.31056542]</td>\n",
       "      <td>[79.60820176474027]</td>\n",
       "    </tr>\n",
       "    <tr>\n",
       "      <th>58</th>\n",
       "      <td>[60.91792707]</td>\n",
       "      <td>[59.319207846602]</td>\n",
       "    </tr>\n",
       "    <tr>\n",
       "      <th>59</th>\n",
       "      <td>[85.18657275]</td>\n",
       "      <td>[84.68045024427485]</td>\n",
       "    </tr>\n",
       "  </tbody>\n",
       "</table>\n",
       "</div>"
      ],
      "text/plain": [
       "   test values(original values)       predicted values\n",
       "0                 [68.48820749]     [67.4348054138573]\n",
       "1                 [30.49412933]   [26.856817577580752]\n",
       "2                 [95.14907176]    [96.85384659515782]\n",
       "3                 [103.5266162]   [100.91164537878547]\n",
       "4                 [28.15668543]   [27.871267273487664]\n",
       "5                 [68.94699774]     [65.4059060220435]\n",
       "6                 [40.00709598]    [37.00131453664989]\n",
       "7                 [48.09843134]   [40.044663624370635]\n",
       "8                 [54.08170635]     [52.2180599752536]\n",
       "9                 [87.45721555]    [89.75269872380943]\n",
       "10                [91.30863673]    [92.79604781153017]\n",
       "11                [14.82248589]   [14.683421226697783]\n",
       "12                [34.12473248]    [37.00131453664989]\n",
       "13                  [89.899991]    [90.76714841971634]\n",
       "14                [89.82634442]    [89.75269872380943]\n",
       "15                [13.25690647]   [14.683421226697783]\n",
       "16                [55.81628509]   [55.261409062974344]\n",
       "17                [67.02150613]     [67.4348054138573]\n",
       "18                [12.42624606]   [13.668971530790868]\n",
       "19                [52.28620611]    [49.17471088753286]\n",
       "20                [89.73153611]    [92.79604781153017]\n",
       "21                [75.69298554]    [74.53595328520572]\n",
       "22                [45.44599591]    [41.05911332027755]\n",
       "23                [26.49487961]    [28.88571696939458]\n",
       "24                [47.41006725]    [48.16026119162594]\n",
       "25                [13.41310757]    [16.71232061851161]\n",
       "26                [60.07137496]    [61.34810723841583]\n",
       "27                [16.74923937]   [15.697870922604697]\n",
       "28                [66.61499643]     [65.4059060220435]\n",
       "29                 [68.5458879]    [71.49260419748498]\n",
       "30                [58.61466887]    [63.37700663022966]\n",
       "31                [38.68888682]    [41.05911332027755]\n",
       "32                [18.39512747]   [19.755669706232354]\n",
       "33                [95.58017185]    [98.88274598697166]\n",
       "34                [7.646529763]   [3.5244745717217283]\n",
       "35                 [59.8313966]    [60.33365754250892]\n",
       "36                [57.48741435]   [58.304758150695086]\n",
       "37                [99.43577876]    [93.81049750743708]\n",
       "38                [52.45946688]    [47.14581149571903]\n",
       "39                [9.805234876]   [14.683421226697783]\n",
       "40                [42.03835773]    [42.07356301618446]\n",
       "41                [48.67252645]    [43.08801271209138]\n",
       "42                [23.44479161]   [26.856817577580752]\n",
       "43                [33.07112825]   [27.871267273487664]\n",
       "44               [-1.040114209]  [-0.5333242119059278]\n",
       "45                [60.20758349]   [53.232509671160514]\n",
       "46                [57.19103506]   [56.275858758881256]\n",
       "47                [85.45504157]    [82.65155085246101]\n",
       "48                [97.61793701]    [95.83939689925091]\n",
       "49                [36.11334779]    [37.00131453664989]\n",
       "50                [50.17008622]   [53.232509671160514]\n",
       "51                [45.96396877]    [44.10246240799829]\n",
       "52                [54.55446979]   [56.275858758881256]\n",
       "53                [0.275307261]   [0.4811254840009862]\n",
       "54                [56.14834113]   [57.290308454788175]\n",
       "55                [60.11134958]    [60.33365754250892]\n",
       "56                [18.98322306]   [20.770119402139265]\n",
       "57                [78.31056542]    [79.60820176474027]\n",
       "58                [60.91792707]      [59.319207846602]\n",
       "59                [85.18657275]    [84.68045024427485]"
      ]
     },
     "execution_count": 23,
     "metadata": {},
     "output_type": "execute_result"
    }
   ],
   "source": [
    "df=pd.DataFrame(l2)\n",
    "new=df.transpose()\n",
    "new.rename(columns={0:'test values(original values)',1:'predicted values'})"
   ]
  },
  {
   "cell_type": "markdown",
   "id": "2a9b73a9",
   "metadata": {},
   "source": [
    "# Evaluating the Model"
   ]
  },
  {
   "cell_type": "markdown",
   "id": "8f8e34d1",
   "metadata": {},
   "source": [
    "###### In the last step , we gonna evaluate  our trained  model by calculating mean absolute error and accuracy of the model\n"
   ]
  },
  {
   "cell_type": "code",
   "execution_count": 24,
   "id": "86a80579",
   "metadata": {},
   "outputs": [
    {
     "data": {
      "text/plain": [
       "0.989139123833634"
      ]
     },
     "execution_count": 24,
     "metadata": {},
     "output_type": "execute_result"
    }
   ],
   "source": [
    "model.score(x_train,y_train)"
   ]
  },
  {
   "cell_type": "markdown",
   "id": "c0da7cba",
   "metadata": {},
   "source": [
    "##### so our model accuracy is arround 99%"
   ]
  },
  {
   "cell_type": "code",
   "execution_count": 25,
   "id": "41a4d388",
   "metadata": {},
   "outputs": [
    {
     "name": "stdout",
     "output_type": "stream",
     "text": [
      "Mean Absolute Error : 2.2723148666042317\n"
     ]
    }
   ],
   "source": [
    "from sklearn import metrics\n",
    "print(\"Mean Absolute Error :\", metrics.mean_absolute_error(y_test,y_pred))"
   ]
  },
  {
   "cell_type": "code",
   "execution_count": null,
   "id": "edac6a26",
   "metadata": {},
   "outputs": [],
   "source": []
  },
  {
   "cell_type": "code",
   "execution_count": null,
   "id": "d707a99f",
   "metadata": {},
   "outputs": [],
   "source": []
  }
 ],
 "metadata": {
  "kernelspec": {
   "display_name": "Python 3",
   "language": "python",
   "name": "python3"
  },
  "language_info": {
   "codemirror_mode": {
    "name": "ipython",
    "version": 3
   },
   "file_extension": ".py",
   "mimetype": "text/x-python",
   "name": "python",
   "nbconvert_exporter": "python",
   "pygments_lexer": "ipython3",
   "version": "3.8.8"
  }
 },
 "nbformat": 4,
 "nbformat_minor": 5
}
