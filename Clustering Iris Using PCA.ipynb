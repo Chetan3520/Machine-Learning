{
 "cells": [
  {
   "cell_type": "markdown",
   "id": "6f11a974",
   "metadata": {},
   "source": [
    "# Clustering Iris Using Principal Component Analysis"
   ]
  },
  {
   "cell_type": "markdown",
   "id": "da077a2e",
   "metadata": {},
   "source": [
    "# Import Libraries"
   ]
  },
  {
   "cell_type": "code",
   "execution_count": 1,
   "id": "d292cfc3",
   "metadata": {},
   "outputs": [],
   "source": [
    "import pandas as pd\n",
    "import numpy as np\n",
    "import matplotlib.pyplot as plt\n",
    "import seaborn as sns"
   ]
  },
  {
   "cell_type": "markdown",
   "id": "720129cf",
   "metadata": {},
   "source": [
    "# Import Dataset"
   ]
  },
  {
   "cell_type": "code",
   "execution_count": 19,
   "id": "863f31d0",
   "metadata": {},
   "outputs": [],
   "source": [
    "from sklearn.datasets import load_iris"
   ]
  },
  {
   "cell_type": "code",
   "execution_count": 20,
   "id": "f5acd6cf",
   "metadata": {},
   "outputs": [],
   "source": [
    "df=load_iris()"
   ]
  },
  {
   "cell_type": "code",
   "execution_count": 21,
   "id": "59b021bc",
   "metadata": {},
   "outputs": [],
   "source": [
    "X=df.data"
   ]
  },
  {
   "cell_type": "code",
   "execution_count": 22,
   "id": "8738b010",
   "metadata": {},
   "outputs": [],
   "source": [
    "y=df.target"
   ]
  },
  {
   "cell_type": "code",
   "execution_count": 23,
   "id": "b956bacf",
   "metadata": {},
   "outputs": [],
   "source": [
    "names=df.target_names"
   ]
  },
  {
   "cell_type": "markdown",
   "id": "71540037",
   "metadata": {},
   "source": [
    "# Fitting PCA Clustering with n=2"
   ]
  },
  {
   "cell_type": "code",
   "execution_count": 24,
   "id": "3a9a1f62",
   "metadata": {},
   "outputs": [],
   "source": [
    "from sklearn.decomposition import PCA\n",
    "model=PCA(n_components=2) #No components to keep\n",
    "y_means=model.fit(X).transform(X)"
   ]
  },
  {
   "cell_type": "markdown",
   "id": "b0068ab7",
   "metadata": {},
   "source": [
    "# Variance Percentage"
   ]
  },
  {
   "cell_type": "code",
   "execution_count": 28,
   "id": "f6d2a6e1",
   "metadata": {},
   "outputs": [
    {
     "data": {
      "image/png": "[encoded data removed]",
      "text/plain": [
       "<Figure size 432x288 with 1 Axes>"
      ]
     },
     "metadata": {
      "needs_background": "light"
     },
     "output_type": "display_data"
    }
   ],
   "source": [
    "color=['red','green','orange']\n",
    "for color,i,target_name in zip(color,[0,1,2],names):\n",
    "    plt.scatter(y_means[y==i,0],y_means[y==i,1],color=color,lw=2,label=names)\n",
    "plt.title(\"Iris Clustering\")\n",
    "plt.show()"
   ]
  },
  {
   "cell_type": "code",
   "execution_count": null,
   "id": "29588571",
   "metadata": {},
   "outputs": [],
   "source": []
  },
  {
   "cell_type": "code",
   "execution_count": null,
   "id": "89390d53",
   "metadata": {},
   "outputs": [],
   "source": []
  }
 ],
 "metadata": {
  "kernelspec": {
   "display_name": "Python 3",
   "language": "python",
   "name": "python3"
  },
  "language_info": {
   "codemirror_mode": {
    "name": "ipython",
    "version": 3
   },
   "file_extension": ".py",
   "mimetype": "text/x-python",
   "name": "python",
   "nbconvert_exporter": "python",
   "pygments_lexer": "ipython3",
   "version": "3.8.8"
  }
 },
 "nbformat": 4,
 "nbformat_minor": 5
}
