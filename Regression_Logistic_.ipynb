{
 "cells": [
  {
   "cell_type": "markdown",
   "id": "a15519ec",
   "metadata": {
    "id": "a15519ec"
   },
   "source": [
    "# Sales Prediction from Exicuting Customer"
   ]
  },
  {
   "cell_type": "markdown",
   "id": "0aeb126a",
   "metadata": {
    "id": "0aeb126a"
   },
   "source": [
    "# Importing Libraries"
   ]
  },
  {
   "cell_type": "code",
   "execution_count": null,
   "id": "64448a0a",
   "metadata": {
    "id": "64448a0a"
   },
   "outputs": [],
   "source": [
    "import pandas as pd\n",
    "import numpy as np\n",
    "import matplotlib.pyplot as plt"
   ]
  },
  {
   "cell_type": "code",
   "execution_count": null,
   "id": "5f2ae9f4",
   "metadata": {
    "id": "5f2ae9f4"
   },
   "outputs": [],
   "source": [
    "df=pd.read_csv(r\"C:\\Users\\DELL\\OneDrive\\Documents\\CSV Files\\DigitalAd_dataset.csv\")"
   ]
  },
  {
   "cell_type": "markdown",
   "id": "ffffdafb",
   "metadata": {
    "id": "ffffdafb"
   },
   "source": [
    "# Summarize Dataset"
   ]
  },
  {
   "cell_type": "code",
   "execution_count": null,
   "id": "ec59203b",
   "metadata": {
    "id": "ec59203b",
    "outputId": "6101cd92-9618-44b8-f04d-a5233927b3da"
   },
   "outputs": [
    {
     "data": {
      "text/html": [
       "<div>\n",
       "<style scoped>\n",
       "    .dataframe tbody tr th:only-of-type {\n",
       "        vertical-align: middle;\n",
       "    }\n",
       "\n",
       "    .dataframe tbody tr th {\n",
       "        vertical-align: top;\n",
       "    }\n",
       "\n",
       "    .dataframe thead th {\n",
       "        text-align: right;\n",
       "    }\n",
       "</style>\n",
       "<table border=\"1\" class=\"dataframe\">\n",
       "  <thead>\n",
       "    <tr style=\"text-align: right;\">\n",
       "      <th></th>\n",
       "      <th>Age</th>\n",
       "      <th>Salary</th>\n",
       "      <th>Status</th>\n",
       "    </tr>\n",
       "  </thead>\n",
       "  <tbody>\n",
       "    <tr>\n",
       "      <th>0</th>\n",
       "      <td>18</td>\n",
       "      <td>82000</td>\n",
       "      <td>0</td>\n",
       "    </tr>\n",
       "    <tr>\n",
       "      <th>1</th>\n",
       "      <td>29</td>\n",
       "      <td>80000</td>\n",
       "      <td>0</td>\n",
       "    </tr>\n",
       "    <tr>\n",
       "      <th>2</th>\n",
       "      <td>47</td>\n",
       "      <td>25000</td>\n",
       "      <td>1</td>\n",
       "    </tr>\n",
       "    <tr>\n",
       "      <th>3</th>\n",
       "      <td>45</td>\n",
       "      <td>26000</td>\n",
       "      <td>1</td>\n",
       "    </tr>\n",
       "    <tr>\n",
       "      <th>4</th>\n",
       "      <td>46</td>\n",
       "      <td>28000</td>\n",
       "      <td>1</td>\n",
       "    </tr>\n",
       "  </tbody>\n",
       "</table>\n",
       "</div>"
      ],
      "text/plain": [
       "   Age  Salary  Status\n",
       "0   18   82000       0\n",
       "1   29   80000       0\n",
       "2   47   25000       1\n",
       "3   45   26000       1\n",
       "4   46   28000       1"
      ]
     },
     "execution_count": 3,
     "metadata": {},
     "output_type": "execute_result"
    }
   ],
   "source": [
    "df.head()"
   ]
  },
  {
   "cell_type": "code",
   "execution_count": null,
   "id": "0054301c",
   "metadata": {
    "id": "0054301c",
    "outputId": "9682a2f8-7d3c-4a2e-ac92-2df9c61d01e6"
   },
   "outputs": [
    {
     "data": {
      "text/plain": [
       "(400, 3)"
      ]
     },
     "execution_count": 4,
     "metadata": {},
     "output_type": "execute_result"
    }
   ],
   "source": [
    "df.shape"
   ]
  },
  {
   "cell_type": "markdown",
   "id": "75bb8fa7",
   "metadata": {
    "id": "75bb8fa7"
   },
   "source": [
    "#### Lets check null values"
   ]
  },
  {
   "cell_type": "code",
   "execution_count": null,
   "id": "6ace206a",
   "metadata": {
    "id": "6ace206a",
    "outputId": "87a6f71d-6a3d-4617-8e1e-ae0b73daf984"
   },
   "outputs": [
    {
     "data": {
      "text/plain": [
       "Age       False\n",
       "Salary    False\n",
       "Status    False\n",
       "dtype: bool"
      ]
     },
     "execution_count": 5,
     "metadata": {},
     "output_type": "execute_result"
    }
   ],
   "source": [
    "df.isnull().any()"
   ]
  },
  {
   "cell_type": "markdown",
   "id": "1c3c99a0",
   "metadata": {
    "id": "1c3c99a0"
   },
   "source": [
    "##### so no columns here which have null values"
   ]
  },
  {
   "cell_type": "code",
   "execution_count": null,
   "id": "65974592",
   "metadata": {
    "id": "65974592",
    "outputId": "f49d7dc3-68a4-4498-e7c3-aa1045c426b6"
   },
   "outputs": [
    {
     "data": {
      "text/html": [
       "<div>\n",
       "<style scoped>\n",
       "    .dataframe tbody tr th:only-of-type {\n",
       "        vertical-align: middle;\n",
       "    }\n",
       "\n",
       "    .dataframe tbody tr th {\n",
       "        vertical-align: top;\n",
       "    }\n",
       "\n",
       "    .dataframe thead th {\n",
       "        text-align: right;\n",
       "    }\n",
       "</style>\n",
       "<table border=\"1\" class=\"dataframe\">\n",
       "  <thead>\n",
       "    <tr style=\"text-align: right;\">\n",
       "      <th></th>\n",
       "      <th>Age</th>\n",
       "      <th>Salary</th>\n",
       "      <th>Status</th>\n",
       "    </tr>\n",
       "  </thead>\n",
       "  <tbody>\n",
       "    <tr>\n",
       "      <th>count</th>\n",
       "      <td>400.000000</td>\n",
       "      <td>400.000000</td>\n",
       "      <td>400.000000</td>\n",
       "    </tr>\n",
       "    <tr>\n",
       "      <th>mean</th>\n",
       "      <td>37.655000</td>\n",
       "      <td>69742.500000</td>\n",
       "      <td>0.357500</td>\n",
       "    </tr>\n",
       "    <tr>\n",
       "      <th>std</th>\n",
       "      <td>10.482877</td>\n",
       "      <td>34096.960282</td>\n",
       "      <td>0.479864</td>\n",
       "    </tr>\n",
       "    <tr>\n",
       "      <th>min</th>\n",
       "      <td>18.000000</td>\n",
       "      <td>15000.000000</td>\n",
       "      <td>0.000000</td>\n",
       "    </tr>\n",
       "    <tr>\n",
       "      <th>25%</th>\n",
       "      <td>29.750000</td>\n",
       "      <td>43000.000000</td>\n",
       "      <td>0.000000</td>\n",
       "    </tr>\n",
       "    <tr>\n",
       "      <th>50%</th>\n",
       "      <td>37.000000</td>\n",
       "      <td>70000.000000</td>\n",
       "      <td>0.000000</td>\n",
       "    </tr>\n",
       "    <tr>\n",
       "      <th>75%</th>\n",
       "      <td>46.000000</td>\n",
       "      <td>88000.000000</td>\n",
       "      <td>1.000000</td>\n",
       "    </tr>\n",
       "    <tr>\n",
       "      <th>max</th>\n",
       "      <td>60.000000</td>\n",
       "      <td>150000.000000</td>\n",
       "      <td>1.000000</td>\n",
       "    </tr>\n",
       "  </tbody>\n",
       "</table>\n",
       "</div>"
      ],
      "text/plain": [
       "              Age         Salary      Status\n",
       "count  400.000000     400.000000  400.000000\n",
       "mean    37.655000   69742.500000    0.357500\n",
       "std     10.482877   34096.960282    0.479864\n",
       "min     18.000000   15000.000000    0.000000\n",
       "25%     29.750000   43000.000000    0.000000\n",
       "50%     37.000000   70000.000000    0.000000\n",
       "75%     46.000000   88000.000000    1.000000\n",
       "max     60.000000  150000.000000    1.000000"
      ]
     },
     "execution_count": 6,
     "metadata": {},
     "output_type": "execute_result"
    }
   ],
   "source": [
    "df.describe()"
   ]
  },
  {
   "cell_type": "markdown",
   "id": "738cc24e",
   "metadata": {
    "id": "738cc24e"
   },
   "source": [
    "##### Average sallary of costumer:"
   ]
  },
  {
   "cell_type": "code",
   "execution_count": null,
   "id": "759fcae4",
   "metadata": {
    "id": "759fcae4",
    "outputId": "79bef1bc-3223-4cea-8f0e-e3a632261103"
   },
   "outputs": [
    {
     "name": "stdout",
     "output_type": "stream",
     "text": [
      "Average salary of costumer is: 69742.5\n"
     ]
    }
   ],
   "source": [
    "print(\"Average salary of costumer is:\",df.Salary.mean())"
   ]
  },
  {
   "cell_type": "markdown",
   "id": "574ff650",
   "metadata": {
    "id": "574ff650"
   },
   "source": [
    "##### Average age of person purchasing product"
   ]
  },
  {
   "cell_type": "code",
   "execution_count": null,
   "id": "b14a8374",
   "metadata": {
    "id": "b14a8374"
   },
   "outputs": [],
   "source": [
    "d=df[df['Status']==1]"
   ]
  },
  {
   "cell_type": "code",
   "execution_count": null,
   "id": "8dde5710",
   "metadata": {
    "id": "8dde5710",
    "outputId": "eb01babd-254c-4dba-f75c-b2073405771e"
   },
   "outputs": [
    {
     "data": {
      "text/plain": [
       "46.39160839160839"
      ]
     },
     "execution_count": 9,
     "metadata": {},
     "output_type": "execute_result"
    }
   ],
   "source": [
    "d.Age.mean()"
   ]
  },
  {
   "cell_type": "markdown",
   "id": "d88968f8",
   "metadata": {
    "id": "d88968f8"
   },
   "source": [
    "# Segregate Dataset into X(independent variable) and Y(dependent Variable)"
   ]
  },
  {
   "cell_type": "code",
   "execution_count": null,
   "id": "1a32893a",
   "metadata": {
    "id": "1a32893a"
   },
   "outputs": [],
   "source": [
    "x=df.iloc[:,:-1] #independent variable"
   ]
  },
  {
   "cell_type": "code",
   "execution_count": null,
   "id": "e2344000",
   "metadata": {
    "id": "e2344000"
   },
   "outputs": [],
   "source": [
    "y=df.iloc[:,-1]   #dependent variable"
   ]
  },
  {
   "cell_type": "markdown",
   "id": "a26a2071",
   "metadata": {
    "id": "a26a2071"
   },
   "source": [
    "# Splitting dataset into train and test"
   ]
  },
  {
   "cell_type": "code",
   "execution_count": null,
   "id": "b324fef3",
   "metadata": {
    "id": "b324fef3"
   },
   "outputs": [],
   "source": [
    "from sklearn.model_selection import train_test_split"
   ]
  },
  {
   "cell_type": "code",
   "execution_count": null,
   "id": "4ef14d20",
   "metadata": {
    "id": "4ef14d20"
   },
   "outputs": [],
   "source": [
    "x_train,x_test,y_train,y_test=train_test_split(x,y,test_size=0.2,random_state=0)"
   ]
  },
  {
   "cell_type": "code",
   "execution_count": null,
   "id": "732b18ff",
   "metadata": {
    "id": "732b18ff",
    "outputId": "0169f1ac-2f5a-40c1-8606-5d4efc6cb80b"
   },
   "outputs": [
    {
     "data": {
      "text/html": [
       "<div>\n",
       "<style scoped>\n",
       "    .dataframe tbody tr th:only-of-type {\n",
       "        vertical-align: middle;\n",
       "    }\n",
       "\n",
       "    .dataframe tbody tr th {\n",
       "        vertical-align: top;\n",
       "    }\n",
       "\n",
       "    .dataframe thead th {\n",
       "        text-align: right;\n",
       "    }\n",
       "</style>\n",
       "<table border=\"1\" class=\"dataframe\">\n",
       "  <thead>\n",
       "    <tr style=\"text-align: right;\">\n",
       "      <th></th>\n",
       "      <th>Age</th>\n",
       "      <th>Salary</th>\n",
       "    </tr>\n",
       "  </thead>\n",
       "  <tbody>\n",
       "    <tr>\n",
       "      <th>336</th>\n",
       "      <td>38</td>\n",
       "      <td>113000</td>\n",
       "    </tr>\n",
       "    <tr>\n",
       "      <th>64</th>\n",
       "      <td>28</td>\n",
       "      <td>87000</td>\n",
       "    </tr>\n",
       "    <tr>\n",
       "      <th>55</th>\n",
       "      <td>31</td>\n",
       "      <td>68000</td>\n",
       "    </tr>\n",
       "    <tr>\n",
       "      <th>106</th>\n",
       "      <td>36</td>\n",
       "      <td>75000</td>\n",
       "    </tr>\n",
       "    <tr>\n",
       "      <th>300</th>\n",
       "      <td>39</td>\n",
       "      <td>79000</td>\n",
       "    </tr>\n",
       "    <tr>\n",
       "      <th>...</th>\n",
       "      <td>...</td>\n",
       "      <td>...</td>\n",
       "    </tr>\n",
       "    <tr>\n",
       "      <th>323</th>\n",
       "      <td>35</td>\n",
       "      <td>79000</td>\n",
       "    </tr>\n",
       "    <tr>\n",
       "      <th>192</th>\n",
       "      <td>55</td>\n",
       "      <td>130000</td>\n",
       "    </tr>\n",
       "    <tr>\n",
       "      <th>117</th>\n",
       "      <td>33</td>\n",
       "      <td>31000</td>\n",
       "    </tr>\n",
       "    <tr>\n",
       "      <th>47</th>\n",
       "      <td>25</td>\n",
       "      <td>87000</td>\n",
       "    </tr>\n",
       "    <tr>\n",
       "      <th>172</th>\n",
       "      <td>20</td>\n",
       "      <td>82000</td>\n",
       "    </tr>\n",
       "  </tbody>\n",
       "</table>\n",
       "<p>320 rows × 2 columns</p>\n",
       "</div>"
      ],
      "text/plain": [
       "     Age  Salary\n",
       "336   38  113000\n",
       "64    28   87000\n",
       "55    31   68000\n",
       "106   36   75000\n",
       "300   39   79000\n",
       "..   ...     ...\n",
       "323   35   79000\n",
       "192   55  130000\n",
       "117   33   31000\n",
       "47    25   87000\n",
       "172   20   82000\n",
       "\n",
       "[320 rows x 2 columns]"
      ]
     },
     "execution_count": 14,
     "metadata": {},
     "output_type": "execute_result"
    }
   ],
   "source": [
    "x_train"
   ]
  },
  {
   "cell_type": "markdown",
   "id": "5a9b7bd5",
   "metadata": {
    "id": "5a9b7bd5"
   },
   "source": [
    "# Features Scalling"
   ]
  },
  {
   "cell_type": "markdown",
   "id": "04393a90",
   "metadata": {
    "id": "04393a90"
   },
   "source": [
    "### we scale our data to make all the features contribute equally to the result"
   ]
  },
  {
   "cell_type": "markdown",
   "id": "1b47aa97",
   "metadata": {
    "id": "1b47aa97"
   },
   "source": [
    "### Fit_transform:fit method calculated the mean and variance of each of the features present in the data"
   ]
  },
  {
   "cell_type": "markdown",
   "id": "7870fad6",
   "metadata": {
    "id": "7870fad6"
   },
   "source": [
    "### Transform: this method is transform all the the features using respective mean and varience"
   ]
  },
  {
   "cell_type": "code",
   "execution_count": null,
   "id": "ab6d4512",
   "metadata": {
    "id": "ab6d4512"
   },
   "outputs": [],
   "source": [
    "from sklearn.preprocessing import StandardScaler\n",
    "sc=StandardScaler()\n",
    "x_train=sc.fit_transform(x_train)\n",
    "x_test=sc.transform(x_test)"
   ]
  },
  {
   "cell_type": "markdown",
   "id": "81b0bf28",
   "metadata": {
    "id": "81b0bf28"
   },
   "source": [
    "# Training Model"
   ]
  },
  {
   "cell_type": "code",
   "execution_count": null,
   "id": "31e43967",
   "metadata": {
    "id": "31e43967"
   },
   "outputs": [],
   "source": [
    "from sklearn.linear_model import LogisticRegression"
   ]
  },
  {
   "cell_type": "code",
   "execution_count": null,
   "id": "0866c5ef",
   "metadata": {
    "id": "0866c5ef"
   },
   "outputs": [],
   "source": [
    "LR_model=LogisticRegression()"
   ]
  },
  {
   "cell_type": "code",
   "execution_count": null,
   "id": "acac30c2",
   "metadata": {
    "id": "acac30c2",
    "outputId": "f44bb62a-974e-4867-c3cd-547c57a5c732"
   },
   "outputs": [
    {
     "data": {
      "text/plain": [
       "LogisticRegression()"
      ]
     },
     "execution_count": 18,
     "metadata": {},
     "output_type": "execute_result"
    }
   ],
   "source": [
    "LR_model.fit(x_train,y_train)"
   ]
  },
  {
   "cell_type": "markdown",
   "id": "62ecc5e8",
   "metadata": {
    "id": "62ecc5e8"
   },
   "source": [
    "# Prediction"
   ]
  },
  {
   "cell_type": "markdown",
   "id": "97be8554",
   "metadata": {
    "id": "97be8554"
   },
   "source": [
    "## Whether New costomer with Age and Salary will buy product or not"
   ]
  },
  {
   "cell_type": "code",
   "execution_count": null,
   "id": "618cba41",
   "metadata": {
    "id": "618cba41",
    "outputId": "3c0bcffb-45a6-467e-fe9e-efd9496502bf"
   },
   "outputs": [
    {
     "name": "stdout",
     "output_type": "stream",
     "text": [
      "Enter the Age:25\n",
      "Enter the Salary:500000\n",
      "Costomer will Bye Product\n"
     ]
    }
   ],
   "source": [
    "age=int(input(\"Enter the Age:\"))\n",
    "sal=int(input(\"Enter the Salary:\"))\n",
    "input=[[age,sal]]\n",
    "\n",
    "result=LR_model.predict(sc.transform(input))\n",
    "if result==1:\n",
    "    print(\"Costomer will Bye Product\")\n",
    "else:\n",
    "    print(\"Costomer wont Bye Product \")"
   ]
  },
  {
   "cell_type": "code",
   "execution_count": null,
   "id": "b6e44be9",
   "metadata": {
    "id": "b6e44be9",
    "outputId": "69da8529-e435-4071-c3ff-84fb28488232"
   },
   "outputs": [
    {
     "name": "stdout",
     "output_type": "stream",
     "text": [
      "[1]\n"
     ]
    }
   ],
   "source": [
    "print(result)"
   ]
  },
  {
   "cell_type": "markdown",
   "id": "bc06aa29",
   "metadata": {
    "id": "bc06aa29"
   },
   "source": [
    "## Prediction for all test Data"
   ]
  },
  {
   "cell_type": "code",
   "execution_count": null,
   "id": "7af3aa0c",
   "metadata": {
    "id": "7af3aa0c"
   },
   "outputs": [],
   "source": [
    "predicted=LR_model.predict(x_test)\n",
    "Actual=y_test"
   ]
  },
  {
   "cell_type": "code",
   "execution_count": null,
   "id": "aa044236",
   "metadata": {
    "id": "aa044236",
    "outputId": "157856ee-9dd4-4837-dbe4-0389e8d5a207"
   },
   "outputs": [
    {
     "data": {
      "text/html": [
       "<div>\n",
       "<style scoped>\n",
       "    .dataframe tbody tr th:only-of-type {\n",
       "        vertical-align: middle;\n",
       "    }\n",
       "\n",
       "    .dataframe tbody tr th {\n",
       "        vertical-align: top;\n",
       "    }\n",
       "\n",
       "    .dataframe thead th {\n",
       "        text-align: right;\n",
       "    }\n",
       "</style>\n",
       "<table border=\"1\" class=\"dataframe\">\n",
       "  <thead>\n",
       "    <tr style=\"text-align: right;\">\n",
       "      <th></th>\n",
       "      <th>predicted</th>\n",
       "      <th>Actual</th>\n",
       "    </tr>\n",
       "  </thead>\n",
       "  <tbody>\n",
       "    <tr>\n",
       "      <th>132</th>\n",
       "      <td>0</td>\n",
       "      <td>1</td>\n",
       "    </tr>\n",
       "    <tr>\n",
       "      <th>309</th>\n",
       "      <td>0</td>\n",
       "      <td>1</td>\n",
       "    </tr>\n",
       "    <tr>\n",
       "      <th>341</th>\n",
       "      <td>1</td>\n",
       "      <td>1</td>\n",
       "    </tr>\n",
       "    <tr>\n",
       "      <th>196</th>\n",
       "      <td>1</td>\n",
       "      <td>1</td>\n",
       "    </tr>\n",
       "    <tr>\n",
       "      <th>246</th>\n",
       "      <td>0</td>\n",
       "      <td>0</td>\n",
       "    </tr>\n",
       "    <tr>\n",
       "      <th>...</th>\n",
       "      <td>...</td>\n",
       "      <td>...</td>\n",
       "    </tr>\n",
       "    <tr>\n",
       "      <th>14</th>\n",
       "      <td>0</td>\n",
       "      <td>0</td>\n",
       "    </tr>\n",
       "    <tr>\n",
       "      <th>363</th>\n",
       "      <td>0</td>\n",
       "      <td>0</td>\n",
       "    </tr>\n",
       "    <tr>\n",
       "      <th>304</th>\n",
       "      <td>0</td>\n",
       "      <td>1</td>\n",
       "    </tr>\n",
       "    <tr>\n",
       "      <th>361</th>\n",
       "      <td>0</td>\n",
       "      <td>1</td>\n",
       "    </tr>\n",
       "    <tr>\n",
       "      <th>329</th>\n",
       "      <td>1</td>\n",
       "      <td>1</td>\n",
       "    </tr>\n",
       "  </tbody>\n",
       "</table>\n",
       "<p>80 rows × 2 columns</p>\n",
       "</div>"
      ],
      "text/plain": [
       "     predicted  Actual\n",
       "132          0       1\n",
       "309          0       1\n",
       "341          1       1\n",
       "196          1       1\n",
       "246          0       0\n",
       "..         ...     ...\n",
       "14           0       0\n",
       "363          0       0\n",
       "304          0       1\n",
       "361          0       1\n",
       "329          1       1\n",
       "\n",
       "[80 rows x 2 columns]"
      ]
     },
     "execution_count": 29,
     "metadata": {},
     "output_type": "execute_result"
    }
   ],
   "source": [
    "df=pd.DataFrame({\"predicted\":predicted,\"Actual\":Actual})\n",
    "df"
   ]
  },
  {
   "cell_type": "markdown",
   "id": "a34ed03f",
   "metadata": {
    "id": "a34ed03f"
   },
   "source": [
    "# Let Reset Index"
   ]
  },
  {
   "cell_type": "markdown",
   "id": "dbb48770",
   "metadata": {
    "id": "dbb48770"
   },
   "source": [
    "## drop"
   ]
  },
  {
   "cell_type": "markdown",
   "id": "60fc7947",
   "metadata": {
    "id": "60fc7947"
   },
   "source": [
    "### It tries not to insert the index into the DataFrame columns. It resets the index of the concerned pandas DataFrame to the default integer index. It takes a boolean value i.e. True or False which is by default False."
   ]
  },
  {
   "cell_type": "code",
   "execution_count": null,
   "id": "f4891d99",
   "metadata": {
    "id": "f4891d99",
    "outputId": "9f75b9f2-b735-4b19-9935-cf776abfda6b"
   },
   "outputs": [
    {
     "data": {
      "text/html": [
       "<div>\n",
       "<style scoped>\n",
       "    .dataframe tbody tr th:only-of-type {\n",
       "        vertical-align: middle;\n",
       "    }\n",
       "\n",
       "    .dataframe tbody tr th {\n",
       "        vertical-align: top;\n",
       "    }\n",
       "\n",
       "    .dataframe thead th {\n",
       "        text-align: right;\n",
       "    }\n",
       "</style>\n",
       "<table border=\"1\" class=\"dataframe\">\n",
       "  <thead>\n",
       "    <tr style=\"text-align: right;\">\n",
       "      <th></th>\n",
       "      <th>predicted</th>\n",
       "      <th>Actual</th>\n",
       "    </tr>\n",
       "  </thead>\n",
       "  <tbody>\n",
       "    <tr>\n",
       "      <th>0</th>\n",
       "      <td>0</td>\n",
       "      <td>1</td>\n",
       "    </tr>\n",
       "    <tr>\n",
       "      <th>1</th>\n",
       "      <td>0</td>\n",
       "      <td>1</td>\n",
       "    </tr>\n",
       "    <tr>\n",
       "      <th>2</th>\n",
       "      <td>1</td>\n",
       "      <td>1</td>\n",
       "    </tr>\n",
       "    <tr>\n",
       "      <th>3</th>\n",
       "      <td>1</td>\n",
       "      <td>1</td>\n",
       "    </tr>\n",
       "    <tr>\n",
       "      <th>4</th>\n",
       "      <td>0</td>\n",
       "      <td>0</td>\n",
       "    </tr>\n",
       "    <tr>\n",
       "      <th>...</th>\n",
       "      <td>...</td>\n",
       "      <td>...</td>\n",
       "    </tr>\n",
       "    <tr>\n",
       "      <th>75</th>\n",
       "      <td>0</td>\n",
       "      <td>0</td>\n",
       "    </tr>\n",
       "    <tr>\n",
       "      <th>76</th>\n",
       "      <td>0</td>\n",
       "      <td>0</td>\n",
       "    </tr>\n",
       "    <tr>\n",
       "      <th>77</th>\n",
       "      <td>0</td>\n",
       "      <td>1</td>\n",
       "    </tr>\n",
       "    <tr>\n",
       "      <th>78</th>\n",
       "      <td>0</td>\n",
       "      <td>1</td>\n",
       "    </tr>\n",
       "    <tr>\n",
       "      <th>79</th>\n",
       "      <td>1</td>\n",
       "      <td>1</td>\n",
       "    </tr>\n",
       "  </tbody>\n",
       "</table>\n",
       "<p>80 rows × 2 columns</p>\n",
       "</div>"
      ],
      "text/plain": [
       "    predicted  Actual\n",
       "0           0       1\n",
       "1           0       1\n",
       "2           1       1\n",
       "3           1       1\n",
       "4           0       0\n",
       "..        ...     ...\n",
       "75          0       0\n",
       "76          0       0\n",
       "77          0       1\n",
       "78          0       1\n",
       "79          1       1\n",
       "\n",
       "[80 rows x 2 columns]"
      ]
     },
     "execution_count": 31,
     "metadata": {},
     "output_type": "execute_result"
    }
   ],
   "source": [
    "df.reset_index(drop=True)\n"
   ]
  },
  {
   "cell_type": "code",
   "execution_count": null,
   "id": "8bd2a765",
   "metadata": {
    "id": "8bd2a765",
    "outputId": "a3baf460-aa0f-4e91-dc90-8a1d6c57a29d"
   },
   "outputs": [
    {
     "data": {
      "text/html": [
       "<div>\n",
       "<style scoped>\n",
       "    .dataframe tbody tr th:only-of-type {\n",
       "        vertical-align: middle;\n",
       "    }\n",
       "\n",
       "    .dataframe tbody tr th {\n",
       "        vertical-align: top;\n",
       "    }\n",
       "\n",
       "    .dataframe thead th {\n",
       "        text-align: right;\n",
       "    }\n",
       "</style>\n",
       "<table border=\"1\" class=\"dataframe\">\n",
       "  <thead>\n",
       "    <tr style=\"text-align: right;\">\n",
       "      <th></th>\n",
       "      <th>predicted</th>\n",
       "      <th>Actual</th>\n",
       "    </tr>\n",
       "  </thead>\n",
       "  <tbody>\n",
       "    <tr>\n",
       "      <th>0</th>\n",
       "      <td>0</td>\n",
       "      <td>1</td>\n",
       "    </tr>\n",
       "    <tr>\n",
       "      <th>1</th>\n",
       "      <td>0</td>\n",
       "      <td>1</td>\n",
       "    </tr>\n",
       "    <tr>\n",
       "      <th>2</th>\n",
       "      <td>1</td>\n",
       "      <td>1</td>\n",
       "    </tr>\n",
       "    <tr>\n",
       "      <th>3</th>\n",
       "      <td>1</td>\n",
       "      <td>1</td>\n",
       "    </tr>\n",
       "    <tr>\n",
       "      <th>4</th>\n",
       "      <td>0</td>\n",
       "      <td>0</td>\n",
       "    </tr>\n",
       "    <tr>\n",
       "      <th>...</th>\n",
       "      <td>...</td>\n",
       "      <td>...</td>\n",
       "    </tr>\n",
       "    <tr>\n",
       "      <th>75</th>\n",
       "      <td>0</td>\n",
       "      <td>0</td>\n",
       "    </tr>\n",
       "    <tr>\n",
       "      <th>76</th>\n",
       "      <td>0</td>\n",
       "      <td>0</td>\n",
       "    </tr>\n",
       "    <tr>\n",
       "      <th>77</th>\n",
       "      <td>0</td>\n",
       "      <td>1</td>\n",
       "    </tr>\n",
       "    <tr>\n",
       "      <th>78</th>\n",
       "      <td>0</td>\n",
       "      <td>1</td>\n",
       "    </tr>\n",
       "    <tr>\n",
       "      <th>79</th>\n",
       "      <td>1</td>\n",
       "      <td>1</td>\n",
       "    </tr>\n",
       "  </tbody>\n",
       "</table>\n",
       "<p>80 rows × 2 columns</p>\n",
       "</div>"
      ],
      "text/plain": [
       "    predicted  Actual\n",
       "0           0       1\n",
       "1           0       1\n",
       "2           1       1\n",
       "3           1       1\n",
       "4           0       0\n",
       "..        ...     ...\n",
       "75          0       0\n",
       "76          0       0\n",
       "77          0       1\n",
       "78          0       1\n",
       "79          1       1\n",
       "\n",
       "[80 rows x 2 columns]"
      ]
     },
     "execution_count": 33,
     "metadata": {},
     "output_type": "execute_result"
    }
   ],
   "source": [
    "df"
   ]
  },
  {
   "cell_type": "markdown",
   "id": "be348c04",
   "metadata": {
    "id": "be348c04"
   },
   "source": [
    "# Evaluating the Model :Confusion Matrix`"
   ]
  },
  {
   "cell_type": "markdown",
   "id": "95637135",
   "metadata": {
    "id": "95637135"
   },
   "source": [
    "![WhatsApp%20Image%202022-03-20%20at%2011.43.50%20AM.jpeg](attachment:WhatsApp%20Image%202022-03-20%20at%2011.43.50%20AM.jpeg)"
   ]
  },
  {
   "cell_type": "markdown",
   "id": "059824d4",
   "metadata": {
    "id": "059824d4"
   },
   "source": [
    "![WhatsApp%20Image%202022-03-20%20at%2011.48.09%20AM.jpeg](attachment:WhatsApp%20Image%202022-03-20%20at%2011.48.09%20AM.jpeg)"
   ]
  },
  {
   "cell_type": "code",
   "execution_count": 1,
   "id": "30ce63a8",
   "metadata": {
    "id": "30ce63a8"
   },
   "outputs": [],
   "source": [
    "from sklearn.metrics import confusion_matrix,accuracy_score"
   ]
  },
  {
   "cell_type": "code",
   "execution_count": null,
   "id": "5e67dcae",
   "metadata": {
    "id": "5e67dcae"
   },
   "outputs": [],
   "source": [
    "cm=confusion_matrix(Actual,predicted)"
   ]
  },
  {
   "cell_type": "code",
   "execution_count": null,
   "id": "322d60fb",
   "metadata": {
    "id": "322d60fb",
    "outputId": "d912916c-21bd-4f44-b792-c15978641604"
   },
   "outputs": [
    {
     "name": "stdout",
     "output_type": "stream",
     "text": [
      "Confusion Matrix :\n",
      " [[48  1]\n",
      " [16 15]]\n"
     ]
    }
   ],
   "source": [
    "print(\"Confusion Matrix :\\n\",cm)"
   ]
  },
  {
   "cell_type": "code",
   "execution_count": null,
   "id": "14ba115e",
   "metadata": {
    "id": "14ba115e",
    "outputId": "69865657-dd50-4219-97d1-b9d051189e67"
   },
   "outputs": [
    {
     "name": "stdout",
     "output_type": "stream",
     "text": [
      "Accuracy Of the Model:\n",
      " 78.75 %\n"
     ]
    }
   ],
   "source": [
    "print(\"Accuracy Of the Model:\\n\",accuracy_score(Actual,predicted)*100,\"%\")"
   ]
  },
  {
   "cell_type": "code",
   "execution_count": null,
   "id": "a88cbac4",
   "metadata": {
    "id": "a88cbac4"
   },
   "outputs": [],
   "source": []
  },
  {
   "cell_type": "code",
   "execution_count": null,
   "id": "29fd4f51",
   "metadata": {
    "id": "29fd4f51"
   },
   "outputs": [],
   "source": []
  }
 ],
 "metadata": {
  "colab": {
   "name": "Copy of Logistic_Regresion.ipynb",
   "provenance": []
  },
  "kernelspec": {
   "display_name": "Python 3",
   "language": "python",
   "name": "python3"
  },
  "language_info": {
   "codemirror_mode": {
    "name": "ipython",
    "version": 3
   },
   "file_extension": ".py",
   "mimetype": "text/x-python",
   "name": "python",
   "nbconvert_exporter": "python",
   "pygments_lexer": "ipython3",
   "version": "3.8.8"
  }
 },
 "nbformat": 4,
 "nbformat_minor": 5
}
